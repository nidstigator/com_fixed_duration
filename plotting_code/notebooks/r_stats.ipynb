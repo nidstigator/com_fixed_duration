{
 "cells": [
  {
   "cell_type": "markdown",
   "metadata": {},
   "source": [
    "Importing data"
   ]
  },
  {
   "cell_type": "code",
   "execution_count": 1,
   "metadata": {},
   "outputs": [
    {
     "name": "stderr",
     "output_type": "stream",
     "text": [
      "Warning message:\n",
      "\"package 'coin' was built under R version 3.5.2\"Loading required package: survival\n",
      "Loading required package: Matrix\n",
      "Warning message:\n",
      "\"package 'lmerTest' was built under R version 3.5.2\"\n",
      "Attaching package: 'lmerTest'\n",
      "\n",
      "The following object is masked from 'package:lme4':\n",
      "\n",
      "    lmer\n",
      "\n",
      "The following object is masked from 'package:stats':\n",
      "\n",
      "    step\n",
      "\n",
      "Loading required package: carData\n"
     ]
    }
   ],
   "source": [
    "# uncomment if using this code in RStudio\n",
    "# setwd(dirname(rstudioapi::getActiveDocumentContext()$path))\n",
    "# install.packages('coin')\n",
    "\n",
    "library(coin)\n",
    "library(lme4)\n",
    "library(lmerTest)\n",
    "library(plyr)\n",
    "library(xtable)\n",
    "library(LMERConvenienceFunctions)\n",
    "library(car)\n",
    "# library(lmerTest) see also https://link.springer.com/article/10.3758/s13428-016-0809-y \n",
    "\n",
    "source(\"r_utils/mer-utils.R\")\n",
    "source(\"r_utils/regression-utils.R\")\n",
    "\n",
    "data_path = \"C:/Users/Arkady/Google Drive/data/eyehandrdk/%s/processed/choices.txt\"\n",
    "output_table_path = \"C:/Users/Arkady/Dropbox/Research/Journal papers/2018 CoM/tables/\"\n",
    "\n",
    "choice.data_1 = read.table(sprintf(data_path, \"exp_1\"), header=T)\n",
    "choice.data_2 = read.table(sprintf(data_path, \"exp_2\"), header=T)"
   ]
  },
  {
   "cell_type": "markdown",
   "metadata": {},
   "source": [
    "A bit of preprocessing to create variables for analyzing sequential effects"
   ]
  },
  {
   "cell_type": "code",
   "execution_count": 2,
   "metadata": {
    "scrolled": false
   },
   "outputs": [
    {
     "name": "stdout",
     "output_type": "stream",
     "text": [
      "'data.frame':\t9157 obs. of  50 variables:\n",
      " $ trial_unique              : chr  \"269_100\" \"269_1000\" \"269_1001\" \"269_1002\" ...\n",
      " $ subj_id                   : Factor w/ 4 levels \"269\",\"275\",\"391\",..: 1 1 1 1 1 1 1 1 1 1 ...\n",
      " $ session_no                : int  1 2 2 2 2 2 2 2 2 2 ...\n",
      " $ block_no                  : int  2 7 7 7 7 7 7 7 7 7 ...\n",
      " $ trial_no                  : int  40 40 41 42 43 44 45 46 47 48 ...\n",
      " $ is_practice               : Factor w/ 2 levels \"False\",\"True\": 2 2 2 2 2 2 2 2 2 2 ...\n",
      " $ direction                 : num  180 180 0 180 0 180 0 0 0 0 ...\n",
      " $ coherence                 : num  0.064 0 0.032 0.064 0.256 0.256 0.032 0.032 0.128 0.064 ...\n",
      " $ duration                  : int  800 800 800 800 800 800 800 800 800 800 ...\n",
      " $ response                  : int  0 180 0 180 0 180 0 0 0 180 ...\n",
      " $ response_time             : num  1.147 0.935 1.208 1.318 0.785 ...\n",
      " $ is_correct                : Factor w/ 2 levels \"False\",\"True\": 1 2 2 2 2 2 2 2 2 1 ...\n",
      " $ xflips                    : int  0 0 0 3 0 0 0 0 0 0 ...\n",
      " $ max_d                     : num  58.6 71.4 33.1 403.8 -38 ...\n",
      " $ idx_max_d                 : num  69 56 85 70 33 23 49 50 37 31 ...\n",
      " $ midline_d                 : num  0 0 0 127 0 0 0 0 0 0 ...\n",
      " $ idx_midline_d             : num  47 27 43 65 19 10 31 30 22 23 ...\n",
      " $ midline_d_y               : num  30 30 30 448 30 30 31 30 30 30 ...\n",
      " $ is_com                    : Factor w/ 2 levels \"False\",\"True\": 1 1 1 2 1 1 1 1 1 1 ...\n",
      "  ..- attr(*, \"contrasts\")= num [1:2, 1] -0.5 0.5\n",
      "  .. ..- attr(*, \"dimnames\")=List of 2\n",
      "  .. .. ..$ : chr  \"False\" \"True\"\n",
      "  .. .. ..$ : NULL\n",
      " $ com_type                  : Factor w/ 2 levels \"early\",\"late\": 1 1 1 1 1 1 1 1 1 1 ...\n",
      " $ is_correct_init           : Factor w/ 2 levels \"False\",\"True\": 1 2 2 1 2 2 2 2 2 1 ...\n",
      " $ is_double_com             : Factor w/ 1 level \"False\": 1 1 1 1 1 1 1 1 1 1 ...\n",
      " $ hand_IT                   : num  0.453 0.251 0.413 0.362 0.171 ...\n",
      " $ motion_time               : num  0.684 0.674 0.785 0.946 0.604 ...\n",
      " $ eye_IT                    : num  0.302 0.231 0.242 0.241 0.161 ...\n",
      " $ eye_initial_decision      : num  -1 1 -1 1 1 1 1 -1 1 -1 ...\n",
      " $ stim_hand_IT              : num  0 0 0 0 0 0 0 0 0 0 ...\n",
      " $ stim_eye_IT               : num  0 0 0 0 0 0 0 0 0 0 ...\n",
      " $ ID_lag                    : num  0.1509 0.0201 0.171 0.1206 0.0101 ...\n",
      " $ com_saccade_idx           : num  NaN NaN NaN 77 NaN NaN NaN NaN NaN NaN ...\n",
      " $ com_t                     : num  NaN NaN NaN 0.654 NaN NaN NaN NaN NaN NaN ...\n",
      " $ com_saccade_t             : num  NaN NaN NaN 0.775 NaN ...\n",
      " $ com_lag                   : num  NaN NaN NaN -0.121 NaN ...\n",
      " $ hand_IT_z                 : num  0.52 -0.271 0.363 0.164 -0.586 ...\n",
      " $ eye_IT_z                  : num  0.3083 -0.0748 -0.0186 -0.0198 -0.4565 ...\n",
      " $ ID_lag_z                  : num  0.419 -0.305 0.531 0.252 -0.361 ...\n",
      " $ dwell_incorrect           : num  0.43 0 0 0 0 ...\n",
      " $ dwell_correct             : num  0 0.677 0.65 0.687 0.718 ...\n",
      " $ dwell_incorrect_not_cursor: num  0.316 0 0 0 0 ...\n",
      " $ dwell_correct_not_cursor  : num  0 0.323 0.3 0.351 0.5 ...\n",
      " $ dwell_cursor              : num  0 0 0.0083 0 0 0 0 0 0 0 ...\n",
      " $ dwell_chosen              : num  0.43 0.677 0.65 0.687 0.718 ...\n",
      " $ dwell_chosen_not_cursor   : num  0.316 0.323 0.3 0.351 0.5 ...\n",
      " $ dwell_unchosen            : num  0 0 0 0 0 0 0 0 0 0 ...\n",
      " $ dwell_unchosen_not_cursor : num  0 0 0 0 0 0 0 0 0 0 ...\n",
      " $ hand_IT_tertile           : int  3 2 3 3 2 1 2 2 2 2 ...\n",
      " $ eye_IT_tertile            : num  2 2 2 2 1 1 2 2 1 1 ...\n",
      " $ all_trial_no              : num  100 1000 1001 1002 1003 ...\n",
      " $ lasttrial.resp            : Factor w/ 2 levels \"FALSE\",\"TRUE\": 2 1 1 1 1 1 1 2 2 1 ...\n",
      "  ..- attr(*, \"contrasts\")= num [1:2, 1] -0.5 0.5\n",
      "  .. ..- attr(*, \"dimnames\")=List of 2\n",
      "  .. .. ..$ : chr  \"FALSE\" \"TRUE\"\n",
      "  .. .. ..$ : NULL\n",
      " $ lasttrial.dir             : Factor w/ 2 levels \"FALSE\",\"TRUE\": 1 1 1 1 1 1 1 2 2 2 ...\n",
      "  ..- attr(*, \"contrasts\")= num [1:2, 1] -0.5 0.5\n",
      "  .. ..- attr(*, \"dimnames\")=List of 2\n",
      "  .. .. ..$ : chr  \"FALSE\" \"TRUE\"\n",
      "  .. .. ..$ : NULL\n",
      "'data.frame':\t7190 obs. of  50 variables:\n",
      " $ trial_unique              : chr  \"166_1\" \"166_10\" \"166_100\" \"166_1000\" ...\n",
      " $ subj_id                   : Factor w/ 3 levels \"166\",\"518\",\"624\": 1 1 1 1 1 1 1 1 1 1 ...\n",
      " $ session_no                : int  1 1 1 2 2 2 2 2 2 2 ...\n",
      " $ block_no                  : int  1 1 2 7 7 7 7 7 7 7 ...\n",
      " $ trial_no                  : int  1 10 40 40 41 42 43 44 45 46 ...\n",
      " $ is_practice               : Factor w/ 1 level \"False\": 1 1 1 1 1 1 1 1 1 1 ...\n",
      " $ direction                 : num  180 180 180 0 0 180 0 180 0 180 ...\n",
      " $ coherence                 : num  0.256 0.032 0.064 0.032 0.512 0.032 0.064 0.064 0.128 0.128 ...\n",
      " $ duration                  : int  800 800 800 800 800 800 800 800 800 800 ...\n",
      " $ response                  : int  180 0 0 0 0 180 0 180 0 180 ...\n",
      " $ response_time             : num  1.081 0.757 1.06 0.908 0.919 ...\n",
      " $ is_correct                : Factor w/ 2 levels \"False\",\"True\": 2 1 1 2 2 2 2 2 2 2 ...\n",
      " $ xflips                    : int  3 0 1 0 0 1 1 1 0 1 ...\n",
      " $ max_d                     : num  121.8 -56.1 63 -63.5 -75.3 ...\n",
      " $ idx_max_d                 : num  61 49 66 61 62 63 61 53 56 54 ...\n",
      " $ midline_d                 : num  7 0 5 0 0 0 0 29 0 0 ...\n",
      " $ idx_midline_d             : num  54 0 51 40 37 36 30 43 32 34 ...\n",
      " $ midline_d_y               : num  100 30 29 30 30 30 30 38 30 30 ...\n",
      " $ is_com                    : Factor w/ 2 levels \"False\",\"True\": 1 1 1 1 1 1 1 1 1 1 ...\n",
      "  ..- attr(*, \"contrasts\")= num [1:2, 1] -0.5 0.5\n",
      "  .. ..- attr(*, \"dimnames\")=List of 2\n",
      "  .. .. ..$ : chr  \"False\" \"True\"\n",
      "  .. .. ..$ : NULL\n",
      " $ com_type                  : Factor w/ 2 levels \"early\",\"late\": 1 1 1 1 1 1 1 1 1 1 ...\n",
      " $ is_correct_init           : Factor w/ 2 levels \"False\",\"True\": 2 1 1 2 2 2 2 2 2 2 ...\n",
      " $ is_double_com             : Factor w/ 1 level \"False\": 1 1 1 1 1 1 1 1 1 1 ...\n",
      " $ hand_IT                   : num  0.424 0.192 0.444 0.383 0.353 ...\n",
      " $ motion_time               : num  0.647 0.555 0.606 0.515 0.555 ...\n",
      " $ eye_IT                    : num  0.525 0.353 0.504 0.192 0.232 ...\n",
      " $ eye_initial_decision      : num  1 1 1 1 1 -1 -1 1 1 1 ...\n",
      " $ stim_hand_IT              : num  0 0 0 0 0 0 0 0 0 0 ...\n",
      " $ stim_eye_IT               : num  0 0 0 0 0 0 0 0 0 0 ...\n",
      " $ ID_lag                    : num  -0.1009 -0.1616 -0.0606 0.1915 0.1211 ...\n",
      " $ com_saccade_idx           : num  NaN NaN NaN NaN NaN NaN NaN NaN NaN NaN ...\n",
      " $ com_t                     : num  NaN NaN NaN NaN NaN NaN NaN NaN NaN NaN ...\n",
      " $ com_saccade_t             : num  NaN NaN NaN NaN NaN NaN NaN NaN NaN NaN ...\n",
      " $ com_lag                   : num  NaN NaN NaN NaN NaN NaN NaN NaN NaN NaN ...\n",
      " $ hand_IT_z                 : num  0.711 -0.765 0.837 0.453 0.263 ...\n",
      " $ eye_IT_z                  : num  3.0446 1.2332 2.8267 -0.4748 -0.0464 ...\n",
      " $ ID_lag_z                  : num  -1.131 -1.521 -0.873 0.745 0.293 ...\n",
      " $ dwell_incorrect           : num  0 0.373 0.381 0 0 ...\n",
      " $ dwell_correct             : num  0.458 0 0 0.444 0.549 ...\n",
      " $ dwell_incorrect_not_cursor: num  0 0.333 0.238 0 0 ...\n",
      " $ dwell_correct_not_cursor  : num  0.318 0 0 0.256 0.242 ...\n",
      " $ dwell_cursor              : num  0 0 0 0 0 0 0 0 0 0 ...\n",
      " $ dwell_chosen              : num  0.458 0.373 0.381 0.444 0.549 ...\n",
      " $ dwell_chosen_not_cursor   : num  0.318 0.333 0.238 0.256 0.242 ...\n",
      " $ dwell_unchosen            : num  0 0 0 0 0 0 0 0 0 0 ...\n",
      " $ dwell_unchosen_not_cursor : num  0 0 0 0 0 0 0 0 0 0 ...\n",
      " $ hand_IT_tertile           : int  3 1 3 3 3 3 2 3 2 2 ...\n",
      " $ eye_IT_tertile            : num  3 3 3 1 2 1 1 2 3 1 ...\n",
      " $ all_trial_no              : num  1 10 100 1000 1001 ...\n",
      " $ lasttrial.resp            : Factor w/ 2 levels \"FALSE\",\"TRUE\": 1 2 2 2 2 1 1 1 1 1 ...\n",
      "  ..- attr(*, \"contrasts\")= num [1:2, 1] -0.5 0.5\n",
      "  .. ..- attr(*, \"dimnames\")=List of 2\n",
      "  .. .. ..$ : chr  \"FALSE\" \"TRUE\"\n",
      "  .. .. ..$ : NULL\n",
      " $ lasttrial.dir             : Factor w/ 2 levels \"FALSE\",\"TRUE\": 1 1 1 2 2 1 1 1 1 1 ...\n",
      "  ..- attr(*, \"contrasts\")= num [1:2, 1] -0.5 0.5\n",
      "  .. ..- attr(*, \"dimnames\")=List of 2\n",
      "  .. .. ..$ : chr  \"FALSE\" \"TRUE\"\n",
      "  .. .. ..$ : NULL\n"
     ]
    }
   ],
   "source": [
    "preprocess_data <- function(choice.data) {\n",
    "    # any exclusions?\n",
    "    stats.df = choice.data\n",
    "    stats.df$subj_id = as.factor(stats.df$subj_id)\n",
    "\n",
    "    # generate trial number\n",
    "    max.trial = max(stats.df$trial_no)\n",
    "    max.block = max(stats.df$block_n)\n",
    "    stats.df$all_trial_no = (stats.df$session_no-1) * (max.block * max.trial) +\n",
    "      (stats.df$block_no-1) * max.trial +\n",
    "      stats.df$trial_no\n",
    "\n",
    "    ## checking - can be commmented when not needed\n",
    "    check.diffs = diff(stats.df$all_trial_no)\n",
    "#     hist(check.diffs)\n",
    "    check.diffs[check.diffs<0] # 3 resets\n",
    "    check.diffs[check.diffs>1] # 36 diffs of +2 \n",
    "\n",
    "    check = stats.df[c(check.diffs>1, T),] # check missing trials\n",
    "    aggregate(all_trial_no~subj_id, check, length) # - poss cleaning?\n",
    "\n",
    "    rm(check) # no need \n",
    "    ## checking complete\n",
    "\n",
    "    # generate trial_unique\n",
    "    stats.df$trial_unique = paste(stats.df$subj_id, stats.df$all_trial_no, sep = \"_\")\n",
    "\n",
    "    # generate lasttrial.resp and lasttrial.dir\n",
    "    lasttrial.details  = ddply(stats.df,\n",
    "                               .(subj_id, session_no, block_no), summarize,\n",
    "                               trial_no = trial_no,\n",
    "                               response = response,\n",
    "                               lasttrial.resp  = c(F, diff(response)==0),\n",
    "                               direction = direction,\n",
    "                               lasttrial.dir = c(F, diff(direction)==0),\n",
    "                               trial_unique = trial_unique\n",
    "    )\n",
    "\n",
    "    # add lasttrial.resp and lasttrial.dir to stats.df\n",
    "    stats.df = merge(stats.df, lasttrial.details[,\n",
    "                        c(\"trial_unique\", \"lasttrial.resp\", \"lasttrial.dir\")],\n",
    "                        by = \"trial_unique\")\n",
    "\n",
    "    # set up contrasts for lasttrial.resp and lasttrial.dir \n",
    "    contrasts(stats.df$lasttrial.resp) = contr.sum(n=2) /2 *-1\n",
    "    contrasts(stats.df$lasttrial.resp) # true is pos\n",
    "\n",
    "    contrasts(stats.df$lasttrial.dir) = contr.sum(n=2) /2 *-1\n",
    "    contrasts(stats.df$lasttrial.dir) # true is pos\n",
    "\n",
    "    contrasts(stats.df$is_com) = contr.sum(n=2) /2 *-1\n",
    "    contrasts(stats.df$is_com)# true is pos\n",
    "    \n",
    "    stats.df = stats.df[(stats.df$hand_IT < 1.5) & (stats.df$eye_IT < 1.5),]\n",
    "\n",
    "    str(stats.df)\n",
    "\n",
    "    return(stats.df)\n",
    "}\n",
    "\n",
    "stats.df_1 = preprocess_data(choice.data_1)\n",
    "stats.df_2 = preprocess_data(choice.data_2)"
   ]
  },
  {
   "cell_type": "markdown",
   "metadata": {},
   "source": [
    "# Analysis 1. Accuracy as a function of coherence"
   ]
  },
  {
   "cell_type": "code",
   "execution_count": 3,
   "metadata": {},
   "outputs": [],
   "source": [
    "rnd_effects_analysis_1 <- function(stats.df){\n",
    "    rnd.lmer = glmer(is_correct ~ (1|subj_id), \n",
    "                 stats.df[stats.df$coherence!=0,], # edit this line to include zero coh\n",
    "                 family = binomial)\n",
    "\n",
    "    # rnd intercept for each participant and random slope of trials\n",
    "    # diff avg acc, diff learning effect for each p\n",
    "    rnd2.lmer = glmer(is_correct ~ (c.(l.(all_trial_no))|subj_id), \n",
    "                      stats.df[stats.df$coherence!=0,], \n",
    "                      family = binomial)\n",
    "\n",
    "    # rnd intercept for each participant and random slope of coherence\n",
    "    # diff avg acc, diff coherence effect for each p\n",
    "    rnd3.lmer = glmer(is_correct ~ (c.(coherence)|subj_id), \n",
    "                      stats.df[stats.df$coherence!=0,], \n",
    "                      family = binomial)\n",
    "\n",
    "    # rnd intercept for each participant and random slope of trials\n",
    "    # diff avg acc, diff linear and quad learning effect for each p\n",
    "    rnd3.quad.lmer = glmer(is_correct ~ (poly(coherence, 2, raw = T)|subj_id), \n",
    "                           stats.df[stats.df$coherence!=0,], \n",
    "                           family = binomial)\n",
    "\n",
    "    # rnd intercept for each participant and random slope of trials\n",
    "    # diff avg acc, diff trial-to-trial stimulus effect for each p\n",
    "    rnd4.lmer = glmer(is_correct ~ (lasttrial.dir|subj_id), \n",
    "                      stats.df[stats.df$coherence!=0,], \n",
    "                      family = binomial)\n",
    "\n",
    "    # rnd intercept for each participant and random slope of trials\n",
    "    # diff avg acc, diff trial-to-trial stimulus effect and diff learning effect for each p\n",
    "    rnd5.lmer = glmer(is_correct ~ (c.(l.(all_trial_no)) + c.(coherence)|subj_id), \n",
    "                      stats.df[stats.df$coherence!=0,], \n",
    "                      family = binomial)\n",
    "\n",
    "    # rnd.lmer with com and coherence\n",
    "    rnd6.lmer = glmer(is_correct ~ ((is_com + c.(coherence))|subj_id),\n",
    "                      stats.df[stats.df$coherence!=0,],\n",
    "                      family = binomial)\n",
    "\n",
    "    rnd.anova = anova(rnd.lmer, rnd2.lmer, rnd3.lmer, rnd3.quad.lmer, rnd4.lmer, rnd5.lmer, rnd6.lmer)\n",
    "    print(rnd.anova)\n",
    "    \n",
    "    print(\"Best model according to AIC\")\n",
    "    print(row.names(rnd.anova[rnd.anova$AIC==min(rnd.anova$AIC), ]))\n",
    "    print(\"Best model according to BIC\")\n",
    "    print(row.names(rnd.anova[rnd.anova$BIC==min(rnd.anova$BIC), ]))\n",
    "}"
   ]
  },
  {
   "cell_type": "code",
   "execution_count": 4,
   "metadata": {},
   "outputs": [
    {
     "name": "stderr",
     "output_type": "stream",
     "text": [
      "singular fit\n",
      "singular fit\n",
      "singular fit\n",
      "singular fit\n"
     ]
    },
    {
     "name": "stdout",
     "output_type": "stream",
     "text": [
      "Data: stats.df[stats.df$coherence != 0, ]\n",
      "Models:\n",
      "rnd.lmer: is_correct ~ (1 | subj_id)\n",
      "rnd2.lmer: is_correct ~ (c.(l.(all_trial_no)) | subj_id)\n",
      "rnd3.lmer: is_correct ~ (c.(coherence) | subj_id)\n",
      "rnd4.lmer: is_correct ~ (lasttrial.dir | subj_id)\n",
      "rnd3.quad.lmer: is_correct ~ (poly(coherence, 2, raw = T) | subj_id)\n",
      "rnd5.lmer: is_correct ~ (c.(l.(all_trial_no)) + c.(coherence) | subj_id)\n",
      "rnd6.lmer: is_correct ~ ((is_com + c.(coherence)) | subj_id)\n",
      "               Df    AIC    BIC  logLik deviance     Chisq Chi Df Pr(>Chisq)\n",
      "rnd.lmer        2 8577.7 8591.6 -4286.9   8573.7                            \n",
      "rnd2.lmer       4 8580.0 8607.8 -4286.0   8572.0    1.7031      2     0.4267\n",
      "rnd3.lmer       4 7186.5 7214.3 -3589.3   7178.5 1393.4849      0     <2e-16\n",
      "rnd4.lmer       4 8459.2 8486.9 -4225.6   8451.2    0.0000      0     1.0000\n",
      "rnd3.quad.lmer  7 7189.9 7238.5 -3587.9   7175.9 1275.2921      3     <2e-16\n",
      "rnd5.lmer       7 7205.9 7254.5 -3596.0   7191.9    0.0000      0     1.0000\n",
      "rnd6.lmer       7 7194.6 7243.2 -3590.3   7180.6   11.3517      0     <2e-16\n",
      "                  \n",
      "rnd.lmer          \n",
      "rnd2.lmer         \n",
      "rnd3.lmer      ***\n",
      "rnd4.lmer         \n",
      "rnd3.quad.lmer ***\n",
      "rnd5.lmer         \n",
      "rnd6.lmer      ***\n",
      "---\n",
      "Signif. codes:  0 '***' 0.001 '**' 0.01 '*' 0.05 '.' 0.1 ' ' 1\n",
      "[1] \"Best model according to AIC\"\n",
      "[1] \"rnd3.lmer\"\n",
      "[1] \"Best model according to BIC\"\n",
      "[1] \"rnd3.lmer\"\n"
     ]
    }
   ],
   "source": [
    "rnd_effects_analysis_1(stats.df_1)"
   ]
  },
  {
   "cell_type": "code",
   "execution_count": 5,
   "metadata": {},
   "outputs": [
    {
     "name": "stderr",
     "output_type": "stream",
     "text": [
      "singular fit\n",
      "singular fit\n",
      "singular fit\n",
      "singular fit\n"
     ]
    },
    {
     "name": "stdout",
     "output_type": "stream",
     "text": [
      "Data: stats.df[stats.df$coherence != 0, ]\n",
      "Models:\n",
      "rnd.lmer: is_correct ~ (1 | subj_id)\n",
      "rnd2.lmer: is_correct ~ (c.(l.(all_trial_no)) | subj_id)\n",
      "rnd3.lmer: is_correct ~ (c.(coherence) | subj_id)\n",
      "rnd4.lmer: is_correct ~ (lasttrial.dir | subj_id)\n",
      "rnd3.quad.lmer: is_correct ~ (poly(coherence, 2, raw = T) | subj_id)\n",
      "rnd5.lmer: is_correct ~ (c.(l.(all_trial_no)) + c.(coherence) | subj_id)\n",
      "rnd6.lmer: is_correct ~ ((is_com + c.(coherence)) | subj_id)\n",
      "               Df    AIC    BIC  logLik deviance    Chisq Chi Df Pr(>Chisq)    \n",
      "rnd.lmer        2 6473.3 6486.6 -3234.6   6469.3                               \n",
      "rnd2.lmer       4 6458.8 6485.5 -3225.4   6450.8  18.4541      2  9.834e-05 ***\n",
      "rnd3.lmer       4 5574.3 5600.9 -2783.1   5566.3 884.5557      0  < 2.2e-16 ***\n",
      "rnd4.lmer       4 6462.1 6488.8 -3227.1   6454.1   0.0000      0          1    \n",
      "rnd3.quad.lmer  7 5577.9 5624.5 -2781.9   5563.9 890.2484      3  < 2.2e-16 ***\n",
      "rnd5.lmer       7 5556.1 5602.7 -2771.0   5542.1  21.7666      0  < 2.2e-16 ***\n",
      "rnd6.lmer       7 5551.6 5598.2 -2768.8   5537.6   4.5058      0  < 2.2e-16 ***\n",
      "---\n",
      "Signif. codes:  0 '***' 0.001 '**' 0.01 '*' 0.05 '.' 0.1 ' ' 1\n",
      "[1] \"Best model according to AIC\"\n",
      "[1] \"rnd6.lmer\"\n",
      "[1] \"Best model according to BIC\"\n",
      "[1] \"rnd6.lmer\"\n"
     ]
    }
   ],
   "source": [
    "rnd_effects_analysis_1(stats.df_2)"
   ]
  },
  {
   "cell_type": "markdown",
   "metadata": {},
   "source": [
    "In both experiments, rnd3 and rnd6 are among the best, so we might want to include is_com and coherence as random slopes, but unfortunately both models don't converge when full effects are included. So we include only random intercept"
   ]
  },
  {
   "cell_type": "code",
   "execution_count": 37,
   "metadata": {},
   "outputs": [],
   "source": [
    "run_analysis_1 <- function(stats.df, exp_name){\n",
    "    choice.mer = glmer(is_correct ~ (1 | subj_id) + c.(coherence)*is_com + c.(l.(all_trial_no)) + lasttrial.dir + lasttrial.resp,\n",
    "                      stats.df[stats.df$coherence!=0,],\n",
    "                      family = binomial)\n",
    "    print(summary(choice.mer))\n",
    "\n",
    "    choice.output = summary(choice.mer)$coefficients\n",
    "\n",
    "    file_name = sprintf(paste(output_table_path, \"is_correct_vs_coh_%s.tex\", sep=\"\"), exp_name)\n",
    "    print(xtable(choice.output, digits = c(2,2,2,2,-2), \n",
    "                 label = \"tab:is_correct_vs_coh\",\n",
    "                 caption = 'Accuracy as a function of coherence'), \n",
    "          math.style.exponents = TRUE, type = \"latex\", file = file_name)\n",
    "}"
   ]
  },
  {
   "cell_type": "code",
   "execution_count": 38,
   "metadata": {},
   "outputs": [
    {
     "name": "stdout",
     "output_type": "stream",
     "text": [
      "Generalized linear mixed model fit by maximum likelihood (Laplace\n",
      "  Approximation) [glmerMod]\n",
      " Family: binomial  ( logit )\n",
      "Formula: \n",
      "is_correct ~ (1 | subj_id) + c.(coherence) * is_com + c.(l.(all_trial_no)) +  \n",
      "    lasttrial.dir + lasttrial.resp\n",
      "   Data: stats.df[stats.df$coherence != 0, ]\n",
      "\n",
      "     AIC      BIC   logLik deviance df.resid \n",
      "  7092.3   7147.9  -3538.2   7076.3     7665 \n",
      "\n",
      "Scaled residuals: \n",
      "     Min       1Q   Median       3Q      Max \n",
      "-12.5023   0.0794   0.3055   0.6431   1.4228 \n",
      "\n",
      "Random effects:\n",
      " Groups  Name        Variance Std.Dev.\n",
      " subj_id (Intercept) 0.04706  0.2169  \n",
      "Number of obs: 7673, groups:  subj_id, 4\n",
      "\n",
      "Fixed effects:\n",
      "                      Estimate Std. Error z value Pr(>|z|)    \n",
      "(Intercept)            1.24884    0.17403   7.176 7.18e-13 ***\n",
      "c.(coherence)          7.70135    1.05738   7.283 3.25e-13 ***\n",
      "is_com1               -0.82917    0.27275  -3.040  0.00237 ** \n",
      "c.(l.(all_trial_no))   0.06925    0.02933   2.361  0.01823 *  \n",
      "lasttrial.dir1         0.57547    0.05962   9.653  < 2e-16 ***\n",
      "lasttrial.resp1       -0.31841    0.05995  -5.311 1.09e-07 ***\n",
      "c.(coherence):is_com1 -1.47801    2.11363  -0.699  0.48438    \n",
      "---\n",
      "Signif. codes:  0 '***' 0.001 '**' 0.01 '*' 0.05 '.' 0.1 ' ' 1\n",
      "\n",
      "Correlation of Fixed Effects:\n",
      "            (Intr) c.(ch) is_cm1 c.(.(_ lsttrl.d1 lsttrl.r1\n",
      "c.(cohernc)  0.631                                         \n",
      "is_com1      0.742  0.770                                  \n",
      "c.(l.(l__))  0.007  0.010  0.000                           \n",
      "lasttrl.dr1  0.043  0.032  0.018  0.038                    \n",
      "lsttrl.rsp1 -0.026 -0.015 -0.007 -0.051 -0.183             \n",
      "c.(chrn):_1  0.605  0.954  0.805  0.006  0.020    -0.019   \n"
     ]
    }
   ],
   "source": [
    "run_analysis_1(stats.df_1, \"exp_1\")"
   ]
  },
  {
   "cell_type": "code",
   "execution_count": 39,
   "metadata": {},
   "outputs": [
    {
     "name": "stdout",
     "output_type": "stream",
     "text": [
      "Generalized linear mixed model fit by maximum likelihood (Laplace\n",
      "  Approximation) [glmerMod]\n",
      " Family: binomial  ( logit )\n",
      "Formula: \n",
      "is_correct ~ (1 | subj_id) + c.(coherence) * is_com + c.(l.(all_trial_no)) +  \n",
      "    lasttrial.dir + lasttrial.resp\n",
      "   Data: stats.df[stats.df$coherence != 0, ]\n",
      "\n",
      "     AIC      BIC   logLik deviance df.resid \n",
      "  5498.9   5552.2  -2741.5   5482.9     5784 \n",
      "\n",
      "Scaled residuals: \n",
      "    Min      1Q  Median      3Q     Max \n",
      "-9.3177  0.1075  0.3422  0.6590  1.6964 \n",
      "\n",
      "Random effects:\n",
      " Groups  Name        Variance Std.Dev.\n",
      " subj_id (Intercept) 0.001421 0.03769 \n",
      "Number of obs: 5792, groups:  subj_id, 3\n",
      "\n",
      "Fixed effects:\n",
      "                      Estimate Std. Error z value Pr(>|z|)    \n",
      "(Intercept)            0.89147    0.08994   9.912  < 2e-16 ***\n",
      "c.(coherence)          4.68684    0.56441   8.304  < 2e-16 ***\n",
      "is_com1               -1.41333    0.17386  -8.129 4.33e-16 ***\n",
      "c.(l.(all_trial_no))   0.16078    0.03326   4.834 1.34e-06 ***\n",
      "lasttrial.dir1         0.32800    0.06703   4.894 9.90e-07 ***\n",
      "lasttrial.resp1       -0.16425    0.06717  -2.445   0.0145 *  \n",
      "c.(coherence):is_com1 -6.50932    1.12741  -5.774 7.76e-09 ***\n",
      "---\n",
      "Signif. codes:  0 '***' 0.001 '**' 0.01 '*' 0.05 '.' 0.1 ' ' 1\n",
      "\n",
      "Correlation of Fixed Effects:\n",
      "            (Intr) c.(ch) is_cm1 c.(.(_ lsttrl.d1 lsttrl.r1\n",
      "c.(cohernc)  0.410                                         \n",
      "is_com1      0.824  0.298                                  \n",
      "c.(l.(l__))  0.107  0.062  0.084                           \n",
      "lasttrl.dr1 -0.001 -0.035 -0.039  0.010                    \n",
      "lsttrl.rsp1 -0.009 -0.003  0.018 -0.019 -0.155             \n",
      "c.(chrn):_1  0.288  0.795  0.419  0.037 -0.051    -0.021   \n"
     ]
    }
   ],
   "source": [
    "run_analysis_1(stats.df_2, \"exp_2\")"
   ]
  },
  {
   "cell_type": "markdown",
   "metadata": {},
   "source": [
    "# Analysis 2. Probability of CoM as a function of initiation time"
   ]
  },
  {
   "cell_type": "code",
   "execution_count": 9,
   "metadata": {},
   "outputs": [],
   "source": [
    "rnd_effects_analysis_2 <- function(stats.df){\n",
    "    stats.df <- stats.df[complete.cases(stats.df[ , \"eye_IT\"]),]\n",
    "    rnd1.lmer = glmer(is_com ~ (1|subj_id), stats.df, family = binomial)\n",
    "\n",
    "    rnd2.lmer = glmer(is_com ~ (c.(coherence)|subj_id), stats.df, family = binomial)\n",
    "\n",
    "    rnd3.lmer = glmer(is_com ~ (poly(c.(coherence), 2, raw = T)|subj_id), stats.df, family = binomial)\n",
    "\n",
    "    rnd4.lmer = glmer(is_com ~ (c.(hand_IT)|subj_id), stats.df, family = binomial)\n",
    "    \n",
    "    rnd5.lmer = glmer(is_com ~ (c.(eye_IT)|subj_id), stats.df, family = binomial)\n",
    "    \n",
    "    rnd6.lmer = glmer(is_com ~ (c.(hand_IT)*c.(coherence)|subj_id), stats.df, family = binomial)\n",
    "    \n",
    "    rnd7.lmer = glmer(is_com ~ (c.(eye_IT)*c.(coherence)|subj_id), stats.df, family = binomial)\n",
    "    \n",
    "    rnd8.lmer = glmer(is_com ~ (c.(eye_IT)*c.(coherence) + c.(hand_IT)*c.(coherence)|subj_id), stats.df, family = binomial)\n",
    "    \n",
    "    rnd.anova = anova(rnd1.lmer, rnd2.lmer, rnd3.lmer, rnd4.lmer, rnd5.lmer, rnd6.lmer, rnd7.lmer, rnd8.lmer)\n",
    "#     rnd.anova = anova(rnd4.lmer, rnd5.lmer)\n",
    "    print(rnd.anova)\n",
    "    \n",
    "    print(\"Best model according to AIC\")\n",
    "    print(row.names(rnd.anova[rnd.anova$AIC==min(rnd.anova$AIC), ]))\n",
    "    print(\"Best model according to BIC\")\n",
    "    print(row.names(rnd.anova[rnd.anova$BIC==min(rnd.anova$BIC), ]))\n",
    "}"
   ]
  },
  {
   "cell_type": "code",
   "execution_count": 10,
   "metadata": {},
   "outputs": [
    {
     "name": "stderr",
     "output_type": "stream",
     "text": [
      "singular fit\n",
      "Warning message in checkConv(attr(opt, \"derivs\"), opt$par, ctrl = control$checkConv, :\n",
      "\"Model failed to converge with max|grad| = 0.00201429 (tol = 0.001, component 1)\"Warning message in checkConv(attr(opt, \"derivs\"), opt$par, ctrl = control$checkConv, :\n",
      "\"Model failed to converge with max|grad| = 0.00128922 (tol = 0.001, component 1)\""
     ]
    },
    {
     "name": "stdout",
     "output_type": "stream",
     "text": [
      "Data: stats.df\n",
      "Models:\n",
      "rnd1.lmer: is_com ~ (1 | subj_id)\n",
      "rnd2.lmer: is_com ~ (c.(coherence) | subj_id)\n",
      "rnd4.lmer: is_com ~ (c.(hand_IT) | subj_id)\n",
      "rnd5.lmer: is_com ~ (c.(eye_IT) | subj_id)\n",
      "rnd3.lmer: is_com ~ (poly(c.(coherence), 2, raw = T) | subj_id)\n",
      "rnd6.lmer: is_com ~ (c.(hand_IT) * c.(coherence) | subj_id)\n",
      "rnd7.lmer: is_com ~ (c.(eye_IT) * c.(coherence) | subj_id)\n",
      "rnd8.lmer: is_com ~ (c.(eye_IT) * c.(coherence) + c.(hand_IT) * c.(coherence) | \n",
      "rnd8.lmer:     subj_id)\n",
      "          Df    AIC    BIC  logLik deviance  Chisq Chi Df Pr(>Chisq)    \n",
      "rnd1.lmer  2 1983.6 1997.8 -989.79   1979.6                             \n",
      "rnd2.lmer  4 1929.6 1958.0 -960.78   1921.6 58.016      2  2.523e-13 ***\n",
      "rnd4.lmer  4 1853.2 1881.7 -922.61   1845.2 76.352      0  < 2.2e-16 ***\n",
      "rnd5.lmer  4 1900.7 1929.2 -946.36   1892.7  0.000      0          1    \n",
      "rnd3.lmer  7 1916.3 1966.1 -951.14   1902.3  0.000      3          1    \n",
      "rnd6.lmer 11 1847.6 1925.9 -912.78   1825.6 76.714      4  8.646e-16 ***\n",
      "rnd7.lmer 11 1876.5 1954.8 -927.24   1854.5  0.000      0          1    \n",
      "rnd8.lmer 22 1856.4 2013.0 -906.18   1812.4 42.109     11  1.551e-05 ***\n",
      "---\n",
      "Signif. codes:  0 '***' 0.001 '**' 0.01 '*' 0.05 '.' 0.1 ' ' 1\n",
      "[1] \"Best model according to AIC\"\n",
      "[1] \"rnd6.lmer\"\n",
      "[1] \"Best model according to BIC\"\n",
      "[1] \"rnd4.lmer\"\n"
     ]
    }
   ],
   "source": [
    "rnd_effects_analysis_2(stats.df_1)"
   ]
  },
  {
   "cell_type": "code",
   "execution_count": 11,
   "metadata": {
    "scrolled": false
   },
   "outputs": [
    {
     "name": "stderr",
     "output_type": "stream",
     "text": [
      "singular fit\n",
      "singular fit\n",
      "Warning message in optwrap(optimizer, devfun, start, rho$lower, control = control, :\n",
      "\"convergence code 1 from bobyqa: bobyqa -- maximum number of function evaluations exceeded\""
     ]
    },
    {
     "name": "stdout",
     "output_type": "stream",
     "text": [
      "Data: stats.df\n",
      "Models:\n",
      "rnd1.lmer: is_com ~ (1 | subj_id)\n",
      "rnd2.lmer: is_com ~ (c.(coherence) | subj_id)\n",
      "rnd4.lmer: is_com ~ (c.(hand_IT) | subj_id)\n",
      "rnd5.lmer: is_com ~ (c.(eye_IT) | subj_id)\n",
      "rnd3.lmer: is_com ~ (poly(c.(coherence), 2, raw = T) | subj_id)\n",
      "rnd6.lmer: is_com ~ (c.(hand_IT) * c.(coherence) | subj_id)\n",
      "rnd7.lmer: is_com ~ (c.(eye_IT) * c.(coherence) | subj_id)\n",
      "rnd8.lmer: is_com ~ (c.(eye_IT) * c.(coherence) + c.(hand_IT) * c.(coherence) | \n",
      "rnd8.lmer:     subj_id)\n",
      "          Df    AIC    BIC  logLik deviance   Chisq Chi Df Pr(>Chisq)    \n",
      "rnd1.lmer  2 1900.7 1914.4 -948.35   1896.7                              \n",
      "rnd2.lmer  4 1884.2 1911.6 -938.12   1876.2  20.454      2  3.619e-05 ***\n",
      "rnd4.lmer  4 1889.3 1916.7 -940.66   1881.3   0.000      0  1.0000000    \n",
      "rnd5.lmer  4 1778.2 1805.6 -885.09   1770.2 111.136      0  < 2.2e-16 ***\n",
      "rnd3.lmer  7 1887.9 1935.9 -936.96   1873.9   0.000      3  1.0000000    \n",
      "rnd6.lmer 11 1879.9 1955.3 -928.97   1857.9  15.986      4  0.0030374 ** \n",
      "rnd7.lmer 11 1771.8 1847.2 -874.92   1749.8 108.090      0  < 2.2e-16 ***\n",
      "rnd8.lmer 22 1759.9 1910.6 -857.96   1715.9  33.928     11  0.0003716 ***\n",
      "---\n",
      "Signif. codes:  0 '***' 0.001 '**' 0.01 '*' 0.05 '.' 0.1 ' ' 1\n",
      "[1] \"Best model according to AIC\"\n",
      "[1] \"rnd8.lmer\"\n",
      "[1] \"Best model according to BIC\"\n",
      "[1] \"rnd5.lmer\"\n"
     ]
    }
   ],
   "source": [
    "rnd_effects_analysis_2(stats.df_2)"
   ]
  },
  {
   "cell_type": "markdown",
   "metadata": {},
   "source": [
    "Assuming that we have to pick up a universal random effect structure which works for both experiments, we need to choose between a coherence-only random slope (rnd2), or maximal model (rnd8), which fares better among two in terms of AIC and BIC. However, both models doen't converge, so we're left with random intercept"
   ]
  },
  {
   "cell_type": "code",
   "execution_count": 42,
   "metadata": {},
   "outputs": [],
   "source": [
    "run_analysis_2 <- function(stats.df, exp_name){\n",
    "    choice.mer = glmer(is_com ~ (1 | subj_id) + c.(coherence)*c.(hand_IT) + c.(coherence)*c.(eye_IT),\n",
    "                      stats.df,\n",
    "                      family = binomial)\n",
    "    print(summary(choice.mer))\n",
    "\n",
    "    # confidence intervals if required\n",
    "    CIs = confint(choice.mer, parm=\"beta_\",method=\"Wald\")\n",
    "    CIs.tab = cbind(est.OR=fixef(choice.mer),CIs)\n",
    "    Odds.tab = exp(CIs.tab)\n",
    "    print(Odds.tab,digits=3)\n",
    "\n",
    "    choice.output = summary(choice.mer)$coefficients\n",
    "\n",
    "    file_name = sprintf(paste(output_table_path, \"is_com_vs_IT_%s.tex\", sep=\"\"), exp_name)\n",
    "    print(xtable(choice.output, digits = c(2,2,2,2,-2), \n",
    "                 label = \"tab:is_com_vs_IT\",\n",
    "                 caption = 'Probability of change-of-mind as a function of hand and eye initiation times'), \n",
    "          math.style.exponents = TRUE, type = \"latex\", file = file_name)\n",
    "}"
   ]
  },
  {
   "cell_type": "code",
   "execution_count": 43,
   "metadata": {
    "scrolled": false
   },
   "outputs": [
    {
     "name": "stdout",
     "output_type": "stream",
     "text": [
      "Generalized linear mixed model fit by maximum likelihood (Laplace\n",
      "  Approximation) [glmerMod]\n",
      " Family: binomial  ( logit )\n",
      "Formula: \n",
      "is_com ~ (1 | subj_id) + c.(coherence) * c.(hand_IT) + c.(coherence) *  \n",
      "    c.(eye_IT)\n",
      "   Data: stats.df\n",
      "\n",
      "     AIC      BIC   logLik deviance df.resid \n",
      "  1851.1   1900.9   -918.5   1837.1     9146 \n",
      "\n",
      "Scaled residuals: \n",
      "    Min      1Q  Median      3Q     Max \n",
      "-0.8662 -0.1944 -0.0967 -0.0558 26.6968 \n",
      "\n",
      "Random effects:\n",
      " Groups  Name        Variance Std.Dev.\n",
      " subj_id (Intercept) 1.525    1.235   \n",
      "Number of obs: 9153, groups:  subj_id, 4\n",
      "\n",
      "Fixed effects:\n",
      "                          Estimate Std. Error z value Pr(>|z|)    \n",
      "(Intercept)                -4.4444     0.6311  -7.042 1.89e-12 ***\n",
      "c.(coherence)              -2.5286     0.6482  -3.901 9.58e-05 ***\n",
      "c.(hand_IT)                 1.1660     0.3224   3.616 0.000299 ***\n",
      "c.(eye_IT)                  1.3101     0.4536   2.888 0.003872 ** \n",
      "c.(coherence):c.(hand_IT)   2.7056     2.3020   1.175 0.239855    \n",
      "c.(coherence):c.(eye_IT)    1.6934     3.2957   0.514 0.607375    \n",
      "---\n",
      "Signif. codes:  0 '***' 0.001 '**' 0.01 '*' 0.05 '.' 0.1 ' ' 1\n",
      "\n",
      "Correlation of Fixed Effects:\n",
      "                   (Intr) c.(ch) c.(h_IT) c.(y_IT) c.(chrnc):c.(h_IT)\n",
      "c.(cohernc)         0.061                                            \n",
      "c.(hand_IT)        -0.013  0.059                                     \n",
      "c.(eye_IT)         -0.027 -0.006 -0.739                              \n",
      "c.(chrnc):c.(h_IT)  0.002 -0.129  0.603   -0.486                     \n",
      "c.(chrnc):c.(y_IT) -0.004  0.000 -0.486    0.606   -0.751            \n",
      "                           est.OR   2.5 %   97.5 %\n",
      "(Intercept)                0.0117 0.00341 4.05e-02\n",
      "c.(coherence)              0.0798 0.02239 2.84e-01\n",
      "c.(hand_IT)                3.2091 1.70577 6.04e+00\n",
      "c.(eye_IT)                 3.7065 1.52364 9.02e+00\n",
      "c.(coherence):c.(hand_IT) 14.9638 0.16428 1.36e+03\n",
      "c.(coherence):c.(eye_IT)   5.4379 0.00851 3.47e+03\n"
     ]
    }
   ],
   "source": [
    "run_analysis_2(stats.df_1, \"exp_1\")"
   ]
  },
  {
   "cell_type": "code",
   "execution_count": 44,
   "metadata": {},
   "outputs": [
    {
     "name": "stdout",
     "output_type": "stream",
     "text": [
      "Generalized linear mixed model fit by maximum likelihood (Laplace\n",
      "  Approximation) [glmerMod]\n",
      " Family: binomial  ( logit )\n",
      "Formula: \n",
      "is_com ~ (1 | subj_id) + c.(coherence) * c.(hand_IT) + c.(coherence) *  \n",
      "    c.(eye_IT)\n",
      "   Data: stats.df\n",
      "\n",
      "     AIC      BIC   logLik deviance df.resid \n",
      "  1751.7   1799.6   -868.9   1737.7     6952 \n",
      "\n",
      "Scaled residuals: \n",
      "    Min      1Q  Median      3Q     Max \n",
      "-1.2418 -0.1896 -0.1515 -0.1153 14.8988 \n",
      "\n",
      "Random effects:\n",
      " Groups  Name        Variance Std.Dev.\n",
      " subj_id (Intercept) 0.2347   0.4845  \n",
      "Number of obs: 6959, groups:  subj_id, 3\n",
      "\n",
      "Fixed effects:\n",
      "                          Estimate Std. Error z value Pr(>|z|)    \n",
      "(Intercept)                -3.7442     0.2936 -12.752  < 2e-16 ***\n",
      "c.(coherence)              -1.8016     0.5725  -3.147  0.00165 ** \n",
      "c.(hand_IT)                -1.0290     0.5349  -1.924  0.05440 .  \n",
      "c.(eye_IT)                  5.3951     0.4800  11.239  < 2e-16 ***\n",
      "c.(coherence):c.(hand_IT)   4.8544     2.8990   1.675  0.09403 .  \n",
      "c.(coherence):c.(eye_IT)    6.1670     2.7616   2.233  0.02554 *  \n",
      "---\n",
      "Signif. codes:  0 '***' 0.001 '**' 0.01 '*' 0.05 '.' 0.1 ' ' 1\n",
      "\n",
      "Correlation of Fixed Effects:\n",
      "                   (Intr) c.(ch) c.(h_IT) c.(y_IT) c.(chrnc):c.(h_IT)\n",
      "c.(cohernc)         0.099                                            \n",
      "c.(hand_IT)         0.016  0.060                                     \n",
      "c.(eye_IT)         -0.136 -0.127 -0.542                              \n",
      "c.(chrnc):c.(h_IT)  0.006 -0.031  0.133   -0.070                     \n",
      "c.(chrnc):c.(y_IT) -0.033 -0.353 -0.046    0.235   -0.482            \n",
      "                            est.OR   2.5 %   97.5 %\n",
      "(Intercept)                 0.0237  0.0133 4.21e-02\n",
      "c.(coherence)               0.1650  0.0537 5.07e-01\n",
      "c.(hand_IT)                 0.3574  0.1253 1.02e+00\n",
      "c.(eye_IT)                220.3335 85.9934 5.65e+02\n",
      "c.(coherence):c.(hand_IT) 128.3090  0.4371 3.77e+04\n",
      "c.(coherence):c.(eye_IT)  476.7644  2.1264 1.07e+05\n"
     ]
    }
   ],
   "source": [
    "run_analysis_2(stats.df_2, \"exp_2\")"
   ]
  },
  {
   "cell_type": "markdown",
   "metadata": {},
   "source": [
    "# Analysis 3. Initiation times as a function of coherence"
   ]
  },
  {
   "cell_type": "markdown",
   "metadata": {},
   "source": [
    "## Hand IT: random effects structure"
   ]
  },
  {
   "cell_type": "code",
   "execution_count": 15,
   "metadata": {},
   "outputs": [],
   "source": [
    "rnd_effects_analysis_3_hand <- function(stats.df){\n",
    "#     stats.df <- stats.df[complete.cases(stats.df[ , \"eye_IT\"]),]\n",
    "    rnd1.lmer = lmer(hand_IT ~ (1|subj_id), stats.df)\n",
    "\n",
    "    rnd2.lmer = lmer(hand_IT ~ (c.(coherence)|subj_id), stats.df)\n",
    "\n",
    "    rnd3.lmer = lmer(hand_IT ~ (is_correct|subj_id), stats.df)\n",
    "\n",
    "    rnd4.lmer = lmer(hand_IT ~ ((c.(coherence)+is_correct)|subj_id), stats.df)\n",
    "    \n",
    "    rnd5.lmer = lmer(hand_IT ~ ((c.(coherence)*is_correct)|subj_id), stats.df)\n",
    "    \n",
    "    rnd.anova = anova(rnd1.lmer, rnd2.lmer, rnd3.lmer, rnd4.lmer, rnd5.lmer)\n",
    "#     rnd.anova = anova(rnd4.lmer, rnd5.lmer)\n",
    "    print(rnd.anova)\n",
    "    print(\"Best model according to AIC\")\n",
    "    print(row.names(rnd.anova[rnd.anova$AIC==min(rnd.anova$AIC), ]))\n",
    "    print(\"Best model according to BIC\")\n",
    "    print(row.names(rnd.anova[rnd.anova$BIC==min(rnd.anova$BIC), ]))\n",
    "}"
   ]
  },
  {
   "cell_type": "code",
   "execution_count": 16,
   "metadata": {},
   "outputs": [
    {
     "name": "stderr",
     "output_type": "stream",
     "text": [
      "singular fit\n",
      "singular fit\n",
      "singular fit\n",
      "refitting model(s) with ML (instead of REML)\n"
     ]
    },
    {
     "name": "stdout",
     "output_type": "stream",
     "text": [
      "Data: stats.df\n",
      "Models:\n",
      "rnd1.lmer: hand_IT ~ (1 | subj_id)\n",
      "rnd2.lmer: hand_IT ~ (c.(coherence) | subj_id)\n",
      "rnd3.lmer: hand_IT ~ (is_correct | subj_id)\n",
      "rnd4.lmer: hand_IT ~ ((c.(coherence) + is_correct) | subj_id)\n",
      "rnd5.lmer: hand_IT ~ ((c.(coherence) * is_correct) | subj_id)\n",
      "          Df    AIC    BIC  logLik deviance   Chisq Chi Df Pr(>Chisq)    \n",
      "rnd1.lmer  3 4830.2 4851.6 -2412.1   4824.2                              \n",
      "rnd2.lmer  5 2546.3 2581.9 -1268.2   2536.3 2287.90      2     <2e-16 ***\n",
      "rnd3.lmer  5 4162.2 4197.8 -2076.1   4152.2    0.00      0          1    \n",
      "rnd4.lmer  8 2442.5 2499.5 -1213.2   2426.5 1725.68      3     <2e-16 ***\n",
      "rnd5.lmer 12 2330.3 2415.7 -1153.1   2306.3  120.23      4     <2e-16 ***\n",
      "---\n",
      "Signif. codes:  0 '***' 0.001 '**' 0.01 '*' 0.05 '.' 0.1 ' ' 1\n",
      "[1] \"Best model according to AIC\"\n",
      "[1] \"rnd5.lmer\"\n",
      "[1] \"Best model according to BIC\"\n",
      "[1] \"rnd5.lmer\"\n"
     ]
    }
   ],
   "source": [
    "rnd_effects_analysis_3_hand(stats.df_1)"
   ]
  },
  {
   "cell_type": "code",
   "execution_count": 17,
   "metadata": {},
   "outputs": [
    {
     "name": "stderr",
     "output_type": "stream",
     "text": [
      "singular fit\n",
      "singular fit\n",
      "refitting model(s) with ML (instead of REML)\n"
     ]
    },
    {
     "name": "stdout",
     "output_type": "stream",
     "text": [
      "Data: stats.df\n",
      "Models:\n",
      "rnd1.lmer: hand_IT ~ (1 | subj_id)\n",
      "rnd2.lmer: hand_IT ~ (c.(coherence) | subj_id)\n",
      "rnd3.lmer: hand_IT ~ (is_correct | subj_id)\n",
      "rnd4.lmer: hand_IT ~ ((c.(coherence) + is_correct) | subj_id)\n",
      "rnd5.lmer: hand_IT ~ ((c.(coherence) * is_correct) | subj_id)\n",
      "          Df     AIC     BIC logLik deviance    Chisq Chi Df Pr(>Chisq)    \n",
      "rnd1.lmer  3 -5370.0 -5349.5 2688.0  -5376.0                               \n",
      "rnd2.lmer  5 -6370.2 -6336.0 3190.1  -6380.2 1004.166      2  < 2.2e-16 ***\n",
      "rnd3.lmer  5 -5708.0 -5673.8 2859.0  -5718.0    0.000      0          1    \n",
      "rnd4.lmer  8 -6447.0 -6392.2 3231.5  -6463.0  745.005      3  < 2.2e-16 ***\n",
      "rnd5.lmer 12 -6503.9 -6421.7 3263.9  -6527.9   64.867      4  2.745e-13 ***\n",
      "---\n",
      "Signif. codes:  0 '***' 0.001 '**' 0.01 '*' 0.05 '.' 0.1 ' ' 1\n",
      "[1] \"Best model according to AIC\"\n",
      "[1] \"rnd5.lmer\"\n",
      "[1] \"Best model according to BIC\"\n",
      "[1] \"rnd5.lmer\"\n"
     ]
    }
   ],
   "source": [
    "rnd_effects_analysis_3_hand(stats.df_2)"
   ]
  },
  {
   "cell_type": "markdown",
   "metadata": {},
   "source": [
    "For both experiments, rnd5 is the best, but it doesn't converge for Exp 2, so we use rnd4"
   ]
  },
  {
   "cell_type": "markdown",
   "metadata": {},
   "source": [
    "## Hand IT: analysis"
   ]
  },
  {
   "cell_type": "code",
   "execution_count": 48,
   "metadata": {},
   "outputs": [],
   "source": [
    "run_analysis_3_hand <- function(stats.df, exp_name){\n",
    "    choice.mer = lmer(hand_IT ~ ((c.(coherence)+is_correct) | subj_id) + c.(coherence)*is_correct, stats.df)\n",
    "    print(summary(choice.mer))\n",
    "\n",
    "    choice.output = summary(choice.mer)$coefficients\n",
    "\n",
    "    file_name = sprintf(paste(output_table_path, \"hand_IT_vs_coh_%s.tex\", sep=\"\"), exp_name)\n",
    "    print(xtable(choice.output, digits = c(2,2,2,2,2,-2), \n",
    "                 label = \"tab:hand_IT_vs_coh\",\n",
    "                 caption = 'Hand initiation time as a function of stimulus strength'), \n",
    "          math.style.exponents = TRUE, type = \"latex\", file = file_name)\n",
    "}"
   ]
  },
  {
   "cell_type": "code",
   "execution_count": 49,
   "metadata": {},
   "outputs": [
    {
     "name": "stderr",
     "output_type": "stream",
     "text": [
      "singular fit\n"
     ]
    },
    {
     "name": "stdout",
     "output_type": "stream",
     "text": [
      "Linear mixed model fit by REML. t-tests use Satterthwaite's method [\n",
      "lmerModLmerTest]\n",
      "Formula: hand_IT ~ ((c.(coherence) + is_correct) | subj_id) + c.(coherence) *  \n",
      "    is_correct\n",
      "   Data: stats.df\n",
      "\n",
      "REML criterion at convergence: 2321.6\n",
      "\n",
      "Scaled residuals: \n",
      "    Min      1Q  Median      3Q     Max \n",
      "-3.5509 -0.5970 -0.1294  0.3916  4.7868 \n",
      "\n",
      "Random effects:\n",
      " Groups   Name           Variance Std.Dev. Corr       \n",
      " subj_id  (Intercept)    0.007164 0.08464             \n",
      "          c.(coherence)  0.242607 0.49255  -0.94      \n",
      "          is_correctTrue 0.001007 0.03174  -0.91  0.71\n",
      " Residual                0.075070 0.27399             \n",
      "Number of obs: 9153, groups:  subj_id, 4\n",
      "\n",
      "Fixed effects:\n",
      "                               Estimate Std. Error         df t value Pr(>|t|)\n",
      "(Intercept)                     0.43200    0.04326    3.14828   9.987  0.00173\n",
      "c.(coherence)                   0.05368    0.25541    3.43394   0.210  0.84540\n",
      "is_correctTrue                 -0.14692    0.01855    4.05590  -7.921  0.00130\n",
      "c.(coherence):is_correctTrue   -0.75761    0.07003 8374.27827 -10.818  < 2e-16\n",
      "                                \n",
      "(Intercept)                  ** \n",
      "c.(coherence)                   \n",
      "is_correctTrue               ** \n",
      "c.(coherence):is_correctTrue ***\n",
      "---\n",
      "Signif. codes:  0 '***' 0.001 '**' 0.01 '*' 0.05 '.' 0.1 ' ' 1\n",
      "\n",
      "Correlation of Fixed Effects:\n",
      "            (Intr) c.(ch) is_crT\n",
      "c.(cohernc) -0.843              \n",
      "is_corrctTr -0.861  0.486       \n",
      "c.(chrn):_T -0.159 -0.256  0.361\n",
      "convergence code: 0\n",
      "singular fit\n",
      "\n"
     ]
    }
   ],
   "source": [
    "run_analysis_3_hand(stats.df_1, \"exp_1\")"
   ]
  },
  {
   "cell_type": "code",
   "execution_count": 50,
   "metadata": {},
   "outputs": [
    {
     "name": "stderr",
     "output_type": "stream",
     "text": [
      "singular fit\n"
     ]
    },
    {
     "name": "stdout",
     "output_type": "stream",
     "text": [
      "Linear mixed model fit by REML. t-tests use Satterthwaite's method [\n",
      "lmerModLmerTest]\n",
      "Formula: hand_IT ~ ((c.(coherence) + is_correct) | subj_id) + c.(coherence) *  \n",
      "    is_correct\n",
      "   Data: stats.df\n",
      "\n",
      "REML criterion at convergence: -6488.9\n",
      "\n",
      "Scaled residuals: \n",
      "    Min      1Q  Median      3Q     Max \n",
      "-4.4086 -0.6173 -0.0694  0.4699  7.3069 \n",
      "\n",
      "Random effects:\n",
      " Groups   Name           Variance  Std.Dev. Corr     \n",
      " subj_id  (Intercept)    0.0110503 0.10512           \n",
      "          c.(coherence)  0.0363761 0.19073  0.58     \n",
      "          is_correctTrue 0.0002704 0.01645  0.03 0.84\n",
      " Residual                0.0228775 0.15125           \n",
      "Number of obs: 6959, groups:  subj_id, 3\n",
      "\n",
      "Fixed effects:\n",
      "                               Estimate Std. Error         df t value Pr(>|t|)\n",
      "(Intercept)                     0.32436    0.06090    2.01273   5.326   0.0330\n",
      "c.(coherence)                  -0.03936    0.11660    2.46320  -0.338   0.7623\n",
      "is_correctTrue                 -0.05958    0.01098    2.56749  -5.427   0.0182\n",
      "c.(coherence):is_correctTrue   -0.25885    0.04004 6936.84847  -6.465 1.08e-10\n",
      "                                \n",
      "(Intercept)                  *  \n",
      "c.(coherence)                   \n",
      "is_correctTrue               *  \n",
      "c.(coherence):is_correctTrue ***\n",
      "---\n",
      "Signif. codes:  0 '***' 0.001 '**' 0.01 '*' 0.05 '.' 0.1 ' ' 1\n",
      "\n",
      "Correlation of Fixed Effects:\n",
      "            (Intr) c.(ch) is_crT\n",
      "c.(cohernc)  0.561              \n",
      "is_corrctTr -0.009  0.571       \n",
      "c.(chrn):_T -0.059 -0.315  0.315\n",
      "convergence code: 0\n",
      "singular fit\n",
      "\n"
     ]
    }
   ],
   "source": [
    "run_analysis_3_hand(stats.df_2, \"exp_2\")"
   ]
  },
  {
   "cell_type": "markdown",
   "metadata": {},
   "source": [
    "## Eye IT: Random effects structure"
   ]
  },
  {
   "cell_type": "code",
   "execution_count": 21,
   "metadata": {},
   "outputs": [],
   "source": [
    "rnd_effects_analysis_3_eye <- function(stats.df){\n",
    "    rnd1.lmer = lmer(eye_IT ~ (1|subj_id), stats.df)\n",
    "\n",
    "    rnd2.lmer = lmer(eye_IT ~ (c.(coherence)|subj_id), stats.df)\n",
    "\n",
    "    rnd3.lmer = lmer(eye_IT ~ (is_correct|subj_id), stats.df)\n",
    "\n",
    "    rnd4.lmer = lmer(eye_IT ~ ((c.(coherence) + is_correct)|subj_id), stats.df)\n",
    "    \n",
    "    rnd5.lmer = lmer(eye_IT ~ ((c.(coherence)*is_correct)|subj_id), stats.df)\n",
    "    \n",
    "    rnd.anova = anova(rnd1.lmer, rnd2.lmer, rnd3.lmer, rnd4.lmer, rnd5.lmer)\n",
    "    print(rnd.anova)\n",
    "    print(\"Best model according to AIC\")\n",
    "    print(row.names(rnd.anova[rnd.anova$AIC==min(rnd.anova$AIC), ]))\n",
    "    print(\"Best model according to BIC\")\n",
    "    print(row.names(rnd.anova[rnd.anova$BIC==min(rnd.anova$BIC), ]))\n",
    "}"
   ]
  },
  {
   "cell_type": "code",
   "execution_count": 22,
   "metadata": {},
   "outputs": [
    {
     "name": "stderr",
     "output_type": "stream",
     "text": [
      "singular fit\n",
      "refitting model(s) with ML (instead of REML)\n"
     ]
    },
    {
     "name": "stdout",
     "output_type": "stream",
     "text": [
      "Data: stats.df\n",
      "Models:\n",
      "rnd1.lmer: eye_IT ~ (1 | subj_id)\n",
      "rnd2.lmer: eye_IT ~ (c.(coherence) | subj_id)\n",
      "rnd3.lmer: eye_IT ~ (is_correct | subj_id)\n",
      "rnd4.lmer: eye_IT ~ ((c.(coherence) + is_correct) | subj_id)\n",
      "rnd5.lmer: eye_IT ~ ((c.(coherence) * is_correct) | subj_id)\n",
      "          Df     AIC     BIC logLik deviance   Chisq Chi Df Pr(>Chisq)    \n",
      "rnd1.lmer  3 -2096.1 -2074.8 1051.1  -2102.1                              \n",
      "rnd2.lmer  5 -3164.4 -3128.7 1587.2  -3174.4 1072.21      2     <2e-16 ***\n",
      "rnd3.lmer  5 -2487.0 -2451.4 1248.5  -2497.0    0.00      0          1    \n",
      "rnd4.lmer  8 -3241.5 -3184.6 1628.8  -3257.5  760.57      3     <2e-16 ***\n",
      "rnd5.lmer 12 -3348.9 -3263.4 1686.5  -3372.9  115.37      4     <2e-16 ***\n",
      "---\n",
      "Signif. codes:  0 '***' 0.001 '**' 0.01 '*' 0.05 '.' 0.1 ' ' 1\n",
      "[1] \"Best model according to AIC\"\n",
      "[1] \"rnd5.lmer\"\n",
      "[1] \"Best model according to BIC\"\n",
      "[1] \"rnd5.lmer\"\n"
     ]
    }
   ],
   "source": [
    "rnd_effects_analysis_3_eye(stats.df_1)"
   ]
  },
  {
   "cell_type": "code",
   "execution_count": 23,
   "metadata": {},
   "outputs": [
    {
     "name": "stderr",
     "output_type": "stream",
     "text": [
      "singular fit\n",
      "singular fit\n",
      "refitting model(s) with ML (instead of REML)\n"
     ]
    },
    {
     "name": "stdout",
     "output_type": "stream",
     "text": [
      "Data: stats.df\n",
      "Models:\n",
      "rnd1.lmer: eye_IT ~ (1 | subj_id)\n",
      "rnd2.lmer: eye_IT ~ (c.(coherence) | subj_id)\n",
      "rnd3.lmer: eye_IT ~ (is_correct | subj_id)\n",
      "rnd4.lmer: eye_IT ~ ((c.(coherence) + is_correct) | subj_id)\n",
      "rnd5.lmer: eye_IT ~ ((c.(coherence) * is_correct) | subj_id)\n",
      "          Df     AIC     BIC logLik deviance   Chisq Chi Df Pr(>Chisq)    \n",
      "rnd1.lmer  3 -7595.3 -7574.8 3800.7  -7601.3                              \n",
      "rnd2.lmer  5 -8424.6 -8390.3 4217.3  -8434.6 833.230      2     <2e-16 ***\n",
      "rnd3.lmer  5 -7978.4 -7944.2 3994.2  -7988.4   0.000      0          1    \n",
      "rnd4.lmer  8 -8553.8 -8499.0 4284.9  -8569.8 581.394      3     <2e-16 ***\n",
      "rnd5.lmer 12 -8637.3 -8555.2 4330.7  -8661.3  91.545      4     <2e-16 ***\n",
      "---\n",
      "Signif. codes:  0 '***' 0.001 '**' 0.01 '*' 0.05 '.' 0.1 ' ' 1\n",
      "[1] \"Best model according to AIC\"\n",
      "[1] \"rnd5.lmer\"\n",
      "[1] \"Best model according to BIC\"\n",
      "[1] \"rnd5.lmer\"\n"
     ]
    }
   ],
   "source": [
    "rnd_effects_analysis_3_eye(stats.df_2)"
   ]
  },
  {
   "cell_type": "markdown",
   "metadata": {},
   "source": [
    "In both experiments, rnd5 works great, and the resulting model actually converges"
   ]
  },
  {
   "cell_type": "markdown",
   "metadata": {},
   "source": [
    "## Eye IT: Analysis"
   ]
  },
  {
   "cell_type": "code",
   "execution_count": 51,
   "metadata": {},
   "outputs": [],
   "source": [
    "run_analysis_3_eye <- function(stats.df, exp_name){\n",
    "    choice.mer = lmer(eye_IT ~ ((c.(coherence)*is_correct)|subj_id) + c.(coherence)*is_correct, stats.df)\n",
    "    print(summary(choice.mer))\n",
    "\n",
    "    choice.output = summary(choice.mer)$coefficients\n",
    "\n",
    "    file_name = sprintf(paste(output_table_path, \"eye_IT_vs_coh_%s.tex\", sep=\"\"), exp_name)\n",
    "    print(xtable(choice.output, digits = c(2,2,2,2,2,-2), \n",
    "                 label = \"tab:eye_IT_vs_coh\",\n",
    "                 caption = 'Eye initiation time as a function of stimulus strength'), \n",
    "          math.style.exponents = TRUE, type = \"latex\", file = file_name)\n",
    "}"
   ]
  },
  {
   "cell_type": "code",
   "execution_count": 52,
   "metadata": {},
   "outputs": [
    {
     "name": "stderr",
     "output_type": "stream",
     "text": [
      "singular fit\n"
     ]
    },
    {
     "name": "stdout",
     "output_type": "stream",
     "text": [
      "Linear mixed model fit by REML. t-tests use Satterthwaite's method [\n",
      "lmerModLmerTest]\n",
      "Formula: eye_IT ~ ((c.(coherence) * is_correct) | subj_id) + c.(coherence) *  \n",
      "    is_correct\n",
      "   Data: stats.df\n",
      "\n",
      "REML criterion at convergence: -3362.2\n",
      "\n",
      "Scaled residuals: \n",
      "    Min      1Q  Median      3Q     Max \n",
      "-2.4366 -0.5844 -0.2234  0.2850  5.9121 \n",
      "\n",
      "Random effects:\n",
      " Groups   Name                         Variance  Std.Dev. Corr             \n",
      " subj_id  (Intercept)                  0.0055674 0.07462                   \n",
      "          c.(coherence)                0.0395148 0.19878   0.44            \n",
      "          is_correctTrue               0.0008091 0.02845  -0.85 -0.16      \n",
      "          c.(coherence):is_correctTrue 0.0306329 0.17502  -0.94 -0.69  0.79\n",
      " Residual                              0.0403073 0.20077                   \n",
      "Number of obs: 9153, groups:  subj_id, 4\n",
      "\n",
      "Fixed effects:\n",
      "                             Estimate Std. Error       df t value Pr(>|t|)   \n",
      "(Intercept)                   0.39369    0.03792  2.96049  10.383  0.00202 **\n",
      "c.(coherence)                 0.13277    0.11179  2.91946   1.188  0.32253   \n",
      "is_correctTrue               -0.09385    0.01596  3.27039  -5.881  0.00767 **\n",
      "c.(coherence):is_correctTrue -0.51163    0.10223  3.05899  -5.005  0.01465 * \n",
      "---\n",
      "Signif. codes:  0 '***' 0.001 '**' 0.01 '*' 0.05 '.' 0.1 ' ' 1\n",
      "\n",
      "Correlation of Fixed Effects:\n",
      "            (Intr) c.(ch) is_crT\n",
      "c.(cohernc)  0.454              \n",
      "is_corrctTr -0.824 -0.287       \n",
      "c.(chrn):_T -0.865 -0.758  0.772\n",
      "convergence code: 0\n",
      "singular fit\n",
      "\n"
     ]
    }
   ],
   "source": [
    "run_analysis_3_eye(stats.df_1, \"exp_1\")"
   ]
  },
  {
   "cell_type": "code",
   "execution_count": 53,
   "metadata": {},
   "outputs": [
    {
     "name": "stderr",
     "output_type": "stream",
     "text": [
      "singular fit\n"
     ]
    },
    {
     "name": "stdout",
     "output_type": "stream",
     "text": [
      "Linear mixed model fit by REML. t-tests use Satterthwaite's method [\n",
      "lmerModLmerTest]\n",
      "Formula: eye_IT ~ ((c.(coherence) * is_correct) | subj_id) + c.(coherence) *  \n",
      "    is_correct\n",
      "   Data: stats.df\n",
      "\n",
      "REML criterion at convergence: -8649.1\n",
      "\n",
      "Scaled residuals: \n",
      "    Min      1Q  Median      3Q     Max \n",
      "-3.2262 -0.5992 -0.1646  0.2849  6.9653 \n",
      "\n",
      "Random effects:\n",
      " Groups   Name                         Variance  Std.Dev. Corr             \n",
      " subj_id  (Intercept)                  0.0080339 0.08963                   \n",
      "          c.(coherence)                0.0044709 0.06687  -0.87            \n",
      "          is_correctTrue               0.0007126 0.02670  -0.97  0.97      \n",
      "          c.(coherence):is_correctTrue 0.0088884 0.09428  -0.77  0.99  0.91\n",
      " Residual                              0.0167746 0.12952                   \n",
      "Number of obs: 6959, groups:  subj_id, 3\n",
      "\n",
      "Fixed effects:\n",
      "                             Estimate Std. Error       df t value Pr(>|t|)  \n",
      "(Intercept)                   0.36109    0.05193  2.00501   6.953   0.0199 *\n",
      "c.(coherence)                 0.11284    0.05065  2.21440   2.228   0.1433  \n",
      "is_correctTrue               -0.06890    0.01612  2.03527  -4.275   0.0491 *\n",
      "c.(coherence):is_correctTrue -0.34288    0.06431  1.91452  -5.331   0.0367 *\n",
      "---\n",
      "Signif. codes:  0 '***' 0.001 '**' 0.01 '*' 0.05 '.' 0.1 ' ' 1\n",
      "\n",
      "Correlation of Fixed Effects:\n",
      "            (Intr) c.(ch) is_crT\n",
      "c.(cohernc) -0.620              \n",
      "is_corrctTr -0.944  0.576       \n",
      "c.(chrn):_T -0.683  0.305  0.834\n",
      "convergence code: 0\n",
      "singular fit\n",
      "\n"
     ]
    }
   ],
   "source": [
    "run_analysis_3_eye(stats.df_2, \"exp_2\")"
   ]
  },
  {
   "cell_type": "markdown",
   "metadata": {},
   "source": [
    "# Analysis 4. Symmetry of the lags between hand and eye movement"
   ]
  },
  {
   "cell_type": "markdown",
   "metadata": {},
   "source": [
    "## Lag at initial decision"
   ]
  },
  {
   "cell_type": "markdown",
   "metadata": {},
   "source": [
    "This is a tricky one, see the plots in the eye_hand_lags notebook. Lag at initial decision is mostly defined by hand initiation time, the baseline for which is highly individual-specific. Overall, the average lag is negative in both experiments:"
   ]
  },
  {
   "cell_type": "code",
   "execution_count": 27,
   "metadata": {},
   "outputs": [
    {
     "data": {
      "text/plain": [
       "\n",
       "\tOne Sample t-test\n",
       "\n",
       "data:  stats.df_1$ID_lag\n",
       "t = -5.1241, df = 9152, p-value = 3.051e-07\n",
       "alternative hypothesis: true mean is not equal to 0\n",
       "95 percent confidence interval:\n",
       " -0.015814980 -0.007062961\n",
       "sample estimates:\n",
       "  mean of x \n",
       "-0.01143897 \n"
      ]
     },
     "metadata": {},
     "output_type": "display_data"
    }
   ],
   "source": [
    "t.test(stats.df_1$ID_lag)"
   ]
  },
  {
   "cell_type": "code",
   "execution_count": 28,
   "metadata": {
    "scrolled": false
   },
   "outputs": [
    {
     "data": {
      "text/plain": [
       "\n",
       "\tOne Sample t-test\n",
       "\n",
       "data:  stats.df_2$ID_lag\n",
       "t = -12.264, df = 6958, p-value < 2.2e-16\n",
       "alternative hypothesis: true mean is not equal to 0\n",
       "95 percent confidence interval:\n",
       " -0.02768085 -0.02005109\n",
       "sample estimates:\n",
       "  mean of x \n",
       "-0.02386597 \n"
      ]
     },
     "metadata": {},
     "output_type": "display_data"
    }
   ],
   "source": [
    "t.test(stats.df_2$ID_lag)"
   ]
  },
  {
   "cell_type": "markdown",
   "metadata": {},
   "source": [
    "However, when accounting for individual differences, there is no evidence that population-level intercept is different from zero."
   ]
  },
  {
   "cell_type": "code",
   "execution_count": 29,
   "metadata": {},
   "outputs": [],
   "source": [
    "run_analysis_4_ID <- function(stats.df, exp_name){\n",
    "    choice.mer = lmer(ID_lag ~ (1|subj_id) + 1, stats.df)\n",
    "    print(summary(choice.mer))\n",
    "\n",
    "    choice.output = summary(choice.mer)$coefficients\n",
    "}"
   ]
  },
  {
   "cell_type": "code",
   "execution_count": 30,
   "metadata": {
    "scrolled": true
   },
   "outputs": [
    {
     "name": "stdout",
     "output_type": "stream",
     "text": [
      "Linear mixed model fit by REML. t-tests use Satterthwaite's method [\n",
      "lmerModLmerTest]\n",
      "Formula: ID_lag ~ (1 | subj_id) + 1\n",
      "   Data: stats.df\n",
      "\n",
      "REML criterion at convergence: -3080.5\n",
      "\n",
      "Scaled residuals: \n",
      "    Min      1Q  Median      3Q     Max \n",
      "-7.3212 -0.4035 -0.0539  0.3350  5.7875 \n",
      "\n",
      "Random effects:\n",
      " Groups   Name        Variance Std.Dev.\n",
      " subj_id  (Intercept) 0.005097 0.07139 \n",
      " Residual             0.041697 0.20420 \n",
      "Number of obs: 9153, groups:  subj_id, 4\n",
      "\n",
      "Fixed effects:\n",
      "            Estimate Std. Error       df t value Pr(>|t|)\n",
      "(Intercept) -0.01032    0.03576  3.00061  -0.289    0.792\n"
     ]
    }
   ],
   "source": [
    "run_analysis_4_ID(stats.df_1, \"exp_1\")"
   ]
  },
  {
   "cell_type": "code",
   "execution_count": 31,
   "metadata": {},
   "outputs": [
    {
     "name": "stdout",
     "output_type": "stream",
     "text": [
      "Linear mixed model fit by REML. t-tests use Satterthwaite's method [\n",
      "lmerModLmerTest]\n",
      "Formula: ID_lag ~ (1 | subj_id) + 1\n",
      "   Data: stats.df\n",
      "\n",
      "REML criterion at convergence: -7896.9\n",
      "\n",
      "Scaled residuals: \n",
      "    Min      1Q  Median      3Q     Max \n",
      "-5.3924 -0.4577  0.0393  0.4825  7.9482 \n",
      "\n",
      "Random effects:\n",
      " Groups   Name        Variance Std.Dev.\n",
      " subj_id  (Intercept) 0.01166  0.108   \n",
      " Residual             0.01876  0.137   \n",
      "Number of obs: 6959, groups:  subj_id, 3\n",
      "\n",
      "Fixed effects:\n",
      "            Estimate Std. Error       df t value Pr(>|t|)\n",
      "(Intercept) -0.02762    0.06238  1.99992  -0.443    0.701\n"
     ]
    }
   ],
   "source": [
    "run_analysis_4_ID(stats.df_2, \"exp_2\")"
   ]
  },
  {
   "cell_type": "markdown",
   "metadata": {},
   "source": [
    "For these reasons, I'd suggest we do not make any general claims regarding the hand-eye lag at initial decision. We can potentially try to account for positive/negative lags in different participants in Nadim's model by fitting it to the individual-level data, but IMO that's not very meaningful"
   ]
  },
  {
   "cell_type": "markdown",
   "metadata": {},
   "source": [
    "## Lag at change-of-mind decision"
   ]
  },
  {
   "cell_type": "markdown",
   "metadata": {},
   "source": [
    "Just as the lag at initial decision, the CoM lag is negative overall"
   ]
  },
  {
   "cell_type": "code",
   "execution_count": 32,
   "metadata": {},
   "outputs": [
    {
     "data": {
      "text/plain": [
       "\n",
       "\tOne Sample t-test\n",
       "\n",
       "data:  stats.df_1$com_lag\n",
       "t = -4.1093, df = 224, p-value = 5.567e-05\n",
       "alternative hypothesis: true mean is not equal to 0\n",
       "95 percent confidence interval:\n",
       " -0.08374215 -0.02945785\n",
       "sample estimates:\n",
       "mean of x \n",
       "  -0.0566 \n"
      ]
     },
     "metadata": {},
     "output_type": "display_data"
    }
   ],
   "source": [
    "t.test(stats.df_1$com_lag)"
   ]
  },
  {
   "cell_type": "code",
   "execution_count": 33,
   "metadata": {
    "scrolled": true
   },
   "outputs": [
    {
     "data": {
      "text/plain": [
       "\n",
       "\tOne Sample t-test\n",
       "\n",
       "data:  stats.df_2$com_lag\n",
       "t = -5.4062, df = 201, p-value = 1.815e-07\n",
       "alternative hypothesis: true mean is not equal to 0\n",
       "95 percent confidence interval:\n",
       " -0.06298461 -0.02931836\n",
       "sample estimates:\n",
       "  mean of x \n",
       "-0.04615149 \n"
      ]
     },
     "metadata": {},
     "output_type": "display_data"
    }
   ],
   "source": [
    "t.test(stats.df_2$com_lag)"
   ]
  },
  {
   "cell_type": "markdown",
   "metadata": {},
   "source": [
    "In Experiment 1, negativity remains when accounting for individual differences, but, interestingly, not in Experiment 2"
   ]
  },
  {
   "cell_type": "code",
   "execution_count": 34,
   "metadata": {},
   "outputs": [],
   "source": [
    "run_analysis_4_COM <- function(stats.df, exp_name){\n",
    "    choice.mer = lmer(com_lag ~ (1|subj_id) + 1, stats.df)\n",
    "    print(summary(choice.mer))\n",
    "\n",
    "    choice.output = summary(choice.mer)$coefficients\n",
    "}"
   ]
  },
  {
   "cell_type": "code",
   "execution_count": 35,
   "metadata": {},
   "outputs": [
    {
     "name": "stderr",
     "output_type": "stream",
     "text": [
      "singular fit\n"
     ]
    },
    {
     "name": "stdout",
     "output_type": "stream",
     "text": [
      "Linear mixed model fit by REML. t-tests use Satterthwaite's method [\n",
      "lmerModLmerTest]\n",
      "Formula: com_lag ~ (1 | subj_id) + 1\n",
      "   Data: stats.df\n",
      "\n",
      "REML criterion at convergence: -65.4\n",
      "\n",
      "Scaled residuals: \n",
      "    Min      1Q  Median      3Q     Max \n",
      "-5.2758 -0.0673  0.2251  0.4201  3.1945 \n",
      "\n",
      "Random effects:\n",
      " Groups   Name        Variance  Std.Dev. \n",
      " subj_id  (Intercept) 7.006e-17 8.370e-09\n",
      " Residual             4.268e-02 2.066e-01\n",
      "Number of obs: 225, groups:  subj_id, 4\n",
      "\n",
      "Fixed effects:\n",
      "             Estimate Std. Error        df t value Pr(>|t|)    \n",
      "(Intercept)  -0.05660    0.01377 224.00000  -4.109 5.57e-05 ***\n",
      "---\n",
      "Signif. codes:  0 '***' 0.001 '**' 0.01 '*' 0.05 '.' 0.1 ' ' 1\n",
      "convergence code: 0\n",
      "singular fit\n",
      "\n"
     ]
    }
   ],
   "source": [
    "run_analysis_4_COM(stats.df_1, \"exp_1\")"
   ]
  },
  {
   "cell_type": "code",
   "execution_count": 36,
   "metadata": {},
   "outputs": [
    {
     "name": "stdout",
     "output_type": "stream",
     "text": [
      "Linear mixed model fit by REML. t-tests use Satterthwaite's method [\n",
      "lmerModLmerTest]\n",
      "Formula: com_lag ~ (1 | subj_id) + 1\n",
      "   Data: stats.df\n",
      "\n",
      "REML criterion at convergence: -280.4\n",
      "\n",
      "Scaled residuals: \n",
      "    Min      1Q  Median      3Q     Max \n",
      "-5.3742 -0.1437  0.2215  0.5430  1.7652 \n",
      "\n",
      "Random effects:\n",
      " Groups   Name        Variance Std.Dev.\n",
      " subj_id  (Intercept) 0.001207 0.03474 \n",
      " Residual             0.013869 0.11777 \n",
      "Number of obs: 202, groups:  subj_id, 3\n",
      "\n",
      "Fixed effects:\n",
      "            Estimate Std. Error       df t value Pr(>|t|)\n",
      "(Intercept) -0.04185    0.02174  2.04618  -1.925    0.191\n"
     ]
    }
   ],
   "source": [
    "run_analysis_4_COM(stats.df_2, \"exp_2\")"
   ]
  }
 ],
 "metadata": {
  "kernelspec": {
   "display_name": "R",
   "language": "R",
   "name": "ir"
  },
  "language_info": {
   "codemirror_mode": "r",
   "file_extension": ".r",
   "mimetype": "text/x-r-source",
   "name": "R",
   "pygments_lexer": "r",
   "version": "3.5.2"
  }
 },
 "nbformat": 4,
 "nbformat_minor": 2
}
