{
 "cells": [
  {
   "cell_type": "markdown",
   "metadata": {},
   "source": [
    "Importing data"
   ]
  },
  {
   "cell_type": "code",
   "execution_count": 1,
   "metadata": {},
   "outputs": [
    {
     "name": "stderr",
     "output_type": "stream",
     "text": [
      "Loading required package: survival\n",
      "Loading required package: Matrix\n",
      "\n",
      "Attaching package: 'lmerTest'\n",
      "\n",
      "The following object is masked from 'package:lme4':\n",
      "\n",
      "    lmer\n",
      "\n",
      "The following object is masked from 'package:stats':\n",
      "\n",
      "    step\n",
      "\n",
      "Loading required package: carData\n",
      "Registered S3 methods overwritten by 'car':\n",
      "  method                          from\n",
      "  influence.merMod                lme4\n",
      "  cooks.distance.influence.merMod lme4\n",
      "  dfbeta.influence.merMod         lme4\n",
      "  dfbetas.influence.merMod        lme4\n"
     ]
    }
   ],
   "source": [
    "library(coin)\n",
    "library(lme4)\n",
    "library(lmerTest)\n",
    "library(plyr)\n",
    "library(xtable)\n",
    "library(LMERConvenienceFunctions)\n",
    "library(car)\n",
    "# library(lmerTest) see also https://link.springer.com/article/10.3758/s13428-016-0809-y \n",
    "\n",
    "source(\"r_utils/mer-utils.R\")\n",
    "source(\"r_utils/regression-utils.R\")"
   ]
  },
  {
   "cell_type": "code",
   "execution_count": 2,
   "metadata": {},
   "outputs": [
    {
     "name": "stderr",
     "output_type": "stream",
     "text": [
      "Warning message in readLines(file(\"data_path.txt\", open = \"r\")):\n",
      "\"incomplete final line found on 'data_path.txt'\""
     ]
    }
   ],
   "source": [
    "data_path <- file.path(readLines(file(\"data_path.txt\", open=\"r\")), \"processed\", \"choices.txt\")\n",
    "output_table_path <- file.path(readLines(file(\"table_path.txt\", open=\"r\")))\n",
    "\n",
    "choice.data = read.table(data_path, sep=\"\\t\", header=T)"
   ]
  },
  {
   "cell_type": "markdown",
   "metadata": {},
   "source": [
    "A bit of preprocessing to create variables for analyzing sequential effects"
   ]
  },
  {
   "cell_type": "code",
   "execution_count": 3,
   "metadata": {
    "scrolled": false
   },
   "outputs": [
    {
     "name": "stdout",
     "output_type": "stream",
     "text": [
      "'data.frame':\t26280 obs. of  28 variables:\n",
      " $ subj_id        : Factor w/ 11 levels \"196\",\"247\",\"269\",..: 1 1 1 1 1 1 1 1 1 1 ...\n",
      " $ session_no     : int  1 1 1 1 1 1 1 1 1 1 ...\n",
      " $ block_no       : int  1 1 1 1 1 1 1 1 1 1 ...\n",
      " $ trial_no       : int  1 2 3 4 5 6 7 8 9 10 ...\n",
      " $ is_practice    : Factor w/ 2 levels \"False\",\"True\": 1 1 1 1 1 1 1 1 1 1 ...\n",
      " $ direction      : num  180 180 0 180 0 180 0 180 180 180 ...\n",
      " $ coherence      : num  0.256 0.064 0.064 0.064 0 0.032 0.256 0.512 0.512 0.064 ...\n",
      " $ duration       : int  800 800 800 800 800 800 800 800 800 800 ...\n",
      " $ response       : int  180 0 180 180 180 0 180 0 180 180 ...\n",
      " $ trial_time     : num  0.83 1.33 1.21 1.3 1.2 ...\n",
      " $ is_correct     : Factor w/ 2 levels \"False\",\"True\": 2 1 1 2 1 1 1 1 2 2 ...\n",
      "  ..- attr(*, \"contrasts\")= num [1:2, 1] -0.5 0.5\n",
      "  .. ..- attr(*, \"dimnames\")=List of 2\n",
      "  .. .. ..$ : chr  \"False\" \"True\"\n",
      "  .. .. ..$ : NULL\n",
      " $ xflips         : int  0 1 2 0 0 1 1 0 0 0 ...\n",
      " $ max_d          : num  -99.9 99.5 -51.8 58.9 48.7 ...\n",
      " $ idx_max_d      : num  51 75 71 59 64 52 53 44 20 108 ...\n",
      " $ midline_d      : num  0 0 0 0 0 0 1 0 1 0 ...\n",
      " $ idx_midline_d  : num  20 52 44 47 44 39 37 32 0 30 ...\n",
      " $ midline_d_t    : num  0.202 0.524 0.443 0.474 0.444 ...\n",
      " $ midline_d_y    : num  30 30 30 30 30 30 37 32 31 30 ...\n",
      " $ is_com         : Factor w/ 2 levels \"False\",\"True\": 1 1 1 1 1 1 1 1 1 1 ...\n",
      "  ..- attr(*, \"contrasts\")= num [1:2, 1] -0.5 0.5\n",
      "  .. ..- attr(*, \"dimnames\")=List of 2\n",
      "  .. .. ..$ : chr  \"False\" \"True\"\n",
      "  .. .. ..$ : NULL\n",
      " $ com_type       : Factor w/ 2 levels \"early\",\"late\": 1 2 1 2 1 1 1 1 1 1 ...\n",
      " $ is_correct_init: Factor w/ 2 levels \"False\",\"True\": 2 1 1 2 1 1 1 1 2 2 ...\n",
      " $ is_double_com  : Factor w/ 1 level \"False\": 1 1 1 1 1 1 1 1 1 1 ...\n",
      " $ RT             : num  0.181 0.504 0.423 0.454 0.423 ...\n",
      " $ motion_time    : num  0.638 0.819 0.779 0.839 0.768 ...\n",
      " $ stim_RT        : num  0 0 0 0 0 ...\n",
      " $ RT_z           : num  1.03 2.73 2.3 2.47 2.31 ...\n",
      " $ RT.tertile     : int  2 3 3 3 3 3 3 3 1 3 ...\n",
      " $ RT..z..tertile : int  3 3 3 3 3 3 3 3 1 3 ...\n"
     ]
    }
   ],
   "source": [
    "preprocess_data <- function(choice.data) {\n",
    "    stats.df = choice.data\n",
    "    \n",
    "    names(stats.df)[names(stats.df) == 'RT..z.'] <- 'RT_z'\n",
    "    stats.df$subj_id = as.factor(stats.df$subj_id)\n",
    "    \n",
    "    contrasts(stats.df$is_com) = contr.sum(n=2) /2 *-1\n",
    "    contrasts(stats.df$is_com)# true is pos\n",
    "    \n",
    "    contrasts(stats.df$is_correct) = contr.sum(n=2) /2 *-1\n",
    "    contrasts(stats.df$is_correct)# true is pos\n",
    "\n",
    "    str(stats.df)\n",
    "\n",
    "    return(stats.df)\n",
    "}\n",
    "\n",
    "stats.df = preprocess_data(choice.data)"
   ]
  },
  {
   "cell_type": "markdown",
   "metadata": {},
   "source": [
    "# Analysis 1. Accuracy as a function of coherence"
   ]
  },
  {
   "cell_type": "code",
   "execution_count": 4,
   "metadata": {},
   "outputs": [],
   "source": [
    "rnd_effects_analysis_1 <- function(stats.df){\n",
    "    rnd1.lmer = glmer(is_correct ~ (1|subj_id), \n",
    "                 stats.df[stats.df$coherence!=0,], \n",
    "                 family = binomial)\n",
    "\n",
    "    # rnd intercept for each participant and random slope of coherence\n",
    "    # diff avg acc, diff coherence effect for each p\n",
    "    rnd2.lmer = glmer(is_correct ~ (c.(coherence)|subj_id), \n",
    "                      stats.df[stats.df$coherence!=0,], \n",
    "                      family = binomial)\n",
    "\n",
    "    # rnd intercept for each participant and random slope of trials\n",
    "    # diff avg acc, diff linear and quad learning effect for each p\n",
    "    rnd3.lmer = glmer(is_correct ~ (poly(coherence, 2, raw = T)|subj_id), \n",
    "                           stats.df[stats.df$coherence!=0,], \n",
    "                           family = binomial)\n",
    "\n",
    "    # rnd.lmer with com and coherence\n",
    "    rnd4.lmer = glmer(is_correct ~ ((is_com + c.(coherence))|subj_id),\n",
    "                      stats.df[stats.df$coherence!=0,],\n",
    "                      family = binomial)\n",
    "\n",
    "    # rnd.lmer with com by coherence\n",
    "    rnd5.lmer = glmer(is_correct ~ ((is_com*c.(coherence))|subj_id),\n",
    "                      stats.df[stats.df$coherence!=0,],\n",
    "                      family = binomial)\n",
    "    \n",
    "    rnd.anova = anova(rnd1.lmer, rnd2.lmer, rnd3.lmer, rnd4.lmer, rnd5.lmer)\n",
    "    print(rnd.anova)\n",
    "    \n",
    "    print(\"Best model according to AIC\")\n",
    "    print(row.names(rnd.anova[rnd.anova$AIC==min(rnd.anova$AIC), ]))\n",
    "    print(\"Best model according to BIC\")\n",
    "    print(row.names(rnd.anova[rnd.anova$BIC==min(rnd.anova$BIC), ]))\n",
    "}"
   ]
  },
  {
   "cell_type": "code",
   "execution_count": null,
   "metadata": {},
   "outputs": [],
   "source": [
    "rnd_effects_analysis_1(stats.df)"
   ]
  },
  {
   "cell_type": "markdown",
   "metadata": {},
   "source": [
    "rnd5 is the best, but the resulting full model does not converge, just as with rnd4, therefore we only use random effect for coherence (rnd2)"
   ]
  },
  {
   "cell_type": "code",
   "execution_count": 4,
   "metadata": {},
   "outputs": [],
   "source": [
    "run_analysis_1 <- function(stats.df){\n",
    "    choice.mer = glmer(is_correct ~ is_com*c.(coherence) + (c.(coherence)|subj_id),\n",
    "                      stats.df[stats.df$coherence!=0,],\n",
    "                      family = binomial)\n",
    "    print(summary(choice.mer))\n",
    "\n",
    "    choice.output = summary(choice.mer)$coefficients\n",
    "    row.names(choice.output) <- c(\"Intercept\", \"Is CoM\", \"Coherence\", \"Is CoM by Coherence\")\n",
    "\n",
    "    file_name = paste(output_table_path, \"is_correct_vs_coh.tex\", sep=\"/\")\n",
    "    print(xtable(choice.output, digits = c(4,4,4,4,4),# display = c(\"g\",\"g\",\"g\",\"g\",\"g\"), \n",
    "                 label = \"tab:is_correct_vs_coh\",\n",
    "                 caption = \"Parameters of a linear mixed-effects model analysing choice accuracy as a function \n",
    "                            of coherence and presence or absence of a change-of-mind. The model included a random\n",
    "                            intercept for participant and random slopes for coherence within participant.\"), \n",
    "          caption.placement = \"top\", table.placement=\"t\", floating.environment = \"table*\",\n",
    "          math.style.exponents = TRUE, type = \"latex\", booktabs = TRUE, file = file_name)\n",
    "}"
   ]
  },
  {
   "cell_type": "code",
   "execution_count": 5,
   "metadata": {
    "scrolled": false
   },
   "outputs": [
    {
     "name": "stdout",
     "output_type": "stream",
     "text": [
      "Generalized linear mixed model fit by maximum likelihood (Laplace\n",
      "  Approximation) [glmerMod]\n",
      " Family: binomial  ( logit )\n",
      "Formula: is_correct ~ is_com * c.(coherence) + (c.(coherence) | subj_id)\n",
      "   Data: stats.df[stats.df$coherence != 0, ]\n",
      "\n",
      "     AIC      BIC   logLik deviance df.resid \n",
      " 19959.8  20015.7  -9972.9  19945.8    21888 \n",
      "\n",
      "Scaled residuals: \n",
      "    Min      1Q  Median      3Q     Max \n",
      "-68.293   0.015   0.257   0.680   1.107 \n",
      "\n",
      "Random effects:\n",
      " Groups  Name          Variance Std.Dev. Corr\n",
      " subj_id (Intercept)   0.3047   0.552        \n",
      "         c.(coherence) 8.2189   2.867    0.98\n",
      "Number of obs: 21895, groups:  subj_id, 11\n",
      "\n",
      "Fixed effects:\n",
      "                      Estimate Std. Error z value Pr(>|z|)    \n",
      "(Intercept)             1.1751     0.1645   7.144 9.06e-13 ***\n",
      "is_com1                -1.3436     0.1129 -11.905  < 2e-16 ***\n",
      "c.(coherence)           6.2918     0.8918   7.055 1.72e-12 ***\n",
      "is_com1:c.(coherence)  -6.7564     0.8058  -8.385  < 2e-16 ***\n",
      "---\n",
      "Signif. codes:  0 '***' 0.001 '**' 0.01 '*' 0.05 '.' 0.1 ' ' 1\n",
      "\n",
      "Correlation of Fixed Effects:\n",
      "            (Intr) is_cm1 c.(ch)\n",
      "is_com1     0.291               \n",
      "c.(cohernc) 0.923  0.241        \n",
      "is_cm1:c.() 0.167  0.651  0.371 \n"
     ]
    }
   ],
   "source": [
    "run_analysis_1(stats.df)"
   ]
  },
  {
   "cell_type": "markdown",
   "metadata": {},
   "source": [
    "# Analysis 2. Probability of CoM as a function of initiation time"
   ]
  },
  {
   "cell_type": "code",
   "execution_count": 12,
   "metadata": {},
   "outputs": [],
   "source": [
    "rnd_effects_analysis_2 <- function(stats.df){\n",
    "    rnd1.lmer = glmer(is_com ~ (1|subj_id), stats.df, family = binomial)\n",
    "\n",
    "    rnd2.lmer = glmer(is_com ~ (c.(coherence)|subj_id), stats.df, family = binomial)\n",
    "\n",
    "    rnd3.lmer = glmer(is_com ~ (poly(c.(coherence), 2, raw = T)|subj_id), stats.df, family = binomial)\n",
    "\n",
    "    rnd4.lmer = glmer(is_com ~ (c.(RT_z)|subj_id), stats.df, family = binomial)\n",
    "    \n",
    "    rnd5.lmer = glmer(is_com ~ (c.(RT_z) + c.(coherence)|subj_id), stats.df, family = binomial)\n",
    "    \n",
    "    rnd.anova = anova(rnd1.lmer, rnd2.lmer, rnd3.lmer, rnd4.lmer, rnd5.lmer)\n",
    "    print(rnd.anova)\n",
    "    \n",
    "    print(\"Best model according to AIC\")\n",
    "    print(row.names(rnd.anova[rnd.anova$AIC==min(rnd.anova$AIC), ]))\n",
    "    print(\"Best model according to BIC\")\n",
    "    print(row.names(rnd.anova[rnd.anova$BIC==min(rnd.anova$BIC), ]))\n",
    "}"
   ]
  },
  {
   "cell_type": "code",
   "execution_count": 13,
   "metadata": {},
   "outputs": [
    {
     "name": "stdout",
     "output_type": "stream",
     "text": [
      "Data: stats.df\n",
      "Models:\n",
      "rnd1.lmer: is_com ~ (1 | subj_id)\n",
      "rnd2.lmer: is_com ~ (c.(coherence) | subj_id)\n",
      "rnd4.lmer: is_com ~ (c.(RT_z) | subj_id)\n",
      "rnd3.lmer: is_com ~ (poly(c.(coherence), 2, raw = T) | subj_id)\n",
      "rnd5.lmer: is_com ~ (c.(RT_z) + c.(coherence) | subj_id)\n",
      "rnd6.lmer: is_com ~ (c.(RT_z) * c.(coherence) | subj_id)\n",
      "          Df    AIC    BIC  logLik deviance   Chisq Chi Df Pr(>Chisq)    \n",
      "rnd1.lmer  2 6682.8 6699.1 -3339.4   6678.8                              \n",
      "rnd2.lmer  4 6518.7 6551.4 -3255.4   6510.7 168.055      2  < 2.2e-16 ***\n",
      "rnd4.lmer  4 6474.3 6507.0 -3233.1   6466.3  44.468      0  < 2.2e-16 ***\n",
      "rnd3.lmer  7 6502.5 6559.7 -3244.2   6488.5   0.000      3          1    \n",
      "rnd5.lmer  7 6382.0 6439.2 -3184.0   6368.0 120.512      0  < 2.2e-16 ***\n",
      "rnd6.lmer 11 6363.5 6453.5 -3170.8   6341.5  26.443      4  2.576e-05 ***\n",
      "---\n",
      "Signif. codes:  0 '***' 0.001 '**' 0.01 '*' 0.05 '.' 0.1 ' ' 1\n",
      "[1] \"Best model according to AIC\"\n",
      "[1] \"rnd6.lmer\"\n",
      "[1] \"Best model according to BIC\"\n",
      "[1] \"rnd5.lmer\"\n"
     ]
    }
   ],
   "source": [
    "rnd_effects_analysis_2(stats.df)"
   ]
  },
  {
   "cell_type": "markdown",
   "metadata": {},
   "source": [
    "Model with rnd6 does not converge, so we chose rnd5 for random effects structure"
   ]
  },
  {
   "cell_type": "code",
   "execution_count": 17,
   "metadata": {},
   "outputs": [],
   "source": [
    "run_analysis_2 <- function(stats.df, exp_name){\n",
    "    choice.mer = glmer(is_com ~ c.(RT_z) + c.(coherence) + (c.(RT_z) + c.(coherence)|subj_id), \n",
    "                       stats.df, family = binomial)\n",
    "    print(summary(choice.mer))\n",
    "\n",
    "    choice.output = summary(choice.mer)$coefficients\n",
    "    row.names(choice.output) <- c(\"Intercept\", \"RT (z)\", \"Coherence\")\n",
    "\n",
    "    file_name = paste(output_table_path, \"is_com_vs_RT_z.tex\", sep=\"/\")\n",
    "    print(xtable(choice.output, digits = c(4,4,4,4,4),\n",
    "                 label = \"tab:is_com_vs_RT_z\",\n",
    "                 caption = \"Parameters of a linear mixed-effects model analysing probability of a change-of-mind \n",
    "                            as a function of coherence and response time (z-scored within participants). The model included a random intercept \n",
    "                            for participant and random slopes for response time and coherence within participant.\"), \n",
    "          caption.placement = \"top\", table.placement=\"t\", floating.environment = \"table*\",\n",
    "          math.style.exponents = TRUE, type = \"latex\", booktabs = TRUE, file = file_name)\n",
    "}"
   ]
  },
  {
   "cell_type": "code",
   "execution_count": 18,
   "metadata": {
    "scrolled": false
   },
   "outputs": [
    {
     "name": "stdout",
     "output_type": "stream",
     "text": [
      "Generalized linear mixed model fit by maximum likelihood (Laplace\n",
      "  Approximation) [glmerMod]\n",
      " Family: binomial  ( logit )\n",
      "Formula: is_com ~ c.(RT_z) + c.(coherence) + (c.(RT_z) + c.(coherence) |  \n",
      "    subj_id)\n",
      "   Data: stats.df\n",
      "\n",
      "     AIC      BIC   logLik deviance df.resid \n",
      "  6361.2   6434.8  -3171.6   6343.2    26271 \n",
      "\n",
      "Scaled residuals: \n",
      "    Min      1Q  Median      3Q     Max \n",
      "-2.9408 -0.2039 -0.1334 -0.0857 27.5346 \n",
      "\n",
      "Random effects:\n",
      " Groups  Name          Variance Std.Dev. Corr       \n",
      " subj_id (Intercept)   0.92059  0.9595              \n",
      "         c.(RT_z)      0.07358  0.2713   -0.37      \n",
      "         c.(coherence) 1.13409  1.0649    0.13  0.61\n",
      "Number of obs: 26280, groups:  subj_id, 11\n",
      "\n",
      "Fixed effects:\n",
      "              Estimate Std. Error z value Pr(>|z|)    \n",
      "(Intercept)   -4.07160    0.29727 -13.697  < 2e-16 ***\n",
      "c.(RT_z)       0.41865    0.09141   4.580 4.65e-06 ***\n",
      "c.(coherence) -2.96971    0.55680  -5.334 9.63e-08 ***\n",
      "---\n",
      "Signif. codes:  0 '***' 0.001 '**' 0.01 '*' 0.05 '.' 0.1 ' ' 1\n",
      "\n",
      "Correlation of Fixed Effects:\n",
      "            (Intr) c.(RT_\n",
      "c.(RT_z)    -0.354       \n",
      "c.(cohernc)  0.169  0.352\n"
     ]
    }
   ],
   "source": [
    "run_analysis_2(stats.df)"
   ]
  },
  {
   "cell_type": "markdown",
   "metadata": {},
   "source": [
    "# Analysis 3. Response time as a function of coherence"
   ]
  },
  {
   "cell_type": "code",
   "execution_count": 31,
   "metadata": {},
   "outputs": [],
   "source": [
    "rnd_effects_analysis_3 <- function(stats.df){\n",
    "    rnd1.lmer = lmer(RT_z ~ (1|subj_id), stats.df)\n",
    "\n",
    "    rnd2.lmer = lmer(RT_z ~ (c.(coherence)|subj_id), stats.df)\n",
    "\n",
    "    rnd3.lmer = lmer(RT_z ~ (is_correct|subj_id), stats.df)\n",
    "\n",
    "    rnd4.lmer = lmer(RT_z ~ ((c.(coherence)+is_correct)|subj_id), stats.df)\n",
    "    \n",
    "    rnd5.lmer = lmer(RT_z ~ ((c.(coherence)*is_correct)|subj_id), stats.df)\n",
    "    \n",
    "    rnd.anova = anova(rnd1.lmer, rnd2.lmer, rnd3.lmer, rnd4.lmer, rnd5.lmer)\n",
    "#     rnd.anova = anova(rnd4.lmer, rnd5.lmer)\n",
    "    print(rnd.anova)\n",
    "    print(\"Best model according to AIC\")\n",
    "    print(row.names(rnd.anova[rnd.anova$AIC==min(rnd.anova$AIC), ]))\n",
    "    print(\"Best model according to BIC\")\n",
    "    print(row.names(rnd.anova[rnd.anova$BIC==min(rnd.anova$BIC), ]))\n",
    "}"
   ]
  },
  {
   "cell_type": "code",
   "execution_count": 32,
   "metadata": {},
   "outputs": [
    {
     "name": "stderr",
     "output_type": "stream",
     "text": [
      "boundary (singular) fit: see ?isSingular\n",
      "boundary (singular) fit: see ?isSingular\n",
      "boundary (singular) fit: see ?isSingular\n",
      "boundary (singular) fit: see ?isSingular\n",
      "Warning message:\n",
      "\"Model failed to converge with 1 negative eigenvalue: -1.2e+02\"boundary (singular) fit: see ?isSingular\n",
      "refitting model(s) with ML (instead of REML)\n"
     ]
    },
    {
     "name": "stdout",
     "output_type": "stream",
     "text": [
      "Data: stats.df\n",
      "Models:\n",
      "rnd1.lmer: RT_z ~ (1 | subj_id)\n",
      "rnd2.lmer: RT_z ~ (c.(coherence) | subj_id)\n",
      "rnd3.lmer: RT_z ~ (is_correct | subj_id)\n",
      "rnd4.lmer: RT_z ~ ((c.(coherence) + is_correct) | subj_id)\n",
      "rnd5.lmer: RT_z ~ ((c.(coherence) * is_correct) | subj_id)\n",
      "          Df   AIC   BIC logLik deviance   Chisq Chi Df Pr(>Chisq)    \n",
      "rnd1.lmer  3 74473 74498 -37234    74467                              \n",
      "rnd2.lmer  5 71360 71401 -35675    71350 3116.67      2     <2e-16 ***\n",
      "rnd3.lmer  5 73281 73322 -36635    73271    0.00      0          1    \n",
      "rnd4.lmer  8 71106 71172 -35545    71090 2180.37      3     <2e-16 ***\n",
      "rnd5.lmer 12 70805 70903 -35391    70781  309.41      4     <2e-16 ***\n",
      "---\n",
      "Signif. codes:  0 '***' 0.001 '**' 0.01 '*' 0.05 '.' 0.1 ' ' 1\n",
      "[1] \"Best model according to AIC\"\n",
      "[1] \"rnd5.lmer\"\n",
      "[1] \"Best model according to BIC\"\n",
      "[1] \"rnd5.lmer\"\n"
     ]
    }
   ],
   "source": [
    "rnd_effects_analysis_3(stats.df)"
   ]
  },
  {
   "cell_type": "markdown",
   "metadata": {},
   "source": [
    "rnd2 is the best random effects structure at which the model with fixed effects converges"
   ]
  },
  {
   "cell_type": "code",
   "execution_count": 37,
   "metadata": {},
   "outputs": [],
   "source": [
    "run_analysis_3 <- function(stats.df, exp_name){\n",
    "    choice.mer = lmer(RT ~ (c.(coherence)*is_correct + (c.(coherence)|subj_id)), stats.df)\n",
    "    print(summary(choice.mer))\n",
    "#     print(kappa.mer(choice.mer))\n",
    "#     print(vif.mer(choice.mer))\n",
    "    \n",
    "    choice.output = summary(choice.mer)$coefficients\n",
    "\n",
    "    row.names(choice.output) <- c(\"Intercept\", \"Coherence\", \"Is correct\", \"Coherence by Is correct\")\n",
    "\n",
    "    file_name = paste(output_table_path, \"RT_vs_coh.tex\", sep=\"/\")\n",
    "    print(xtable(choice.output, digits = c(4,4,4,4,4,4),\n",
    "                 label = \"tab:RT_vs_coh\",\n",
    "                 caption = \"Parameters of a linear mixed-effects model analysing response time (z-scored within participants) as\n",
    "                            a function of coherence and choice correctness. The model included a random intercept for participant and random \n",
    "                            slopes for coherence within participant.\"), \n",
    "          caption.placement = \"top\", table.placement=\"t\", floating.environment = \"table*\",\n",
    "          math.style.exponents = TRUE, type = \"latex\", booktabs = TRUE, file = file_name)\n",
    "}"
   ]
  },
  {
   "cell_type": "code",
   "execution_count": 38,
   "metadata": {
    "scrolled": false
   },
   "outputs": [
    {
     "name": "stdout",
     "output_type": "stream",
     "text": [
      "Linear mixed model fit by REML. t-tests use Satterthwaite's method [\n",
      "lmerModLmerTest]\n",
      "Formula: RT ~ (c.(coherence) * is_correct + (c.(coherence) | subj_id))\n",
      "   Data: stats.df\n",
      "\n",
      "REML criterion at convergence: 10762.2\n",
      "\n",
      "Scaled residuals: \n",
      "    Min      1Q  Median      3Q     Max \n",
      "-4.3492 -0.4627 -0.0536  0.3817  9.8433 \n",
      "\n",
      "Random effects:\n",
      " Groups   Name          Variance Std.Dev. Corr \n",
      " subj_id  (Intercept)   0.04608  0.2147        \n",
      "          c.(coherence) 0.33269  0.5768   -0.83\n",
      " Residual               0.08770  0.2961        \n",
      "Number of obs: 26280, groups:  subj_id, 11\n",
      "\n",
      "Fixed effects:\n",
      "                            Estimate Std. Error         df t value Pr(>|t|)    \n",
      "(Intercept)                1.737e-01  6.480e-02  1.003e+01   2.681    0.023 *  \n",
      "c.(coherence)             -2.302e-01  1.754e-01  1.028e+01  -1.312    0.218    \n",
      "is_correct1               -1.232e-01  6.145e-03  2.626e+04 -20.040   <2e-16 ***\n",
      "c.(coherence):is_correct1 -6.067e-01  4.565e-02  2.626e+04 -13.289   <2e-16 ***\n",
      "---\n",
      "Signif. codes:  0 '***' 0.001 '**' 0.01 '*' 0.05 '.' 0.1 ' ' 1\n",
      "\n",
      "Correlation of Fixed Effects:\n",
      "            (Intr) c.(ch) is_cr1\n",
      "c.(cohernc) -0.817              \n",
      "is_correct1 -0.035 -0.096       \n",
      "c.(chrn):_1 -0.035 -0.113  0.700\n"
     ]
    }
   ],
   "source": [
    "run_analysis_3(stats.df)"
   ]
  },
  {
   "cell_type": "markdown",
   "metadata": {},
   "source": [
    "# Difference between initial and final decisions in CoM trials"
   ]
  },
  {
   "cell_type": "code",
   "execution_count": 12,
   "metadata": {},
   "outputs": [],
   "source": [
    "run_binom_test_all <- function(data){\n",
    "    binom.test(x = nrow(data[(data$is_correct=='True'),]), n = nrow(data), \n",
    "           p = 0.5, alternative = \"greater\", conf.level = 0.95)\n",
    "}"
   ]
  },
  {
   "cell_type": "code",
   "execution_count": 13,
   "metadata": {},
   "outputs": [
    {
     "data": {
      "text/plain": [
       "\n",
       "\tExact binomial test\n",
       "\n",
       "data:  nrow(data[(data$is_correct == \"True\"), ]) and nrow(data)\n",
       "number of successes = 428, number of trials = 775, p-value = 0.002014\n",
       "alternative hypothesis: true probability of success is greater than 0.5\n",
       "95 percent confidence interval:\n",
       " 0.5221211 1.0000000\n",
       "sample estimates:\n",
       "probability of success \n",
       "             0.5522581 \n"
      ]
     },
     "metadata": {},
     "output_type": "display_data"
    }
   ],
   "source": [
    "run_binom_test_all(stats.df[stats.df$is_com=='True',])"
   ]
  },
  {
   "cell_type": "markdown",
   "metadata": {},
   "source": [
    "We can also test this separately for each coherence level"
   ]
  },
  {
   "cell_type": "code",
   "execution_count": 14,
   "metadata": {},
   "outputs": [],
   "source": [
    "run_binom_test <- function(data, coherence){\n",
    "    binom.test(x = nrow(data[(data$is_correct=='True') & (data$coherence==coherence),]), \n",
    "           n = nrow(data[data$coherence==coherence,]), \n",
    "           p = 0.5, alternative = \"greater\", conf.level = 0.95)\n",
    "}"
   ]
  },
  {
   "cell_type": "code",
   "execution_count": 15,
   "metadata": {},
   "outputs": [
    {
     "data": {
      "text/plain": [
       "\n",
       "\tExact binomial test\n",
       "\n",
       "data:  nrow(data[(data$is_correct == \"True\") & (data$coherence == coherence),  and nrow(data[data$coherence == coherence, ])    ]) and nrow(data[data$coherence == coherence, ])\n",
       "number of successes = 95, number of trials = 175, p-value = 0.1449\n",
       "alternative hypothesis: true probability of success is greater than 0.5\n",
       "95 percent confidence interval:\n",
       " 0.4778698 1.0000000\n",
       "sample estimates:\n",
       "probability of success \n",
       "             0.5428571 \n"
      ]
     },
     "metadata": {},
     "output_type": "display_data"
    }
   ],
   "source": [
    "run_binom_test(stats.df[stats.df$is_com=='True',], coherence=0.032)"
   ]
  },
  {
   "cell_type": "code",
   "execution_count": 16,
   "metadata": {},
   "outputs": [
    {
     "data": {
      "text/plain": [
       "\n",
       "\tExact binomial test\n",
       "\n",
       "data:  nrow(data[(data$is_correct == \"True\") & (data$coherence == coherence),  and nrow(data[data$coherence == coherence, ])    ]) and nrow(data[data$coherence == coherence, ])\n",
       "number of successes = 80, number of trials = 172, p-value = 0.8392\n",
       "alternative hypothesis: true probability of success is greater than 0.5\n",
       "95 percent confidence interval:\n",
       " 0.4004792 1.0000000\n",
       "sample estimates:\n",
       "probability of success \n",
       "             0.4651163 \n"
      ]
     },
     "metadata": {},
     "output_type": "display_data"
    }
   ],
   "source": [
    "run_binom_test(stats.df[stats.df$is_com=='True',], coherence=0.064)"
   ]
  },
  {
   "cell_type": "code",
   "execution_count": 17,
   "metadata": {},
   "outputs": [
    {
     "data": {
      "text/plain": [
       "\n",
       "\tExact binomial test\n",
       "\n",
       "data:  nrow(data[(data$is_correct == \"True\") & (data$coherence == coherence),  and nrow(data[data$coherence == coherence, ])    ]) and nrow(data[data$coherence == coherence, ])\n",
       "number of successes = 94, number of trials = 155, p-value = 0.004966\n",
       "alternative hypothesis: true probability of success is greater than 0.5\n",
       "95 percent confidence interval:\n",
       " 0.5375526 1.0000000\n",
       "sample estimates:\n",
       "probability of success \n",
       "             0.6064516 \n"
      ]
     },
     "metadata": {},
     "output_type": "display_data"
    }
   ],
   "source": [
    "run_binom_test(stats.df[stats.df$is_com=='True',], coherence=0.128)"
   ]
  },
  {
   "cell_type": "code",
   "execution_count": 18,
   "metadata": {},
   "outputs": [
    {
     "data": {
      "text/plain": [
       "\n",
       "\tExact binomial test\n",
       "\n",
       "data:  nrow(data[(data$is_correct == \"True\") & (data$coherence == coherence),  and nrow(data[data$coherence == coherence, ])    ]) and nrow(data[data$coherence == coherence, ])\n",
       "number of successes = 56, number of trials = 79, p-value = 0.0001318\n",
       "alternative hypothesis: true probability of success is greater than 0.5\n",
       "95 percent confidence interval:\n",
       " 0.6134122 1.0000000\n",
       "sample estimates:\n",
       "probability of success \n",
       "             0.7088608 \n"
      ]
     },
     "metadata": {},
     "output_type": "display_data"
    }
   ],
   "source": [
    "run_binom_test(stats.df[stats.df$is_com=='True',], coherence=0.256)"
   ]
  },
  {
   "cell_type": "code",
   "execution_count": 19,
   "metadata": {},
   "outputs": [
    {
     "data": {
      "text/plain": [
       "\n",
       "\tExact binomial test\n",
       "\n",
       "data:  nrow(data[(data$is_correct == \"True\") & (data$coherence == coherence),  and nrow(data[data$coherence == coherence, ])    ]) and nrow(data[data$coherence == coherence, ])\n",
       "number of successes = 14, number of trials = 24, p-value = 0.2706\n",
       "alternative hypothesis: true probability of success is greater than 0.5\n",
       "95 percent confidence interval:\n",
       " 0.3967851 1.0000000\n",
       "sample estimates:\n",
       "probability of success \n",
       "             0.5833333 \n"
      ]
     },
     "metadata": {},
     "output_type": "display_data"
    }
   ],
   "source": [
    "run_binom_test(stats.df[stats.df$is_com=='True',], coherence=0.512)"
   ]
  }
 ],
 "metadata": {
  "kernelspec": {
   "display_name": "R",
   "language": "R",
   "name": "ir"
  },
  "language_info": {
   "codemirror_mode": "r",
   "file_extension": ".r",
   "mimetype": "text/x-r-source",
   "name": "R",
   "pygments_lexer": "r",
   "version": "3.6.1"
  }
 },
 "nbformat": 4,
 "nbformat_minor": 2
}
