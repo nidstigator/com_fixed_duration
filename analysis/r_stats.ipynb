{
 "cells": [
  {
   "cell_type": "markdown",
   "metadata": {},
   "source": [
    "Importing data"
   ]
  },
  {
   "cell_type": "code",
   "execution_count": 2,
   "metadata": {},
   "outputs": [
    {
     "name": "stderr",
     "output_type": "stream",
     "text": [
      "Loading required package: survival\n",
      "Loading required package: Matrix\n",
      "\n",
      "Attaching package: 'lmerTest'\n",
      "\n",
      "The following object is masked from 'package:lme4':\n",
      "\n",
      "    lmer\n",
      "\n",
      "The following object is masked from 'package:stats':\n",
      "\n",
      "    step\n",
      "\n",
      "Loading required package: carData\n",
      "Registered S3 methods overwritten by 'car':\n",
      "  method                          from\n",
      "  influence.merMod                lme4\n",
      "  cooks.distance.influence.merMod lme4\n",
      "  dfbeta.influence.merMod         lme4\n",
      "  dfbetas.influence.merMod        lme4\n"
     ]
    }
   ],
   "source": [
    "# uncomment if using this code in RStudio\n",
    "# setwd(dirname(rstudioapi::getActiveDocumentContext()$path))\n",
    "\n",
    "library(coin)\n",
    "library(lme4)\n",
    "library(lmerTest)\n",
    "library(plyr)\n",
    "library(xtable)\n",
    "library(LMERConvenienceFunctions)\n",
    "library(car)\n",
    "# library(lmerTest) see also https://link.springer.com/article/10.3758/s13428-016-0809-y \n",
    "\n",
    "source(\"r_utils/mer-utils.R\")\n",
    "source(\"r_utils/regression-utils.R\")\n",
    "\n",
    "data_path = \"C:/Users/azgonnikov/Google Drive/data/CoM_fixed_duration/processed/choices.txt\"\n",
    "output_table_path = \"C:/Users/azgonnikov/Dropbox/Research/Journal papers/2019 Changes-of-mind/v 0.2/tables/\"\n",
    "\n",
    "choice.data = read.table(data_path, sep=\"\\t\", header=T)"
   ]
  },
  {
   "cell_type": "markdown",
   "metadata": {},
   "source": [
    "A bit of preprocessing to create variables for analyzing sequential effects"
   ]
  },
  {
   "cell_type": "code",
   "execution_count": 3,
   "metadata": {
    "scrolled": false
   },
   "outputs": [
    {
     "name": "stdout",
     "output_type": "stream",
     "text": [
      "'data.frame':\t31517 obs. of  29 variables:\n",
      " $ subj_id        : Factor w/ 13 levels \"196\",\"216\",\"247\",..: 1 1 1 1 1 1 1 1 1 1 ...\n",
      " $ session_no     : int  1 1 1 1 1 1 1 1 1 1 ...\n",
      " $ block_no       : int  1 1 1 1 1 1 1 1 1 1 ...\n",
      " $ trial_no       : int  1 2 3 4 5 6 7 8 9 10 ...\n",
      " $ is_practice    : Factor w/ 2 levels \"False\",\"True\": 2 2 2 2 2 2 2 2 2 2 ...\n",
      " $ direction      : num  0 180 180 0 180 0 180 180 180 180 ...\n",
      " $ coherence      : num  0.032 0.256 0 0.032 0.512 0.128 0 0.512 0.064 0 ...\n",
      " $ duration       : int  800 800 800 800 800 800 800 800 800 800 ...\n",
      " $ response       : int  0 0 180 180 180 0 0 180 0 180 ...\n",
      " $ trial_time     : num  1.31 1.99 2.24 2.33 3.32 ...\n",
      " $ is_correct     : Factor w/ 2 levels \"False\",\"True\": 2 1 2 1 2 2 1 2 1 2 ...\n",
      " $ xflips         : int  1 0 0 3 0 1 2 2 0 1 ...\n",
      " $ max_d          : num  110.3 219 -77 335.4 62.1 ...\n",
      " $ idx_max_d      : num  92 121 100 108 72 165 165 159 53 48 ...\n",
      " $ midline_d      : num  0 0 0 190 0 348 0 0 0 0 ...\n",
      " $ idx_midline_d  : num  49 105 85 99 56 162 62 60 35 29 ...\n",
      " $ midline_d_t    : num  0.494 1.057 0.856 0.998 0.564 ...\n",
      " $ midline_d_y    : num  30 29 30 279 30 536 30 30 36 30 ...\n",
      " $ is_com         : Factor w/ 2 levels \"False\",\"True\": 1 1 1 2 1 2 1 1 1 1 ...\n",
      "  ..- attr(*, \"contrasts\")= num [1:2, 1] -0.5 0.5\n",
      "  .. ..- attr(*, \"dimnames\")=List of 2\n",
      "  .. .. ..$ : chr  \"False\" \"True\"\n",
      "  .. .. ..$ : NULL\n",
      " $ com_type       : Factor w/ 2 levels \"early\",\"late\": 1 1 1 1 1 1 1 1 1 1 ...\n",
      " $ is_correct_init: Factor w/ 2 levels \"False\",\"True\": 2 1 2 2 2 1 1 2 1 2 ...\n",
      " $ is_double_com  : Factor w/ 1 level \"False\": 1 1 1 1 1 1 1 1 1 1 ...\n",
      " $ RT             : num  0.474 1.037 0.836 0.806 0.544 ...\n",
      " $ motion_time    : num  0.829 0.94 1.393 1.515 2.762 ...\n",
      " $ stim_RT        : num  0 0 0 0 0 0 0 0 0 0 ...\n",
      " $ RT..z.         : num  2.38 5.19 4.18 4.04 2.73 ...\n",
      " $ RT.tertile     : int  3 3 3 3 3 3 3 3 3 3 ...\n",
      " $ RT..z..tertile : int  3 3 3 3 3 3 3 3 3 3 ...\n",
      " $ all_trial_no   : num  1 2 3 4 5 6 7 8 9 10 ...\n"
     ]
    }
   ],
   "source": [
    "preprocess_data <- function(choice.data) {\n",
    "    # any exclusions?\n",
    "    stats.df = choice.data\n",
    "    stats.df$subj_id = as.factor(stats.df$subj_id)\n",
    "\n",
    "    # generate trial number\n",
    "    max.trial = max(stats.df$trial_no)\n",
    "    max.block = max(stats.df$block_n)\n",
    "    stats.df$all_trial_no = (stats.df$session_no-1) * (max.block * max.trial) +\n",
    "      (stats.df$block_no-1) * max.trial +\n",
    "      stats.df$trial_no\n",
    "\n",
    "    contrasts(stats.df$is_com) = contr.sum(n=2) /2 *-1\n",
    "    contrasts(stats.df$is_com)# true is pos\n",
    "    \n",
    "#     stats.df = stats.df[(stats.df$RT < 1.5),]\n",
    "\n",
    "    str(stats.df)\n",
    "\n",
    "    return(stats.df)\n",
    "}\n",
    "\n",
    "stats.df = preprocess_data(choice.data)"
   ]
  },
  {
   "cell_type": "markdown",
   "metadata": {},
   "source": [
    "# Analysis 1. Accuracy as a function of coherence"
   ]
  },
  {
   "cell_type": "code",
   "execution_count": 8,
   "metadata": {},
   "outputs": [],
   "source": [
    "rnd_effects_analysis_1 <- function(stats.df){\n",
    "    rnd1.lmer = glmer(is_correct ~ (1|subj_id), \n",
    "                 stats.df[stats.df$coherence!=0,], \n",
    "                 family = binomial)\n",
    "\n",
    "    # rnd intercept for each participant and random slope of coherence\n",
    "    # diff avg acc, diff coherence effect for each p\n",
    "    rnd2.lmer = glmer(is_correct ~ (c.(coherence)|subj_id), \n",
    "                      stats.df[stats.df$coherence!=0,], \n",
    "                      family = binomial)\n",
    "\n",
    "    # rnd intercept for each participant and random slope of trials\n",
    "    # diff avg acc, diff linear and quad learning effect for each p\n",
    "    rnd3.lmer = glmer(is_correct ~ (poly(coherence, 2, raw = T)|subj_id), \n",
    "                           stats.df[stats.df$coherence!=0,], \n",
    "                           family = binomial)\n",
    "\n",
    "    # rnd.lmer with com and coherence\n",
    "    rnd4.lmer = glmer(is_correct ~ ((is_com + c.(coherence))|subj_id),\n",
    "                      stats.df[stats.df$coherence!=0,],\n",
    "                      family = binomial)\n",
    "\n",
    "    # rnd.lmer with com by coherence\n",
    "    rnd5.lmer = glmer(is_correct ~ ((is_com*c.(coherence))|subj_id),\n",
    "                      stats.df[stats.df$coherence!=0,],\n",
    "                      family = binomial)\n",
    "    \n",
    "    rnd.anova = anova(rnd1.lmer, rnd2.lmer, rnd3.lmer, rnd4.lmer, rnd5.lmer)\n",
    "    print(rnd.anova)\n",
    "    \n",
    "    print(\"Best model according to AIC\")\n",
    "    print(row.names(rnd.anova[rnd.anova$AIC==min(rnd.anova$AIC), ]))\n",
    "    print(\"Best model according to BIC\")\n",
    "    print(row.names(rnd.anova[rnd.anova$BIC==min(rnd.anova$BIC), ]))\n",
    "}"
   ]
  },
  {
   "cell_type": "code",
   "execution_count": 9,
   "metadata": {},
   "outputs": [
    {
     "name": "stderr",
     "output_type": "stream",
     "text": [
      "boundary (singular) fit: see ?isSingular\n"
     ]
    },
    {
     "name": "stdout",
     "output_type": "stream",
     "text": [
      "Data: stats.df[stats.df$coherence != 0, ]\n",
      "Models:\n",
      "rnd1.lmer: is_correct ~ (1 | subj_id)\n",
      "rnd2.lmer: is_correct ~ (c.(coherence) | subj_id)\n",
      "rnd3.lmer: is_correct ~ (poly(coherence, 2, raw = T) | subj_id)\n",
      "rnd4.lmer: is_correct ~ ((is_com + c.(coherence)) | subj_id)\n",
      "rnd5.lmer: is_correct ~ ((is_com * c.(coherence)) | subj_id)\n",
      "          Df   AIC   BIC logLik deviance    Chisq Chi Df Pr(>Chisq)    \n",
      "rnd1.lmer  2 28077 28094 -14037    28073                               \n",
      "rnd2.lmer  4 23747 23779 -11869    23739 4334.713      2  < 2.2e-16 ***\n",
      "rnd3.lmer  7 23719 23776 -11852    23705   34.105      3  1.882e-07 ***\n",
      "rnd4.lmer  7 23703 23760 -11844    23689   15.595      0  < 2.2e-16 ***\n",
      "rnd5.lmer 11 23639 23729 -11808    23617   72.009      4  8.545e-15 ***\n",
      "---\n",
      "Signif. codes:  0 '***' 0.001 '**' 0.01 '*' 0.05 '.' 0.1 ' ' 1\n",
      "[1] \"Best model according to AIC\"\n",
      "[1] \"rnd5.lmer\"\n",
      "[1] \"Best model according to BIC\"\n",
      "[1] \"rnd5.lmer\"\n"
     ]
    }
   ],
   "source": [
    "rnd_effects_analysis_1(stats.df)"
   ]
  },
  {
   "cell_type": "markdown",
   "metadata": {},
   "source": [
    "rnd5 is the best"
   ]
  },
  {
   "cell_type": "code",
   "execution_count": 12,
   "metadata": {},
   "outputs": [],
   "source": [
    "run_analysis_1 <- function(stats.df){\n",
    "    choice.mer = glmer(is_correct ~ ((is_com*c.(coherence))|subj_id) + is_com*c.(coherence),\n",
    "                      stats.df[stats.df$coherence!=0,],\n",
    "                      family = binomial)\n",
    "    print(summary(choice.mer))\n",
    "\n",
    "    choice.output = summary(choice.mer)$coefficients\n",
    "    row.names(choice.output) <- c(\"Intercept\", \"Is CoM\", \"Coherence\", \"Is CoM by Coherence\")\n",
    "\n",
    "    file_name = paste(output_table_path, \"is_correct_vs_coh.tex\", sep=\"\")\n",
    "    print(xtable(choice.output, digits = c(4,4,4,4,4),# display = c(\"g\",\"g\",\"g\",\"g\",\"g\"), \n",
    "                 label = \"tab:is_correct_vs_coh\",\n",
    "                 caption = \"Parameters of a linear mixed-effects model analysing choice accuracy \n",
    "                            as a function of coherence, presence or absence of a change-of-mind, and trial number. The model \n",
    "                            included random intercept and random slope for coherence.\"), \n",
    "          caption.placement = \"top\", table.placement=\"t\", floating.environment = \"table*\",\n",
    "          math.style.exponents = TRUE, type = \"latex\", booktabs = TRUE, file = file_name)\n",
    "}"
   ]
  },
  {
   "cell_type": "code",
   "execution_count": 13,
   "metadata": {
    "scrolled": false
   },
   "outputs": [
    {
     "name": "stderr",
     "output_type": "stream",
     "text": [
      "Warning message in checkConv(attr(opt, \"derivs\"), opt$par, ctrl = control$checkConv, :\n",
      "\"Model failed to converge with max|grad| = 0.00343225 (tol = 0.001, component 1)\""
     ]
    },
    {
     "name": "stdout",
     "output_type": "stream",
     "text": [
      "Generalized linear mixed model fit by maximum likelihood (Laplace\n",
      "  Approximation) [glmerMod]\n",
      " Family: binomial  ( logit )\n",
      "Formula: is_correct ~ ((is_com * c.(coherence)) | subj_id) + is_com *  \n",
      "    c.(coherence)\n",
      "   Data: stats.df[stats.df$coherence != 0, ]\n",
      "\n",
      "     AIC      BIC   logLik deviance df.resid \n",
      " 23613.8  23728.3 -11792.9  23585.8    26241 \n",
      "\n",
      "Scaled residuals: \n",
      "    Min      1Q  Median      3Q     Max \n",
      "-66.302   0.023   0.292   0.652   1.192 \n",
      "\n",
      "Random effects:\n",
      " Groups  Name                  Variance Std.Dev. Corr          \n",
      " subj_id (Intercept)            0.5040  0.7099                 \n",
      "         is_com1                0.5371  0.7329   0.58          \n",
      "         c.(coherence)         17.2470  4.1530   0.97 0.51     \n",
      "         is_com1:c.(coherence) 18.2112  4.2675   0.72 0.98 0.66\n",
      "Number of obs: 26255, groups:  subj_id, 13\n",
      "\n",
      "Fixed effects:\n",
      "                      Estimate Std. Error z value Pr(>|z|)    \n",
      "(Intercept)             1.4084     0.1527   9.220  < 2e-16 ***\n",
      "is_com1                -0.9969     0.1684  -5.921 3.20e-09 ***\n",
      "c.(coherence)           7.2188     0.8893   8.117 4.77e-16 ***\n",
      "is_com1:c.(coherence)  -5.0358     0.9164  -5.495 3.91e-08 ***\n",
      "---\n",
      "Signif. codes:  0 '***' 0.001 '**' 0.01 '*' 0.05 '.' 0.1 ' ' 1\n",
      "\n",
      "Correlation of Fixed Effects:\n",
      "            (Intr) is_cm1 c.(ch)\n",
      "is_com1     0.361               \n",
      "c.(cohernc) 0.915  0.225        \n",
      "is_cm1:c.() 0.430  0.842  0.432 \n",
      "convergence code: 0\n",
      "Model failed to converge with max|grad| = 0.00343225 (tol = 0.001, component 1)\n",
      "\n"
     ]
    }
   ],
   "source": [
    "run_analysis_1(stats.df)"
   ]
  },
  {
   "cell_type": "markdown",
   "metadata": {},
   "source": [
    "# Analysis 2. Probability of CoM as a function of initiation time"
   ]
  },
  {
   "cell_type": "code",
   "execution_count": 7,
   "metadata": {},
   "outputs": [],
   "source": [
    "rnd_effects_analysis_2 <- function(stats.df){\n",
    "    rnd1.lmer = glmer(is_com ~ (1|subj_id), stats.df, family = binomial)\n",
    "\n",
    "    rnd2.lmer = glmer(is_com ~ (c.(coherence)|subj_id), stats.df, family = binomial)\n",
    "\n",
    "    rnd3.lmer = glmer(is_com ~ (poly(c.(coherence), 2, raw = T)|subj_id), stats.df, family = binomial)\n",
    "\n",
    "    rnd4.lmer = glmer(is_com ~ (c.(RT)|subj_id), stats.df, family = binomial)\n",
    "    \n",
    "    rnd5.lmer = glmer(is_com ~ (c.(RT)*c.(coherence)|subj_id), stats.df, family = binomial)\n",
    "    \n",
    "    rnd.anova = anova(rnd1.lmer, rnd2.lmer, rnd3.lmer, rnd4.lmer, rnd5.lmer)\n",
    "    print(rnd.anova)\n",
    "    \n",
    "    print(\"Best model according to AIC\")\n",
    "    print(row.names(rnd.anova[rnd.anova$AIC==min(rnd.anova$AIC), ]))\n",
    "    print(\"Best model according to BIC\")\n",
    "    print(row.names(rnd.anova[rnd.anova$BIC==min(rnd.anova$BIC), ]))\n",
    "}"
   ]
  },
  {
   "cell_type": "code",
   "execution_count": 8,
   "metadata": {},
   "outputs": [
    {
     "name": "stderr",
     "output_type": "stream",
     "text": [
      "boundary (singular) fit: see ?isSingular\n"
     ]
    },
    {
     "name": "stdout",
     "output_type": "stream",
     "text": [
      "Data: stats.df\n",
      "Models:\n",
      "rnd1.lmer: is_com ~ (1 | subj_id)\n",
      "rnd2.lmer: is_com ~ (c.(coherence) | subj_id)\n",
      "rnd4.lmer: is_com ~ (c.(RT) | subj_id)\n",
      "rnd3.lmer: is_com ~ (poly(c.(coherence), 2, raw = T) | subj_id)\n",
      "rnd5.lmer: is_com ~ (c.(RT) * c.(coherence) | subj_id)\n",
      "          Df   AIC   BIC  logLik deviance   Chisq Chi Df Pr(>Chisq)    \n",
      "rnd1.lmer  2 12690 12707 -6343.2    12686                              \n",
      "rnd2.lmer  4 12479 12512 -6235.4    12471 215.468      2  < 2.2e-16 ***\n",
      "rnd4.lmer  4 12499 12533 -6245.6    12491   0.000      0          1    \n",
      "rnd3.lmer  7 12470 12528 -6227.9    12456  35.354      3  1.026e-07 ***\n",
      "rnd5.lmer 11 12343 12435 -6160.6    12321 134.701      4  < 2.2e-16 ***\n",
      "---\n",
      "Signif. codes:  0 '***' 0.001 '**' 0.01 '*' 0.05 '.' 0.1 ' ' 1\n",
      "[1] \"Best model according to AIC\"\n",
      "[1] \"rnd5.lmer\"\n",
      "[1] \"Best model according to BIC\"\n",
      "[1] \"rnd5.lmer\"\n"
     ]
    }
   ],
   "source": [
    "rnd_effects_analysis_2(stats.df)"
   ]
  },
  {
   "cell_type": "markdown",
   "metadata": {},
   "source": [
    "rnd5 is the best converging model"
   ]
  },
  {
   "cell_type": "code",
   "execution_count": 4,
   "metadata": {},
   "outputs": [],
   "source": [
    "run_analysis_2 <- function(stats.df, exp_name){\n",
    "    choice.mer = glmer(is_com ~ c.(RT)*c.(coherence) + (c.(RT)*c.(coherence)|subj_id), stats.df, family = binomial)\n",
    "    print(summary(choice.mer))\n",
    "\n",
    "    choice.output = summary(choice.mer)$coefficients\n",
    "    row.names(choice.output) <- c(\"Intercept\", \"Coherence\", \"RT\", \"Coherence by RT\")\n",
    "\n",
    "    file_name = paste(output_table_path, \"is_com_vs_RT.tex\", sep=\"\")\n",
    "    print(xtable(choice.output, digits = c(4,4,4,4,4),\n",
    "                 label = \"tab:is_com_vs_RT\",\n",
    "                 caption = \"Parameters of a linear mixed-effects model analysing probability of a change-of-mind \n",
    "                            as a function of coherence and response time. The model included random intercept and random \n",
    "                            slope for response time.\"), \n",
    "          caption.placement = \"top\", table.placement=\"t\", floating.environment = \"table*\",\n",
    "          math.style.exponents = TRUE, type = \"latex\", booktabs = TRUE, file = file_name)\n",
    "}"
   ]
  },
  {
   "cell_type": "code",
   "execution_count": 5,
   "metadata": {
    "scrolled": false
   },
   "outputs": [
    {
     "name": "stderr",
     "output_type": "stream",
     "text": [
      "Warning message in checkConv(attr(opt, \"derivs\"), opt$par, ctrl = control$checkConv, :\n",
      "\"Model failed to converge with max|grad| = 0.00405055 (tol = 0.001, component 1)\""
     ]
    },
    {
     "name": "stdout",
     "output_type": "stream",
     "text": [
      "Generalized linear mixed model fit by maximum likelihood (Laplace\n",
      "  Approximation) [glmerMod]\n",
      " Family: binomial  ( logit )\n",
      "Formula: is_com ~ c.(RT) * c.(coherence) + (c.(RT) * c.(coherence) | subj_id)\n",
      "   Data: stats.df\n",
      "\n",
      "     AIC      BIC   logLik deviance df.resid \n",
      " 12329.2  12446.2  -6150.6  12301.2    31503 \n",
      "\n",
      "Scaled residuals: \n",
      "   Min     1Q Median     3Q    Max \n",
      "-2.627 -0.269 -0.169 -0.096 32.770 \n",
      "\n",
      "Random effects:\n",
      " Groups  Name                 Variance Std.Dev. Corr             \n",
      " subj_id (Intercept)          2.1164   1.4548                    \n",
      "         c.(RT)               0.8508   0.9224   -0.57            \n",
      "         c.(coherence)        3.3324   1.8255    0.93 -0.35      \n",
      "         c.(RT):c.(coherence) 5.4914   2.3434    0.34 -0.40  0.00\n",
      "Number of obs: 31517, groups:  subj_id, 13\n",
      "\n",
      "Fixed effects:\n",
      "                     Estimate Std. Error z value Pr(>|z|)    \n",
      "(Intercept)           -3.5386     0.4059  -8.719  < 2e-16 ***\n",
      "c.(RT)                 1.1659     0.2840   4.105 4.04e-05 ***\n",
      "c.(coherence)         -3.0617     0.6240  -4.906 9.28e-07 ***\n",
      "c.(RT):c.(coherence)   1.5888     0.9610   1.653   0.0983 .  \n",
      "---\n",
      "Signif. codes:  0 '***' 0.001 '**' 0.01 '*' 0.05 '.' 0.1 ' ' 1\n",
      "\n",
      "Correlation of Fixed Effects:\n",
      "            (Intr) c.(RT) c.(ch)\n",
      "c.(RT)      -0.521              \n",
      "c.(cohernc)  0.792 -0.261       \n",
      "c.(RT):c.()  0.217 -0.112 -0.063\n",
      "convergence code: 0\n",
      "Model failed to converge with max|grad| = 0.00405055 (tol = 0.001, component 1)\n",
      "\n"
     ]
    }
   ],
   "source": [
    "run_analysis_2(stats.df)"
   ]
  },
  {
   "cell_type": "markdown",
   "metadata": {},
   "source": [
    "# Analysis 3. Response time as a function of coherence"
   ]
  },
  {
   "cell_type": "code",
   "execution_count": 11,
   "metadata": {},
   "outputs": [],
   "source": [
    "rnd_effects_analysis_3 <- function(stats.df){\n",
    "    rnd1.lmer = lmer(RT ~ (1|subj_id), stats.df)\n",
    "\n",
    "    rnd2.lmer = lmer(RT ~ (c.(coherence)|subj_id), stats.df)\n",
    "\n",
    "    rnd3.lmer = lmer(RT ~ (is_correct|subj_id), stats.df)\n",
    "\n",
    "    rnd4.lmer = lmer(RT ~ ((c.(coherence)+is_correct)|subj_id), stats.df)\n",
    "    \n",
    "    rnd5.lmer = lmer(RT ~ ((c.(coherence)*is_correct)|subj_id), stats.df)\n",
    "    \n",
    "    rnd.anova = anova(rnd1.lmer, rnd2.lmer, rnd3.lmer, rnd4.lmer, rnd5.lmer)\n",
    "#     rnd.anova = anova(rnd4.lmer, rnd5.lmer)\n",
    "    print(rnd.anova)\n",
    "    print(\"Best model according to AIC\")\n",
    "    print(row.names(rnd.anova[rnd.anova$AIC==min(rnd.anova$AIC), ]))\n",
    "    print(\"Best model according to BIC\")\n",
    "    print(row.names(rnd.anova[rnd.anova$BIC==min(rnd.anova$BIC), ]))\n",
    "}"
   ]
  },
  {
   "cell_type": "code",
   "execution_count": 12,
   "metadata": {},
   "outputs": [
    {
     "name": "stderr",
     "output_type": "stream",
     "text": [
      "Warning message in checkConv(attr(opt, \"derivs\"), opt$par, ctrl = control$checkConv, :\n",
      "\"Model failed to converge with max|grad| = 0.00737977 (tol = 0.002, component 1)\"Warning message in checkConv(attr(opt, \"derivs\"), opt$par, ctrl = control$checkConv, :\n",
      "\"Model failed to converge with max|grad| = 0.173306 (tol = 0.002, component 1)\"boundary (singular) fit: see ?isSingular\n",
      "refitting model(s) with ML (instead of REML)\n"
     ]
    },
    {
     "name": "stdout",
     "output_type": "stream",
     "text": [
      "Data: stats.df\n",
      "Models:\n",
      "rnd1.lmer: RT ~ (1 | subj_id)\n",
      "rnd2.lmer: RT ~ (c.(coherence) | subj_id)\n",
      "rnd3.lmer: RT ~ (is_correct | subj_id)\n",
      "rnd4.lmer: RT ~ ((c.(coherence) + is_correct) | subj_id)\n",
      "rnd5.lmer: RT ~ ((c.(coherence) * is_correct) | subj_id)\n",
      "          Df   AIC   BIC  logLik deviance  Chisq Chi Df Pr(>Chisq)    \n",
      "rnd1.lmer  3 18551 18576 -9272.6    18545                             \n",
      "rnd2.lmer  5 13271 13313 -6630.5    13261 5284.3      2     <2e-16 ***\n",
      "rnd3.lmer  5 16778 16820 -8384.0    16768    0.0      0          1    \n",
      "rnd4.lmer  8 12929 12996 -6456.4    12913 3855.3      3     <2e-16 ***\n",
      "rnd5.lmer 12 12542 12642 -6259.1    12518  394.5      4     <2e-16 ***\n",
      "---\n",
      "Signif. codes:  0 '***' 0.001 '**' 0.01 '*' 0.05 '.' 0.1 ' ' 1\n",
      "[1] \"Best model according to AIC\"\n",
      "[1] \"rnd5.lmer\"\n",
      "[1] \"Best model according to BIC\"\n",
      "[1] \"rnd5.lmer\"\n"
     ]
    }
   ],
   "source": [
    "rnd_effects_analysis_3(stats.df)"
   ]
  },
  {
   "cell_type": "markdown",
   "metadata": {},
   "source": [
    "rnd5 is the best"
   ]
  },
  {
   "cell_type": "code",
   "execution_count": 13,
   "metadata": {},
   "outputs": [],
   "source": [
    "run_analysis_3 <- function(stats.df, exp_name){\n",
    "    choice.mer = lmer(RT ~ ((c.(coherence)*is_correct) | subj_id) + c.(coherence)*is_correct, stats.df)\n",
    "    print(summary(choice.mer))\n",
    "\n",
    "    choice.output = summary(choice.mer)$coefficients\n",
    "\n",
    "    row.names(choice.output) <- c(\"Intercept\", \"Coherence\", \"Is correct\", \"Coherence by Is correct\")\n",
    "\n",
    "    file_name = paste(output_table_path, \"RT_vs_coh.tex\", sep=\"\")\n",
    "    print(xtable(choice.output, digits = c(4,4,4,4,4,4),\n",
    "                 label = \"tab:RT_vs_coh\",\n",
    "                 caption = \"Parameters of a linear mixed-effects model analysing response time as\n",
    "                            a function of coherence and choice correctness. The model included random intercept and random \n",
    "                            slopes for coherence, correctness, and their interaction.\"), \n",
    "          caption.placement = \"top\", table.placement=\"t\", floating.environment = \"table*\",\n",
    "          math.style.exponents = TRUE, type = \"latex\", booktabs = TRUE, file = file_name)\n",
    "}"
   ]
  },
  {
   "cell_type": "code",
   "execution_count": 14,
   "metadata": {
    "scrolled": false
   },
   "outputs": [
    {
     "name": "stderr",
     "output_type": "stream",
     "text": [
      "Warning message in checkConv(attr(opt, \"derivs\"), opt$par, ctrl = control$checkConv, :\n",
      "\"Model failed to converge with max|grad| = 0.0561677 (tol = 0.002, component 1)\""
     ]
    },
    {
     "name": "stdout",
     "output_type": "stream",
     "text": [
      "Linear mixed model fit by REML. t-tests use Satterthwaite's method [\n",
      "lmerModLmerTest]\n",
      "Formula: RT ~ ((c.(coherence) * is_correct) | subj_id) + c.(coherence) *  \n",
      "    is_correct\n",
      "   Data: stats.df\n",
      "\n",
      "REML criterion at convergence: 12521.3\n",
      "\n",
      "Scaled residuals: \n",
      "    Min      1Q  Median      3Q     Max \n",
      "-4.6172 -0.4711 -0.0474  0.4122 13.8346 \n",
      "\n",
      "Random effects:\n",
      " Groups   Name                         Variance Std.Dev. Corr             \n",
      " subj_id  (Intercept)                  0.077363 0.27814                   \n",
      "          c.(coherence)                0.414880 0.64411  -0.13            \n",
      "          is_correctTrue               0.009093 0.09536  -0.83 -0.29      \n",
      "          c.(coherence):is_correctTrue 0.297843 0.54575  -0.58 -0.66  0.91\n",
      " Residual                              0.086563 0.29422                   \n",
      "Number of obs: 31517, groups:  subj_id, 13\n",
      "\n",
      "Fixed effects:\n",
      "                             Estimate Std. Error       df t value Pr(>|t|)    \n",
      "(Intercept)                   0.20311    0.07738 11.96332   2.625 0.022238 *  \n",
      "c.(coherence)                 0.13812    0.18456 12.15344   0.748 0.468488    \n",
      "is_correctTrue               -0.12163    0.02722 12.24012  -4.469 0.000731 ***\n",
      "c.(coherence):is_correctTrue -0.64061    0.15865 12.61514  -4.038 0.001493 ** \n",
      "---\n",
      "Signif. codes:  0 '***' 0.001 '**' 0.01 '*' 0.05 '.' 0.1 ' ' 1\n",
      "\n",
      "Correlation of Fixed Effects:\n",
      "            (Intr) c.(ch) is_crT\n",
      "c.(cohernc) -0.110              \n",
      "is_corrctTr -0.825 -0.322       \n",
      "c.(chrn):_T -0.572 -0.681  0.899\n",
      "convergence code: 0\n",
      "Model failed to converge with max|grad| = 0.0561677 (tol = 0.002, component 1)\n",
      "\n"
     ]
    }
   ],
   "source": [
    "run_analysis_3(stats.df)"
   ]
  },
  {
   "cell_type": "markdown",
   "metadata": {},
   "source": [
    "# Difference between initial and final decisions in CoM trials"
   ]
  },
  {
   "cell_type": "code",
   "execution_count": 15,
   "metadata": {},
   "outputs": [],
   "source": [
    "run_binom_test <- function(data, coherence){\n",
    "    binom.test(x = nrow(data[(data$is_correct=='True') & (data$coherence==coherence),]), \n",
    "           n = nrow(data[data$coherence==coherence,]), \n",
    "           p = 0.5, alternative = \"greater\", conf.level = 0.95)\n",
    "}"
   ]
  },
  {
   "cell_type": "code",
   "execution_count": 19,
   "metadata": {},
   "outputs": [
    {
     "data": {
      "text/plain": [
       "\n",
       "\tExact binomial test\n",
       "\n",
       "data:  nrow(data[(data$is_correct == \"True\") & (data$coherence == coherence),  and nrow(data[data$coherence == coherence, ])    ]) and nrow(data[data$coherence == coherence, ])\n",
       "number of successes = 214, number of trials = 387, p-value = 0.02094\n",
       "alternative hypothesis: true probability of success is greater than 0.5\n",
       "95 percent confidence interval:\n",
       " 0.5099114 1.0000000\n",
       "sample estimates:\n",
       "probability of success \n",
       "             0.5529716 \n"
      ]
     },
     "metadata": {},
     "output_type": "display_data"
    }
   ],
   "source": [
    "run_binom_test(stats.df[stats.df$is_com=='True',], coherence=0.032)"
   ]
  },
  {
   "cell_type": "code",
   "execution_count": 18,
   "metadata": {},
   "outputs": [
    {
     "data": {
      "text/plain": [
       "\n",
       "\tExact binomial test\n",
       "\n",
       "data:  nrow(data[(data$is_correct == \"True\") & (data$coherence == coherence),  and nrow(data[data$coherence == coherence, ])    ]) and nrow(data[data$coherence == coherence, ])\n",
       "number of successes = 223, number of trials = 376, p-value = 0.0001801\n",
       "alternative hypothesis: true probability of success is greater than 0.5\n",
       "95 percent confidence interval:\n",
       " 0.5496429 1.0000000\n",
       "sample estimates:\n",
       "probability of success \n",
       "             0.5930851 \n"
      ]
     },
     "metadata": {},
     "output_type": "display_data"
    }
   ],
   "source": [
    "run_binom_test(stats.df[stats.df$is_com=='True',], coherence=0.064)"
   ]
  },
  {
   "cell_type": "code",
   "execution_count": 16,
   "metadata": {},
   "outputs": [
    {
     "data": {
      "text/plain": [
       "\n",
       "\tExact binomial test\n",
       "\n",
       "data:  nrow(data[(data$is_correct == \"True\") & (data$coherence == coherence),  and nrow(data[data$coherence == coherence, ])    ]) and nrow(data[data$coherence == coherence, ])\n",
       "number of successes = 252, number of trials = 352, p-value < 2.2e-16\n",
       "alternative hypothesis: true probability of success is greater than 0.5\n",
       "95 percent confidence interval:\n",
       " 0.6736846 1.0000000\n",
       "sample estimates:\n",
       "probability of success \n",
       "             0.7159091 \n"
      ]
     },
     "metadata": {},
     "output_type": "display_data"
    }
   ],
   "source": [
    "run_binom_test(stats.df[stats.df$is_com=='True',], coherence=0.128)"
   ]
  },
  {
   "cell_type": "code",
   "execution_count": 17,
   "metadata": {},
   "outputs": [
    {
     "data": {
      "text/plain": [
       "\n",
       "\tExact binomial test\n",
       "\n",
       "data:  nrow(data[(data$is_correct == \"True\") & (data$coherence == coherence),  and nrow(data[data$coherence == coherence, ])    ]) and nrow(data[data$coherence == coherence, ])\n",
       "number of successes = 206, number of trials = 246, p-value < 2.2e-16\n",
       "alternative hypothesis: true probability of success is greater than 0.5\n",
       "95 percent confidence interval:\n",
       " 0.793655 1.000000\n",
       "sample estimates:\n",
       "probability of success \n",
       "             0.8373984 \n"
      ]
     },
     "metadata": {},
     "output_type": "display_data"
    }
   ],
   "source": [
    "run_binom_test(stats.df[stats.df$is_com=='True',], coherence=0.256)"
   ]
  },
  {
   "cell_type": "code",
   "execution_count": 20,
   "metadata": {},
   "outputs": [
    {
     "data": {
      "text/plain": [
       "\n",
       "\tExact binomial test\n",
       "\n",
       "data:  nrow(data[(data$is_correct == \"True\") & (data$coherence == coherence),  and nrow(data[data$coherence == coherence, ])    ]) and nrow(data[data$coherence == coherence, ])\n",
       "number of successes = 151, number of trials = 165, p-value < 2.2e-16\n",
       "alternative hypothesis: true probability of success is greater than 0.5\n",
       "95 percent confidence interval:\n",
       " 0.8705371 1.0000000\n",
       "sample estimates:\n",
       "probability of success \n",
       "             0.9151515 \n"
      ]
     },
     "metadata": {},
     "output_type": "display_data"
    }
   ],
   "source": [
    "run_binom_test(stats.df[stats.df$is_com=='True',], coherence=0.512)"
   ]
  }
 ],
 "metadata": {
  "kernelspec": {
   "display_name": "R",
   "language": "R",
   "name": "ir"
  },
  "language_info": {
   "codemirror_mode": "r",
   "file_extension": ".r",
   "mimetype": "text/x-r-source",
   "name": "R",
   "pygments_lexer": "r",
   "version": "3.6.1"
  }
 },
 "nbformat": 4,
 "nbformat_minor": 2
}
