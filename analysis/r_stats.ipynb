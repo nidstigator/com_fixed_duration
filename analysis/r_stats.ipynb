{
 "cells": [
  {
   "cell_type": "markdown",
   "metadata": {},
   "source": [
    "Importing data"
   ]
  },
  {
   "cell_type": "code",
   "execution_count": 14,
   "metadata": {},
   "outputs": [],
   "source": [
    "# uncomment if using this code in RStudio\n",
    "# setwd(dirname(rstudioapi::getActiveDocumentContext()$path))\n",
    "\n",
    "library(coin)\n",
    "library(lme4)\n",
    "library(lmerTest)\n",
    "library(plyr)\n",
    "library(xtable)\n",
    "library(LMERConvenienceFunctions)\n",
    "library(car)\n",
    "# library(lmerTest) see also https://link.springer.com/article/10.3758/s13428-016-0809-y \n",
    "\n",
    "source(\"r_utils/mer-utils.R\")\n",
    "source(\"r_utils/regression-utils.R\")\n",
    "\n",
    "data_path = \"C:/Users/azgonnikov/Google Drive/data/CoM_fixed_duration/processed/choices.txt\"\n",
    "output_table_path = \"C:/Users/azgonnikov/Dropbox/Research/Journal papers/2019 Changes-of-mind/PLoS_Comput_Biol/tables/\"\n",
    "\n",
    "choice.data = read.table(data_path, sep=\"\\t\", header=T)"
   ]
  },
  {
   "cell_type": "markdown",
   "metadata": {},
   "source": [
    "A bit of preprocessing to create variables for analyzing sequential effects"
   ]
  },
  {
   "cell_type": "code",
   "execution_count": 3,
   "metadata": {
    "scrolled": false
   },
   "outputs": [
    {
     "name": "stdout",
     "output_type": "stream",
     "text": [
      "'data.frame':\t17045 obs. of  29 variables:\n",
      " $ subj_id        : Factor w/ 7 levels \"216\",\"247\",\"316\",..: 1 1 1 1 1 1 1 1 1 1 ...\n",
      " $ session_no     : int  1 1 1 1 1 1 1 1 1 1 ...\n",
      " $ block_no       : int  1 1 1 1 1 1 1 1 1 1 ...\n",
      " $ trial_no       : int  1 2 3 4 5 6 7 8 9 10 ...\n",
      " $ is_practice    : Factor w/ 2 levels \"False\",\"True\": 2 2 2 2 2 2 2 2 2 2 ...\n",
      " $ direction      : num  0 180 180 0 180 180 0 180 0 180 ...\n",
      " $ coherence      : num  0 0.256 0.064 0.064 0.128 0.512 0 0.512 0 0.032 ...\n",
      " $ duration       : int  800 800 800 800 800 800 800 800 800 800 ...\n",
      " $ response       : int  180 180 0 180 180 0 180 180 180 0 ...\n",
      " $ trial_time     : num  3.255 0.951 1.02 0.9 0.89 ...\n",
      " $ is_correct     : Factor w/ 2 levels \"False\",\"True\": 1 2 1 1 2 1 1 2 1 1 ...\n",
      " $ xflips         : int  4 2 2 3 5 5 3 3 3 1 ...\n",
      " $ max_d          : num  191.5 160.9 -209.7 164.9 -80.7 ...\n",
      " $ idx_max_d      : num  194 43 68 41 57 37 35 14 48 49 ...\n",
      " $ midline_d      : num  11 72 0 80 2 173 16 48 0 0 ...\n",
      " $ idx_midline_d  : num  184 39 22 36 24 36 30 6 25 17 ...\n",
      " $ midline_d_t    : num  1.853 0.394 0.222 0.363 0.242 ...\n",
      " $ midline_d_y    : num  146 126 35 105 53 443 108 155 30 30 ...\n",
      " $ is_com         : Factor w/ 2 levels \"False\",\"True\": 1 2 1 2 1 2 1 1 1 1 ...\n",
      "  ..- attr(*, \"contrasts\")= num [1:2, 1] -0.5 0.5\n",
      "  .. ..- attr(*, \"dimnames\")=List of 2\n",
      "  .. .. ..$ : chr  \"False\" \"True\"\n",
      "  .. .. ..$ : NULL\n",
      " $ com_type       : Factor w/ 2 levels \"early\",\"late\": 1 1 1 1 1 1 1 1 1 1 ...\n",
      " $ is_correct_init: Factor w/ 2 levels \"False\",\"True\": 1 1 1 2 2 2 1 2 1 1 ...\n",
      " $ is_double_com  : Factor w/ 1 level \"False\": 1 1 1 1 1 1 1 1 1 1 ...\n",
      " $ RT             : num  1.662 0.252 0.373 0.272 0.212 ...\n",
      " $ motion_time    : num  1.584 0.689 0.637 0.617 0.668 ...\n",
      " $ stim_RT        : num  0 0 0 0 0 ...\n",
      " $ RT..z.         : num  7.25 1.8 2.27 1.88 1.64 ...\n",
      " $ RT.tertile     : int  3 3 3 3 3 2 3 2 3 3 ...\n",
      " $ RT..z..tertile : int  3 3 3 3 3 3 3 3 3 3 ...\n",
      " $ all_trial_no   : num  1 2 3 4 5 6 7 8 9 10 ...\n"
     ]
    }
   ],
   "source": [
    "preprocess_data <- function(choice.data) {\n",
    "    # any exclusions?\n",
    "    stats.df = choice.data\n",
    "    stats.df$subj_id = as.factor(stats.df$subj_id)\n",
    "\n",
    "    # generate trial number\n",
    "    max.trial = max(stats.df$trial_no)\n",
    "    max.block = max(stats.df$block_n)\n",
    "    stats.df$all_trial_no = (stats.df$session_no-1) * (max.block * max.trial) +\n",
    "      (stats.df$block_no-1) * max.trial +\n",
    "      stats.df$trial_no\n",
    "\n",
    "    contrasts(stats.df$is_com) = contr.sum(n=2) /2 *-1\n",
    "    contrasts(stats.df$is_com)# true is pos\n",
    "    \n",
    "#     stats.df = stats.df[(stats.df$RT < 1.5),]\n",
    "\n",
    "    str(stats.df)\n",
    "\n",
    "    return(stats.df)\n",
    "}\n",
    "\n",
    "stats.df = preprocess_data(choice.data)"
   ]
  },
  {
   "cell_type": "markdown",
   "metadata": {},
   "source": [
    "# Analysis 1. Accuracy as a function of coherence"
   ]
  },
  {
   "cell_type": "code",
   "execution_count": 7,
   "metadata": {},
   "outputs": [],
   "source": [
    "rnd_effects_analysis_1 <- function(stats.df){\n",
    "    rnd1.lmer = glmer(is_correct ~ (1|subj_id), \n",
    "                 stats.df[stats.df$coherence!=0,], # edit this line to include zero coh\n",
    "                 family = binomial)\n",
    "\n",
    "    # rnd intercept for each participant and random slope of trials\n",
    "    # diff avg acc, diff learning effect for each p\n",
    "    rnd2.lmer = glmer(is_correct ~ (c.(l.(all_trial_no))|subj_id), \n",
    "                      stats.df[stats.df$coherence!=0,], \n",
    "                      family = binomial)\n",
    "\n",
    "    # rnd intercept for each participant and random slope of coherence\n",
    "    # diff avg acc, diff coherence effect for each p\n",
    "    rnd3.lmer = glmer(is_correct ~ (c.(coherence)|subj_id), \n",
    "                      stats.df[stats.df$coherence!=0,], \n",
    "                      family = binomial)\n",
    "\n",
    "    # rnd intercept for each participant and random slope of trials\n",
    "    # diff avg acc, diff linear and quad learning effect for each p\n",
    "    rnd4.lmer = glmer(is_correct ~ (poly(coherence, 2, raw = T)|subj_id), \n",
    "                           stats.df[stats.df$coherence!=0,], \n",
    "                           family = binomial)\n",
    "\n",
    "    # rnd intercept for each participant and random slope of trials\n",
    "    # diff avg acc, diff trial-to-trial stimulus effect and diff learning effect for each p\n",
    "    rnd5.lmer = glmer(is_correct ~ (c.(l.(all_trial_no)) + c.(coherence)|subj_id), \n",
    "                      stats.df[stats.df$coherence!=0,], \n",
    "                      family = binomial)\n",
    "\n",
    "    # rnd.lmer with com and coherence\n",
    "    rnd6.lmer = glmer(is_correct ~ ((is_com + c.(coherence))|subj_id),\n",
    "                      stats.df[stats.df$coherence!=0,],\n",
    "                      family = binomial)\n",
    "\n",
    "    rnd.anova = anova(rnd1.lmer, rnd2.lmer, rnd3.lmer, rnd4.lmer, rnd5.lmer, rnd6.lmer)\n",
    "    print(rnd.anova)\n",
    "    \n",
    "    print(\"Best model according to AIC\")\n",
    "    print(row.names(rnd.anova[rnd.anova$AIC==min(rnd.anova$AIC), ]))\n",
    "    print(\"Best model according to BIC\")\n",
    "    print(row.names(rnd.anova[rnd.anova$BIC==min(rnd.anova$BIC), ]))\n",
    "}"
   ]
  },
  {
   "cell_type": "code",
   "execution_count": 8,
   "metadata": {},
   "outputs": [
    {
     "name": "stderr",
     "output_type": "stream",
     "text": [
      "singular fit\n",
      "singular fit\n",
      "singular fit\n",
      "singular fit\n"
     ]
    },
    {
     "name": "stdout",
     "output_type": "stream",
     "text": [
      "Data: stats.df[stats.df$coherence != 0, ]\n",
      "Models:\n",
      "rnd1.lmer: is_correct ~ (1 | subj_id)\n",
      "rnd2.lmer: is_correct ~ (c.(l.(all_trial_no)) | subj_id)\n",
      "rnd3.lmer: is_correct ~ (c.(coherence) | subj_id)\n",
      "rnd4.lmer: is_correct ~ (poly(coherence, 2, raw = T) | subj_id)\n",
      "rnd5.lmer: is_correct ~ (c.(l.(all_trial_no)) + c.(coherence) | subj_id)\n",
      "rnd6.lmer: is_correct ~ ((is_com + c.(coherence)) | subj_id)\n",
      "          Df    AIC    BIC  logLik deviance     Chisq Chi Df Pr(>Chisq)    \n",
      "rnd1.lmer  2 9049.7 9063.6 -4522.8   9045.7                                \n",
      "rnd2.lmer  4 9053.5 9081.4 -4522.8   9045.5    0.1718      2     0.9177    \n",
      "rnd3.lmer  4 7603.0 7631.0 -3797.5   7595.0 1450.4796      0     <2e-16 ***\n",
      "rnd4.lmer  7 7607.9 7656.8 -3797.0   7593.9    1.1211      3     0.7720    \n",
      "rnd5.lmer  7 7606.4 7655.3 -3796.2   7592.4    1.4747      0     <2e-16 ***\n",
      "rnd6.lmer  7 7614.5 7663.4 -3800.3   7600.5    0.0000      0     1.0000    \n",
      "---\n",
      "Signif. codes:  0 '***' 0.001 '**' 0.01 '*' 0.05 '.' 0.1 ' ' 1\n",
      "[1] \"Best model according to AIC\"\n",
      "[1] \"rnd3.lmer\"\n",
      "[1] \"Best model according to BIC\"\n",
      "[1] \"rnd3.lmer\"\n"
     ]
    }
   ],
   "source": [
    "rnd_effects_analysis_1(stats.df)"
   ]
  },
  {
   "cell_type": "markdown",
   "metadata": {},
   "source": [
    "rnd3 is the best"
   ]
  },
  {
   "cell_type": "code",
   "execution_count": 41,
   "metadata": {},
   "outputs": [],
   "source": [
    "run_analysis_1 <- function(stats.df){\n",
    "    choice.mer = glmer(is_correct ~ ((coherence | subj_id)) + c.(coherence)*is_com + c.(l.(all_trial_no)),\n",
    "                      stats.df[stats.df$coherence!=0,],\n",
    "                      family = binomial)\n",
    "    print(summary(choice.mer))\n",
    "\n",
    "    choice.output = summary(choice.mer)$coefficients\n",
    "    row.names(choice.output) <- c(\"Intercept\", \"Coherence\", \"Is CoM\", \"Trial number\", \"Coherence by Is CoM\")\n",
    "\n",
    "    file_name = paste(output_table_path, \"is_correct_vs_coh.tex\", sep=\"\")\n",
    "    print(xtable(choice.output, digits = c(4,4,4,4,4),# display = c(\"g\",\"g\",\"g\",\"g\",\"g\"), \n",
    "                 label = \"tab:is_correct_vs_coh\",\n",
    "                 caption = \"Parameters of a linear mixed-effects model analysing choice accuracy \n",
    "                            as a function of coherence, presence or absence of a change-of-mind, and trial number. The model \n",
    "                            included random intercept and random slope for coherence.\"), \n",
    "          caption.placement = \"top\", table.placement=\"t\", floating.environment = \"table*\",\n",
    "          math.style.exponents = TRUE, type = \"latex\", booktabs = TRUE, file = file_name)\n",
    "}"
   ]
  },
  {
   "cell_type": "code",
   "execution_count": 42,
   "metadata": {
    "scrolled": false
   },
   "outputs": [
    {
     "name": "stderr",
     "output_type": "stream",
     "text": [
      "singular fit\n"
     ]
    },
    {
     "name": "stdout",
     "output_type": "stream",
     "text": [
      "Generalized linear mixed model fit by maximum likelihood (Laplace\n",
      "  Approximation) [glmerMod]\n",
      " Family: binomial  ( logit )\n",
      "Formula: is_correct ~ ((coherence | subj_id)) + c.(coherence) * is_com +  \n",
      "    c.(l.(all_trial_no))\n",
      "   Data: stats.df[stats.df$coherence != 0, ]\n",
      "\n",
      "     AIC      BIC   logLik deviance df.resid \n",
      "  7579.1   7635.0  -3781.6   7563.1     7965 \n",
      "\n",
      "Scaled residuals: \n",
      "     Min       1Q   Median       3Q      Max \n",
      "-17.4904  -0.9695   0.2526   0.6938   1.1790 \n",
      "\n",
      "Random effects:\n",
      " Groups  Name        Variance Std.Dev. Corr \n",
      " subj_id (Intercept) 0.001469 0.03833       \n",
      "         coherence   5.620370 2.37073  -1.00\n",
      "Number of obs: 7973, groups:  subj_id, 4\n",
      "\n",
      "Fixed effects:\n",
      "                      Estimate Std. Error z value Pr(>|z|)    \n",
      "(Intercept)            1.14320    0.24861   4.598 4.26e-06 ***\n",
      "c.(coherence)          7.01297    1.52191   4.608 4.07e-06 ***\n",
      "is_com1               -1.03722    0.25467  -4.073 4.64e-05 ***\n",
      "c.(l.(all_trial_no))   0.04911    0.02792   1.759   0.0786 .  \n",
      "c.(coherence):is_com1 -4.37621    1.96904  -2.223   0.0262 *  \n",
      "---\n",
      "Signif. codes:  0 '***' 0.001 '**' 0.01 '*' 0.05 '.' 0.1 ' ' 1\n",
      "\n",
      "Correlation of Fixed Effects:\n",
      "            (Intr) c.(ch) is_cm1 c.(.(_\n",
      "c.(cohernc)  0.927                     \n",
      "is_com1      0.462  0.480              \n",
      "c.(l.(l__))  0.000 -0.001 -0.007       \n",
      "c.(chrn):_1  0.378  0.588  0.819 -0.007\n",
      "convergence code: 0\n",
      "singular fit\n",
      "\n"
     ]
    }
   ],
   "source": [
    "run_analysis_1(stats.df)"
   ]
  },
  {
   "cell_type": "markdown",
   "metadata": {},
   "source": [
    "# Analysis 2. Probability of CoM as a function of initiation time"
   ]
  },
  {
   "cell_type": "code",
   "execution_count": 4,
   "metadata": {},
   "outputs": [],
   "source": [
    "rnd_effects_analysis_2 <- function(stats.df){\n",
    "    rnd1.lmer = glmer(is_com ~ (1|subj_id), stats.df, family = binomial)\n",
    "\n",
    "    rnd2.lmer = glmer(is_com ~ (c.(coherence)|subj_id), stats.df, family = binomial)\n",
    "\n",
    "    rnd3.lmer = glmer(is_com ~ (poly(c.(coherence), 2, raw = T)|subj_id), stats.df, family = binomial)\n",
    "\n",
    "    rnd4.lmer = glmer(is_com ~ (c.(RT)|subj_id), stats.df, family = binomial)\n",
    "    \n",
    "    rnd5.lmer = glmer(is_com ~ (c.(RT)*c.(coherence)|subj_id), stats.df, family = binomial)\n",
    "    \n",
    "    rnd.anova = anova(rnd1.lmer, rnd2.lmer, rnd3.lmer, rnd4.lmer, rnd5.lmer)\n",
    "    print(rnd.anova)\n",
    "    \n",
    "    print(\"Best model according to AIC\")\n",
    "    print(row.names(rnd.anova[rnd.anova$AIC==min(rnd.anova$AIC), ]))\n",
    "    print(\"Best model according to BIC\")\n",
    "    print(row.names(rnd.anova[rnd.anova$BIC==min(rnd.anova$BIC), ]))\n",
    "}"
   ]
  },
  {
   "cell_type": "code",
   "execution_count": 5,
   "metadata": {},
   "outputs": [
    {
     "name": "stderr",
     "output_type": "stream",
     "text": [
      "Warning message in checkConv(attr(opt, \"derivs\"), opt$par, ctrl = control$checkConv, :\n",
      "\"Model failed to converge with max|grad| = 0.00100879 (tol = 0.001, component 1)\""
     ]
    },
    {
     "name": "stdout",
     "output_type": "stream",
     "text": [
      "Data: stats.df\n",
      "Models:\n",
      "rnd1.lmer: is_com ~ (1 | subj_id)\n",
      "rnd2.lmer: is_com ~ (c.(coherence) | subj_id)\n",
      "rnd4.lmer: is_com ~ (c.(RT) | subj_id)\n",
      "rnd3.lmer: is_com ~ (poly(c.(coherence), 2, raw = T) | subj_id)\n",
      "rnd5.lmer: is_com ~ (c.(RT) * c.(coherence) | subj_id)\n",
      "          Df    AIC    BIC  logLik deviance   Chisq Chi Df Pr(>Chisq)    \n",
      "rnd1.lmer  2 8914.4 8929.9 -4455.2   8910.4                              \n",
      "rnd2.lmer  4 8793.1 8824.1 -4392.6   8785.1 125.303      2  < 2.2e-16 ***\n",
      "rnd4.lmer  4 8879.5 8910.5 -4435.8   8871.5   0.000      0          1    \n",
      "rnd3.lmer  7 8796.7 8850.9 -4391.3   8782.7  88.863      3  < 2.2e-16 ***\n",
      "rnd5.lmer 11 8761.9 8847.0 -4369.9   8739.9  42.808      4  1.134e-08 ***\n",
      "---\n",
      "Signif. codes:  0 '***' 0.001 '**' 0.01 '*' 0.05 '.' 0.1 ' ' 1\n",
      "[1] \"Best model according to AIC\"\n",
      "[1] \"rnd5.lmer\"\n",
      "[1] \"Best model according to BIC\"\n",
      "[1] \"rnd2.lmer\"\n"
     ]
    }
   ],
   "source": [
    "rnd_effects_analysis_2(stats.df)"
   ]
  },
  {
   "cell_type": "markdown",
   "metadata": {},
   "source": [
    "rnd4 is the best converging model for the original data, rnd2 and rnd5 are best for the Dresden data"
   ]
  },
  {
   "cell_type": "code",
   "execution_count": 15,
   "metadata": {},
   "outputs": [],
   "source": [
    "run_analysis_2 <- function(stats.df, exp_name){\n",
    "#     choice.mer = glmer(is_com ~ (c.(RT) | subj_id) + c.(coherence)*c.(RT), stats.df, family = binomial)\n",
    "    choice.mer = glmer(is_com ~ (c.(RT)*c.(coherence)|subj_id), stats.df, family = binomial)\n",
    "    print(summary(choice.mer))\n",
    "\n",
    "    choice.output = summary(choice.mer)$coefficients\n",
    "#     row.names(choice.output) <- c(\"Intercept\", \"Coherence\", \"RT\", \"Coherence by RT\")\n",
    "\n",
    "    file_name = paste(output_table_path, \"is_com_vs_RT_dresden.tex\", sep=\"\")\n",
    "    print(xtable(choice.output, digits = c(4,4,4,4,4),\n",
    "                 label = \"tab:is_com_vs_RT\",\n",
    "                 caption = \"Parameters of a linear mixed-effects model analysing probability of a change-of-mind \n",
    "                            as a function of coherence and response time. The model included random intercept and random \n",
    "                            slope for response time.\"), \n",
    "          caption.placement = \"top\", table.placement=\"t\", floating.environment = \"table*\",\n",
    "          math.style.exponents = TRUE, type = \"latex\", booktabs = TRUE, file = file_name)\n",
    "}"
   ]
  },
  {
   "cell_type": "code",
   "execution_count": 16,
   "metadata": {
    "scrolled": false
   },
   "outputs": [
    {
     "name": "stderr",
     "output_type": "stream",
     "text": [
      "Warning message in checkConv(attr(opt, \"derivs\"), opt$par, ctrl = control$checkConv, :\n",
      "\"Model failed to converge with max|grad| = 0.00100879 (tol = 0.001, component 1)\""
     ]
    },
    {
     "name": "stdout",
     "output_type": "stream",
     "text": [
      "Generalized linear mixed model fit by maximum likelihood (Laplace\n",
      "  Approximation) [glmerMod]\n",
      " Family: binomial  ( logit )\n",
      "Formula: is_com ~ (c.(RT) * c.(coherence) | subj_id)\n",
      "   Data: stats.df\n",
      "\n",
      "     AIC      BIC   logLik deviance df.resid \n",
      "  8761.9   8847.0  -4369.9   8739.9    17034 \n",
      "\n",
      "Scaled residuals: \n",
      "    Min      1Q  Median      3Q     Max \n",
      "-1.1137 -0.3540 -0.1955 -0.1250 12.3066 \n",
      "\n",
      "Random effects:\n",
      " Groups  Name                 Variance Std.Dev. Corr             \n",
      " subj_id (Intercept)           3.866   1.966                     \n",
      "         c.(RT)                1.037   1.018    -0.96            \n",
      "         c.(coherence)         9.656   3.107     0.93 -0.84      \n",
      "         c.(RT):c.(coherence) 18.795   4.335    -0.31  0.24 -0.64\n",
      "Number of obs: 17045, groups:  subj_id, 7\n",
      "\n",
      "Fixed effects:\n",
      "            Estimate Std. Error z value Pr(>|z|)    \n",
      "(Intercept)   -1.265      0.236   -5.36  8.3e-08 ***\n",
      "---\n",
      "Signif. codes:  0 '***' 0.001 '**' 0.01 '*' 0.05 '.' 0.1 ' ' 1\n",
      "convergence code: 0\n",
      "Model failed to converge with max|grad| = 0.00100879 (tol = 0.001, component 1)\n",
      "\n"
     ]
    }
   ],
   "source": [
    "run_analysis_2(stats.df)"
   ]
  },
  {
   "cell_type": "markdown",
   "metadata": {},
   "source": [
    "# Analysis 3. Response time as a function of coherence"
   ]
  },
  {
   "cell_type": "code",
   "execution_count": 33,
   "metadata": {},
   "outputs": [],
   "source": [
    "rnd_effects_analysis_3 <- function(stats.df){\n",
    "#     stats.df <- stats.df[complete.cases(stats.df[ , \"eye_IT\"]),]\n",
    "    rnd1.lmer = lmer(RT ~ (1|subj_id), stats.df)\n",
    "\n",
    "    rnd2.lmer = lmer(RT ~ (c.(coherence)|subj_id), stats.df)\n",
    "\n",
    "    rnd3.lmer = lmer(RT ~ (is_correct|subj_id), stats.df)\n",
    "\n",
    "    rnd4.lmer = lmer(RT ~ ((c.(coherence)+is_correct)|subj_id), stats.df)\n",
    "    \n",
    "    rnd5.lmer = lmer(RT ~ ((c.(coherence)*is_correct)|subj_id), stats.df)\n",
    "    \n",
    "    rnd.anova = anova(rnd1.lmer, rnd2.lmer, rnd3.lmer, rnd4.lmer, rnd5.lmer)\n",
    "#     rnd.anova = anova(rnd4.lmer, rnd5.lmer)\n",
    "    print(rnd.anova)\n",
    "    print(\"Best model according to AIC\")\n",
    "    print(row.names(rnd.anova[rnd.anova$AIC==min(rnd.anova$AIC), ]))\n",
    "    print(\"Best model according to BIC\")\n",
    "    print(row.names(rnd.anova[rnd.anova$BIC==min(rnd.anova$BIC), ]))\n",
    "}"
   ]
  },
  {
   "cell_type": "code",
   "execution_count": 35,
   "metadata": {},
   "outputs": [
    {
     "name": "stderr",
     "output_type": "stream",
     "text": [
      "singular fit\n",
      "singular fit\n",
      "singular fit\n",
      "singular fit\n",
      "refitting model(s) with ML (instead of REML)\n"
     ]
    },
    {
     "name": "stdout",
     "output_type": "stream",
     "text": [
      "Data: stats.df\n",
      "Models:\n",
      "rnd1.lmer: RT ~ (1 | subj_id)\n",
      "rnd2.lmer: RT ~ (c.(coherence) | subj_id)\n",
      "rnd3.lmer: RT ~ (is_correct | subj_id)\n",
      "rnd4.lmer: RT ~ ((c.(coherence) + is_correct) | subj_id)\n",
      "rnd5.lmer: RT ~ ((c.(coherence) * is_correct) | subj_id)\n",
      "          Df     AIC     BIC  logLik deviance  Chisq Chi Df Pr(>Chisq)    \n",
      "rnd1.lmer  3 12293.6 12315.1 -6143.8  12287.6                             \n",
      "rnd2.lmer  5 10001.8 10037.6 -4995.9   9991.8 2295.8      2  < 2.2e-16 ***\n",
      "rnd3.lmer  5 11572.2 11608.0 -5781.1  11562.2    0.0      0          1    \n",
      "rnd4.lmer  8  9880.4  9937.7 -4932.2   9864.4 1697.8      3  < 2.2e-16 ***\n",
      "rnd5.lmer 12  9827.8  9913.8 -4901.9   9803.8   60.6      4   2.17e-12 ***\n",
      "---\n",
      "Signif. codes:  0 '***' 0.001 '**' 0.01 '*' 0.05 '.' 0.1 ' ' 1\n",
      "[1] \"Best model according to AIC\"\n",
      "[1] \"rnd5.lmer\"\n",
      "[1] \"Best model according to BIC\"\n",
      "[1] \"rnd5.lmer\"\n"
     ]
    }
   ],
   "source": [
    "rnd_effects_analysis_3(stats.df)"
   ]
  },
  {
   "cell_type": "markdown",
   "metadata": {},
   "source": [
    "rnd5 is the best"
   ]
  },
  {
   "cell_type": "code",
   "execution_count": 5,
   "metadata": {},
   "outputs": [],
   "source": [
    "run_analysis_3 <- function(stats.df, exp_name){\n",
    "    choice.mer = lmer(RT ~ ((c.(coherence)*is_correct) | subj_id) + c.(coherence)*is_correct, stats.df)\n",
    "    print(summary(choice.mer))\n",
    "\n",
    "    choice.output = summary(choice.mer)$coefficients\n",
    "\n",
    "    row.names(choice.output) <- c(\"Intercept\", \"Coherence\", \"Is correct\", \"Coherence by Is correct\")\n",
    "\n",
    "    file_name = paste(output_table_path, \"RT_vs_coh.tex\", sep=\"\")\n",
    "    print(xtable(choice.output, digits = c(4,4,4,4,4,4),\n",
    "                 label = \"tab:RT_vs_coh\",\n",
    "                 caption = \"Parameters of a linear mixed-effects model analysing response time as\n",
    "                            a function of coherence and choice correctness. The model included random intercept and random \n",
    "                            slopes for coherence, correctness, and their interaction.\"), \n",
    "          caption.placement = \"top\", table.placement=\"t\", floating.environment = \"table*\",\n",
    "          math.style.exponents = TRUE, type = \"latex\", booktabs = TRUE, file = file_name)\n",
    "}"
   ]
  },
  {
   "cell_type": "code",
   "execution_count": 6,
   "metadata": {
    "scrolled": false
   },
   "outputs": [
    {
     "name": "stderr",
     "output_type": "stream",
     "text": [
      "singular fit\n"
     ]
    },
    {
     "name": "stdout",
     "output_type": "stream",
     "text": [
      "Linear mixed model fit by REML. t-tests use Satterthwaite's method [\n",
      "lmerModLmerTest]\n",
      "Formula: RT ~ ((c.(coherence) * is_correct) | subj_id) + c.(coherence) *  \n",
      "    is_correct\n",
      "   Data: stats.df\n",
      "\n",
      "REML criterion at convergence: 9811.1\n",
      "\n",
      "Scaled residuals: \n",
      "    Min      1Q  Median      3Q     Max \n",
      "-3.3680 -0.4716 -0.1189  0.2616  7.3463 \n",
      "\n",
      "Random effects:\n",
      " Groups   Name                         Variance Std.Dev. Corr             \n",
      " subj_id  (Intercept)                  0.047198 0.21725                   \n",
      "          c.(coherence)                0.660265 0.81257  -0.94            \n",
      "          is_correctTrue               0.005195 0.07208  -0.97  0.82      \n",
      "          c.(coherence):is_correctTrue 0.033216 0.18225  -0.34 -0.01  0.57\n",
      " Residual                              0.162583 0.40322                   \n",
      "Number of obs: 9564, groups:  subj_id, 4\n",
      "\n",
      "Fixed effects:\n",
      "                             Estimate Std. Error       df t value Pr(>|t|)   \n",
      "(Intercept)                   0.52133    0.10939  2.98221   4.766  0.01779 * \n",
      "c.(coherence)                -0.10402    0.41852  2.93837  -0.249  0.82007   \n",
      "is_correctTrue               -0.17669    0.03862  2.96671  -4.575  0.02008 * \n",
      "c.(coherence):is_correctTrue -0.77570    0.13814  3.81765  -5.615  0.00567 **\n",
      "---\n",
      "Signif. codes:  0 '***' 0.001 '**' 0.01 '*' 0.05 '.' 0.1 ' ' 1\n",
      "\n",
      "Correlation of Fixed Effects:\n",
      "            (Intr) c.(ch) is_crT\n",
      "c.(cohernc) -0.881              \n",
      "is_corrctTr -0.936  0.677       \n",
      "c.(chrn):_T -0.294 -0.178  0.542\n",
      "convergence code: 0\n",
      "singular fit\n",
      "\n"
     ]
    }
   ],
   "source": [
    "run_analysis_3(stats.df)"
   ]
  },
  {
   "cell_type": "markdown",
   "metadata": {},
   "source": [
    "# Difference between initial and final decisions in CoM trials"
   ]
  },
  {
   "cell_type": "code",
   "execution_count": 47,
   "metadata": {},
   "outputs": [],
   "source": [
    "run_binom_test <- function(data, coherence){\n",
    "    binom.test(x = nrow(data[(data$is_correct=='True') & (data$coherence==coherence),]), \n",
    "           n = nrow(data[data$coherence==coherence,]), \n",
    "           p = 0.5, alternative = \"greater\", conf.level = 0.95)\n",
    "}"
   ]
  },
  {
   "cell_type": "code",
   "execution_count": 48,
   "metadata": {},
   "outputs": [
    {
     "data": {
      "text/plain": [
       "\n",
       "\tExact binomial test\n",
       "\n",
       "data:  nrow(data[(data$is_correct == \"True\") & (data$coherence == coherence),  and nrow(data_com[data$coherence == coherence, ])    ]) and nrow(data_com[data$coherence == coherence, ])\n",
       "number of successes = 36, number of trials = 55, p-value = 0.01501\n",
       "alternative hypothesis: true probability of success is greater than 0.5\n",
       "95 percent confidence interval:\n",
       " 0.5354955 1.0000000\n",
       "sample estimates:\n",
       "probability of success \n",
       "             0.6545455 \n"
      ]
     },
     "metadata": {},
     "output_type": "display_data"
    }
   ],
   "source": [
    "run_binom_test(stats.df[stats.df$is_com=='True',], coherence=0.128)"
   ]
  },
  {
   "cell_type": "code",
   "execution_count": 49,
   "metadata": {},
   "outputs": [
    {
     "data": {
      "text/plain": [
       "\n",
       "\tExact binomial test\n",
       "\n",
       "data:  nrow(data[(data$is_correct == \"True\") & (data$coherence == coherence),  and nrow(data_com[data$coherence == coherence, ])    ]) and nrow(data_com[data$coherence == coherence, ])\n",
       "number of successes = 26, number of trials = 34, p-value = 0.001468\n",
       "alternative hypothesis: true probability of success is greater than 0.5\n",
       "95 percent confidence interval:\n",
       " 0.6153433 1.0000000\n",
       "sample estimates:\n",
       "probability of success \n",
       "             0.7647059 \n"
      ]
     },
     "metadata": {},
     "output_type": "display_data"
    }
   ],
   "source": [
    "run_binom_test(stats.df[stats.df$is_com=='True',], coherence=0.256)"
   ]
  }
 ],
 "metadata": {
  "kernelspec": {
   "display_name": "R",
   "language": "R",
   "name": "ir"
  },
  "language_info": {
   "codemirror_mode": "r",
   "file_extension": ".r",
   "mimetype": "text/x-r-source",
   "name": "R",
   "pygments_lexer": "r",
   "version": "3.6.1"
  }
 },
 "nbformat": 4,
 "nbformat_minor": 2
}
