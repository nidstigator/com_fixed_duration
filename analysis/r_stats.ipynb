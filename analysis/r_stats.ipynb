{
 "cells": [
  {
   "cell_type": "markdown",
   "metadata": {},
   "source": [
    "Importing data"
   ]
  },
  {
   "cell_type": "code",
   "execution_count": 5,
   "metadata": {},
   "outputs": [],
   "source": [
    "# uncomment if using this code in RStudio\n",
    "# setwd(dirname(rstudioapi::getActiveDocumentContext()$path))\n",
    "\n",
    "library(coin)\n",
    "library(lme4)\n",
    "library(lmerTest)\n",
    "library(plyr)\n",
    "library(xtable)\n",
    "library(LMERConvenienceFunctions)\n",
    "library(car)\n",
    "# library(lmerTest) see also https://link.springer.com/article/10.3758/s13428-016-0809-y \n",
    "\n",
    "source(\"r_utils/mer-utils.R\")\n",
    "source(\"r_utils/regression-utils.R\")\n",
    "\n",
    "data_path = \"C:/Users/Arkady/Google Drive/data/CoM_fixed_duration/processed/choices.txt\"\n",
    "output_table_path = \"C:/Users/Arkady/Dropbox/Research/Journal papers/2019 Changes-of-mind/tables/\"\n",
    "\n",
    "choice.data = read.table(data_path, sep=\"\\t\", header=T)"
   ]
  },
  {
   "cell_type": "markdown",
   "metadata": {},
   "source": [
    "A bit of preprocessing to create variables for analyzing sequential effects"
   ]
  },
  {
   "cell_type": "code",
   "execution_count": 6,
   "metadata": {
    "scrolled": false
   },
   "outputs": [
    {
     "name": "stdout",
     "output_type": "stream",
     "text": [
      "'data.frame':\t9564 obs. of  28 variables:\n",
      " $ subj_id        : Factor w/ 4 levels \"269\",\"275\",\"391\",..: 1 1 1 1 1 1 1 1 1 1 ...\n",
      " $ session_no     : int  1 1 1 1 1 1 1 1 1 1 ...\n",
      " $ block_no       : int  1 1 1 1 1 1 1 1 1 1 ...\n",
      " $ trial_no       : int  1 2 3 4 5 6 7 8 9 10 ...\n",
      " $ is_practice    : Factor w/ 2 levels \"False\",\"True\": 2 2 2 2 2 2 2 2 2 2 ...\n",
      " $ direction      : num  0 180 0 0 0 180 180 0 0 180 ...\n",
      " $ coherence      : num  0.512 0 0.064 0.064 0.064 0.032 0.512 0.032 0.256 0.128 ...\n",
      " $ duration       : int  800 800 800 800 800 800 800 800 800 800 ...\n",
      " $ response       : int  0 180 180 180 0 0 180 0 0 180 ...\n",
      " $ trial_time     : num  3.1 3.5 1.14 2.54 1.05 ...\n",
      " $ is_correct     : Factor w/ 2 levels \"False\",\"True\": 2 2 1 1 2 1 2 2 2 2 ...\n",
      " $ xflips         : int  1 1 0 1 0 0 0 0 0 0 ...\n",
      " $ max_d          : num  139 116 -48.9 35.2 193.7 ...\n",
      " $ idx_max_d      : num  224 284 83 209 72 172 64 107 130 204 ...\n",
      " $ midline_d      : num  1 0 0 1 0 0 0 0 0 0 ...\n",
      " $ idx_midline_d  : num  202 246 47 206 53 160 30 100 111 169 ...\n",
      " $ midline_d_y    : num  45 30 30 68 30 30 30 30 30 30 ...\n",
      " $ is_com         : Factor w/ 2 levels \"False\",\"True\": 1 1 1 1 1 1 1 1 1 1 ...\n",
      "  ..- attr(*, \"contrasts\")= num [1:2, 1] -0.5 0.5\n",
      "  .. ..- attr(*, \"dimnames\")=List of 2\n",
      "  .. .. ..$ : chr  \"False\" \"True\"\n",
      "  .. .. ..$ : NULL\n",
      " $ com_type       : Factor w/ 2 levels \"early\",\"late\": 1 1 1 1 1 1 1 1 1 1 ...\n",
      " $ is_correct_init: Factor w/ 2 levels \"False\",\"True\": 2 2 1 1 2 1 2 2 2 2 ...\n",
      " $ is_double_com  : Factor w/ 1 level \"False\": 1 1 1 1 1 1 1 1 1 1 ...\n",
      " $ RT             : num  1.97 2.453 0.452 1.97 0.513 ...\n",
      " $ motion_time    : num  1.117 1.036 0.674 0.563 0.523 ...\n",
      " $ stim_RT        : num  0 0 0 0 0 0 0 0 0 0 ...\n",
      " $ RT..z.         : num  6.486 8.382 0.519 6.485 0.756 ...\n",
      " $ RT.tertile     : int  3 3 3 3 3 3 2 3 3 3 ...\n",
      " $ RT..z..tertile : int  3 3 3 3 3 3 2 3 3 3 ...\n",
      " $ all_trial_no   : num  1 2 3 4 5 6 7 8 9 10 ...\n"
     ]
    }
   ],
   "source": [
    "preprocess_data <- function(choice.data) {\n",
    "    # any exclusions?\n",
    "    stats.df = choice.data\n",
    "    stats.df$subj_id = as.factor(stats.df$subj_id)\n",
    "\n",
    "    # generate trial number\n",
    "    max.trial = max(stats.df$trial_no)\n",
    "    max.block = max(stats.df$block_n)\n",
    "    stats.df$all_trial_no = (stats.df$session_no-1) * (max.block * max.trial) +\n",
    "      (stats.df$block_no-1) * max.trial +\n",
    "      stats.df$trial_no\n",
    "\n",
    "    contrasts(stats.df$is_com) = contr.sum(n=2) /2 *-1\n",
    "    contrasts(stats.df$is_com)# true is pos\n",
    "    \n",
    "#     stats.df = stats.df[(stats.df$RT < 1.5),]\n",
    "\n",
    "    str(stats.df)\n",
    "\n",
    "    return(stats.df)\n",
    "}\n",
    "\n",
    "stats.df = preprocess_data(choice.data)"
   ]
  },
  {
   "cell_type": "markdown",
   "metadata": {},
   "source": [
    "# Analysis 1. Accuracy as a function of coherence"
   ]
  },
  {
   "cell_type": "code",
   "execution_count": 7,
   "metadata": {},
   "outputs": [],
   "source": [
    "rnd_effects_analysis_1 <- function(stats.df){\n",
    "    rnd1.lmer = glmer(is_correct ~ (1|subj_id), \n",
    "                 stats.df[stats.df$coherence!=0,], # edit this line to include zero coh\n",
    "                 family = binomial)\n",
    "\n",
    "    # rnd intercept for each participant and random slope of trials\n",
    "    # diff avg acc, diff learning effect for each p\n",
    "    rnd2.lmer = glmer(is_correct ~ (c.(l.(all_trial_no))|subj_id), \n",
    "                      stats.df[stats.df$coherence!=0,], \n",
    "                      family = binomial)\n",
    "\n",
    "    # rnd intercept for each participant and random slope of coherence\n",
    "    # diff avg acc, diff coherence effect for each p\n",
    "    rnd3.lmer = glmer(is_correct ~ (c.(coherence)|subj_id), \n",
    "                      stats.df[stats.df$coherence!=0,], \n",
    "                      family = binomial)\n",
    "\n",
    "    # rnd intercept for each participant and random slope of trials\n",
    "    # diff avg acc, diff linear and quad learning effect for each p\n",
    "    rnd4.lmer = glmer(is_correct ~ (poly(coherence, 2, raw = T)|subj_id), \n",
    "                           stats.df[stats.df$coherence!=0,], \n",
    "                           family = binomial)\n",
    "\n",
    "    # rnd intercept for each participant and random slope of trials\n",
    "    # diff avg acc, diff trial-to-trial stimulus effect and diff learning effect for each p\n",
    "    rnd5.lmer = glmer(is_correct ~ (c.(l.(all_trial_no)) + c.(coherence)|subj_id), \n",
    "                      stats.df[stats.df$coherence!=0,], \n",
    "                      family = binomial)\n",
    "\n",
    "    # rnd.lmer with com and coherence\n",
    "    rnd6.lmer = glmer(is_correct ~ ((is_com + c.(coherence))|subj_id),\n",
    "                      stats.df[stats.df$coherence!=0,],\n",
    "                      family = binomial)\n",
    "\n",
    "    rnd.anova = anova(rnd1.lmer, rnd2.lmer, rnd3.lmer, rnd4.lmer, rnd5.lmer, rnd6.lmer)\n",
    "    print(rnd.anova)\n",
    "    \n",
    "    print(\"Best model according to AIC\")\n",
    "    print(row.names(rnd.anova[rnd.anova$AIC==min(rnd.anova$AIC), ]))\n",
    "    print(\"Best model according to BIC\")\n",
    "    print(row.names(rnd.anova[rnd.anova$BIC==min(rnd.anova$BIC), ]))\n",
    "}"
   ]
  },
  {
   "cell_type": "code",
   "execution_count": 8,
   "metadata": {},
   "outputs": [
    {
     "name": "stderr",
     "output_type": "stream",
     "text": [
      "singular fit\n",
      "singular fit\n",
      "singular fit\n",
      "singular fit\n"
     ]
    },
    {
     "name": "stdout",
     "output_type": "stream",
     "text": [
      "Data: stats.df[stats.df$coherence != 0, ]\n",
      "Models:\n",
      "rnd1.lmer: is_correct ~ (1 | subj_id)\n",
      "rnd2.lmer: is_correct ~ (c.(l.(all_trial_no)) | subj_id)\n",
      "rnd3.lmer: is_correct ~ (c.(coherence) | subj_id)\n",
      "rnd4.lmer: is_correct ~ (poly(coherence, 2, raw = T) | subj_id)\n",
      "rnd5.lmer: is_correct ~ (c.(l.(all_trial_no)) + c.(coherence) | subj_id)\n",
      "rnd6.lmer: is_correct ~ ((is_com + c.(coherence)) | subj_id)\n",
      "          Df    AIC    BIC  logLik deviance     Chisq Chi Df Pr(>Chisq)    \n",
      "rnd1.lmer  2 9049.7 9063.6 -4522.8   9045.7                                \n",
      "rnd2.lmer  4 9053.5 9081.4 -4522.8   9045.5    0.1718      2     0.9177    \n",
      "rnd3.lmer  4 7603.0 7631.0 -3797.5   7595.0 1450.4796      0     <2e-16 ***\n",
      "rnd4.lmer  7 7607.9 7656.8 -3797.0   7593.9    1.1211      3     0.7720    \n",
      "rnd5.lmer  7 7606.4 7655.3 -3796.2   7592.4    1.4747      0     <2e-16 ***\n",
      "rnd6.lmer  7 7614.5 7663.4 -3800.3   7600.5    0.0000      0     1.0000    \n",
      "---\n",
      "Signif. codes:  0 '***' 0.001 '**' 0.01 '*' 0.05 '.' 0.1 ' ' 1\n",
      "[1] \"Best model according to AIC\"\n",
      "[1] \"rnd3.lmer\"\n",
      "[1] \"Best model according to BIC\"\n",
      "[1] \"rnd3.lmer\"\n"
     ]
    }
   ],
   "source": [
    "rnd_effects_analysis_1(stats.df)"
   ]
  },
  {
   "cell_type": "markdown",
   "metadata": {},
   "source": [
    "rnd3 is the best"
   ]
  },
  {
   "cell_type": "code",
   "execution_count": 82,
   "metadata": {},
   "outputs": [],
   "source": [
    "run_analysis_1 <- function(stats.df){\n",
    "    choice.mer = glmer(is_correct ~ ((coherence | subj_id)) + c.(coherence)*is_com + c.(l.(all_trial_no)),\n",
    "                      stats.df[stats.df$coherence!=0,],\n",
    "                      family = binomial)\n",
    "    print(summary(choice.mer))\n",
    "\n",
    "    choice.output = summary(choice.mer)$coefficients\n",
    "    row.names(choice.output) <- c(\"Intercept\", \"Coherence\", \"Is CoM\", \"Trial number\", \"Coherence by Is CoM\")\n",
    "\n",
    "    file_name = paste(output_table_path, \"is_correct_vs_coh.tex\", sep=\"\")\n",
    "    print(xtable(choice.output, digits = c(4,4,4,4,4),# display = c(\"g\",\"g\",\"g\",\"g\",\"g\"), \n",
    "                 label = \"tab:is_correct_vs_coh\",\n",
    "                 caption = \"Parameters of a linear mixed-effects model analysing choice accuracy \n",
    "                            as a function of coherence, presence or absence of a change-of-mind, and trial number.\"), \n",
    "          caption.placement = \"top\", table.placement=\"t\", floating.environment = \"table*\",\n",
    "          math.style.exponents = TRUE, type = \"latex\", booktabs = TRUE, file = file_name)\n",
    "}"
   ]
  },
  {
   "cell_type": "code",
   "execution_count": 83,
   "metadata": {
    "scrolled": false
   },
   "outputs": [
    {
     "name": "stderr",
     "output_type": "stream",
     "text": [
      "singular fit\n"
     ]
    },
    {
     "name": "stdout",
     "output_type": "stream",
     "text": [
      "Generalized linear mixed model fit by maximum likelihood (Laplace\n",
      "  Approximation) [glmerMod]\n",
      " Family: binomial  ( logit )\n",
      "Formula: is_correct ~ ((coherence | subj_id)) + c.(coherence) * is_com +  \n",
      "    c.(l.(all_trial_no))\n",
      "   Data: stats.df[stats.df$coherence != 0, ]\n",
      "\n",
      "     AIC      BIC   logLik deviance df.resid \n",
      "  7579.1   7635.0  -3781.6   7563.1     7965 \n",
      "\n",
      "Scaled residuals: \n",
      "     Min       1Q   Median       3Q      Max \n",
      "-17.4904  -0.9695   0.2526   0.6938   1.1790 \n",
      "\n",
      "Random effects:\n",
      " Groups  Name        Variance Std.Dev. Corr \n",
      " subj_id (Intercept) 0.001469 0.03833       \n",
      "         coherence   5.620370 2.37073  -1.00\n",
      "Number of obs: 7973, groups:  subj_id, 4\n",
      "\n",
      "Fixed effects:\n",
      "                      Estimate Std. Error z value Pr(>|z|)    \n",
      "(Intercept)            1.14320    0.24861   4.598 4.26e-06 ***\n",
      "c.(coherence)          7.01297    1.52191   4.608 4.07e-06 ***\n",
      "is_com1               -1.03722    0.25467  -4.073 4.64e-05 ***\n",
      "c.(l.(all_trial_no))   0.04911    0.02792   1.759   0.0786 .  \n",
      "c.(coherence):is_com1 -4.37621    1.96904  -2.223   0.0262 *  \n",
      "---\n",
      "Signif. codes:  0 '***' 0.001 '**' 0.01 '*' 0.05 '.' 0.1 ' ' 1\n",
      "\n",
      "Correlation of Fixed Effects:\n",
      "            (Intr) c.(ch) is_cm1 c.(.(_\n",
      "c.(cohernc)  0.927                     \n",
      "is_com1      0.462  0.480              \n",
      "c.(l.(l__))  0.000 -0.001 -0.007       \n",
      "c.(chrn):_1  0.378  0.588  0.819 -0.007\n",
      "convergence code: 0\n",
      "singular fit\n",
      "\n"
     ]
    }
   ],
   "source": [
    "run_analysis_1(stats.df)"
   ]
  },
  {
   "cell_type": "markdown",
   "metadata": {},
   "source": [
    "# Analysis 2. Probability of CoM as a function of initiation time"
   ]
  },
  {
   "cell_type": "code",
   "execution_count": 33,
   "metadata": {},
   "outputs": [],
   "source": [
    "rnd_effects_analysis_2 <- function(stats.df){\n",
    "    rnd1.lmer = glmer(is_com ~ (1|subj_id), stats.df, family = binomial)\n",
    "\n",
    "    rnd2.lmer = glmer(is_com ~ (c.(coherence)|subj_id), stats.df, family = binomial)\n",
    "\n",
    "    rnd3.lmer = glmer(is_com ~ (poly(c.(coherence), 2, raw = T)|subj_id), stats.df, family = binomial)\n",
    "\n",
    "    rnd4.lmer = glmer(is_com ~ (c.(RT)|subj_id), stats.df, family = binomial)\n",
    "    \n",
    "    rnd5.lmer = glmer(is_com ~ (c.(RT)*c.(coherence)|subj_id), stats.df, family = binomial)\n",
    "    \n",
    "    rnd.anova = anova(rnd1.lmer, rnd2.lmer, rnd3.lmer, rnd4.lmer, rnd5.lmer)\n",
    "    print(rnd.anova)\n",
    "    \n",
    "    print(\"Best model according to AIC\")\n",
    "    print(row.names(rnd.anova[rnd.anova$AIC==min(rnd.anova$AIC), ]))\n",
    "    print(\"Best model according to BIC\")\n",
    "    print(row.names(rnd.anova[rnd.anova$BIC==min(rnd.anova$BIC), ]))\n",
    "}"
   ]
  },
  {
   "cell_type": "code",
   "execution_count": 21,
   "metadata": {},
   "outputs": [
    {
     "name": "stderr",
     "output_type": "stream",
     "text": [
      "singular fit\n",
      "singular fit\n",
      "singular fit\n"
     ]
    },
    {
     "name": "stdout",
     "output_type": "stream",
     "text": [
      "Data: stats.df\n",
      "Models:\n",
      "rnd1.lmer: is_com ~ (1 | subj_id)\n",
      "rnd2.lmer: is_com ~ (c.(coherence) | subj_id)\n",
      "rnd4.lmer: is_com ~ (c.(RT) | subj_id)\n",
      "rnd3.lmer: is_com ~ (poly(c.(coherence), 2, raw = T) | subj_id)\n",
      "rnd5.lmer: is_com ~ (c.(RT) * c.(coherence) | subj_id)\n",
      "          Df    AIC    BIC  logLik deviance  Chisq Chi Df Pr(>Chisq)    \n",
      "rnd1.lmer  2 2324.1 2338.5 -1160.1   2320.1                             \n",
      "rnd2.lmer  4 2255.3 2283.9 -1123.6   2247.3 72.843      2     <2e-16 ***\n",
      "rnd4.lmer  4 2187.8 2216.5 -1089.9   2179.8 67.456      0     <2e-16 ***\n",
      "rnd3.lmer  7 2240.9 2291.1 -1113.5   2226.9  0.000      3          1    \n",
      "rnd5.lmer 11 2167.7 2246.5 -1072.8   2145.7 81.243      4     <2e-16 ***\n",
      "---\n",
      "Signif. codes:  0 '***' 0.001 '**' 0.01 '*' 0.05 '.' 0.1 ' ' 1\n",
      "[1] \"Best model according to AIC\"\n",
      "[1] \"rnd5.lmer\"\n",
      "[1] \"Best model according to BIC\"\n",
      "[1] \"rnd4.lmer\"\n"
     ]
    }
   ],
   "source": [
    "rnd_effects_analysis_2(stats.df)"
   ]
  },
  {
   "cell_type": "markdown",
   "metadata": {},
   "source": [
    "rnd4 is the best converging model"
   ]
  },
  {
   "cell_type": "code",
   "execution_count": 84,
   "metadata": {},
   "outputs": [],
   "source": [
    "run_analysis_2 <- function(stats.df, exp_name){\n",
    "    choice.mer = glmer(is_com ~ (c.(RT) | subj_id) + c.(coherence)*c.(RT), stats.df, family = binomial)\n",
    "    print(summary(choice.mer))\n",
    "\n",
    "    choice.output = summary(choice.mer)$coefficients\n",
    "    row.names(choice.output) <- c(\"Intercept\", \"Coherence\", \"RT\", \"Coherence by RT\")\n",
    "\n",
    "    file_name = paste(output_table_path, \"is_com_vs_RT.tex\", sep=\"\")\n",
    "    print(xtable(choice.output, digits = c(4,4,4,4,4),\n",
    "                 label = \"tab:is_com_vs_RT\",\n",
    "                 caption = \"Parameters of a linear mixed-effects model analysing probability of a change-of-mind \n",
    "                            as a function of coherence and response time.\"), \n",
    "          caption.placement = \"top\", table.placement=\"t\", floating.environment = \"table*\",\n",
    "          math.style.exponents = TRUE, type = \"latex\", booktabs = TRUE, file = file_name)\n",
    "}"
   ]
  },
  {
   "cell_type": "code",
   "execution_count": 85,
   "metadata": {
    "scrolled": false
   },
   "outputs": [
    {
     "name": "stdout",
     "output_type": "stream",
     "text": [
      "Generalized linear mixed model fit by maximum likelihood (Laplace\n",
      "  Approximation) [glmerMod]\n",
      " Family: binomial  ( logit )\n",
      "Formula: is_com ~ (c.(RT) | subj_id) + c.(coherence) * c.(RT)\n",
      "   Data: stats.df\n",
      "\n",
      "     AIC      BIC   logLik deviance df.resid \n",
      "  2156.8   2207.0  -1071.4   2142.8     9557 \n",
      "\n",
      "Scaled residuals: \n",
      "    Min      1Q  Median      3Q     Max \n",
      "-2.3986 -0.1992 -0.1070 -0.0578 22.4107 \n",
      "\n",
      "Random effects:\n",
      " Groups  Name        Variance Std.Dev. Corr \n",
      " subj_id (Intercept) 1.447    1.203         \n",
      "         c.(RT)      1.170    1.081    -0.01\n",
      "Number of obs: 9564, groups:  subj_id, 4\n",
      "\n",
      "Fixed effects:\n",
      "                     Estimate Std. Error z value Pr(>|z|)    \n",
      "(Intercept)           -4.3238     0.6156  -7.024 2.16e-12 ***\n",
      "c.(coherence)         -2.7840     0.6161  -4.519 6.23e-06 ***\n",
      "c.(RT)                 1.4052     0.5945   2.364   0.0181 *  \n",
      "c.(coherence):c.(RT)   2.5390     0.9415   2.697   0.0070 ** \n",
      "---\n",
      "Signif. codes:  0 '***' 0.001 '**' 0.01 '*' 0.05 '.' 0.1 ' ' 1\n",
      "\n",
      "Correlation of Fixed Effects:\n",
      "            (Intr) c.(ch) c.(RT)\n",
      "c.(cohernc)  0.071              \n",
      "c.(RT)      -0.024  0.000       \n",
      "c.(c):.(RT)  0.006 -0.102  0.080\n"
     ]
    }
   ],
   "source": [
    "run_analysis_2(stats.df)"
   ]
  },
  {
   "cell_type": "markdown",
   "metadata": {},
   "source": [
    "# Analysis 3. Response time as a function of coherence"
   ]
  },
  {
   "cell_type": "code",
   "execution_count": 33,
   "metadata": {},
   "outputs": [],
   "source": [
    "rnd_effects_analysis_3 <- function(stats.df){\n",
    "#     stats.df <- stats.df[complete.cases(stats.df[ , \"eye_IT\"]),]\n",
    "    rnd1.lmer = lmer(RT ~ (1|subj_id), stats.df)\n",
    "\n",
    "    rnd2.lmer = lmer(RT ~ (c.(coherence)|subj_id), stats.df)\n",
    "\n",
    "    rnd3.lmer = lmer(RT ~ (is_correct|subj_id), stats.df)\n",
    "\n",
    "    rnd4.lmer = lmer(RT ~ ((c.(coherence)+is_correct)|subj_id), stats.df)\n",
    "    \n",
    "    rnd5.lmer = lmer(RT ~ ((c.(coherence)*is_correct)|subj_id), stats.df)\n",
    "    \n",
    "    rnd.anova = anova(rnd1.lmer, rnd2.lmer, rnd3.lmer, rnd4.lmer, rnd5.lmer)\n",
    "#     rnd.anova = anova(rnd4.lmer, rnd5.lmer)\n",
    "    print(rnd.anova)\n",
    "    print(\"Best model according to AIC\")\n",
    "    print(row.names(rnd.anova[rnd.anova$AIC==min(rnd.anova$AIC), ]))\n",
    "    print(\"Best model according to BIC\")\n",
    "    print(row.names(rnd.anova[rnd.anova$BIC==min(rnd.anova$BIC), ]))\n",
    "}"
   ]
  },
  {
   "cell_type": "code",
   "execution_count": 35,
   "metadata": {},
   "outputs": [
    {
     "name": "stderr",
     "output_type": "stream",
     "text": [
      "singular fit\n",
      "singular fit\n",
      "singular fit\n",
      "singular fit\n",
      "refitting model(s) with ML (instead of REML)\n"
     ]
    },
    {
     "name": "stdout",
     "output_type": "stream",
     "text": [
      "Data: stats.df\n",
      "Models:\n",
      "rnd1.lmer: RT ~ (1 | subj_id)\n",
      "rnd2.lmer: RT ~ (c.(coherence) | subj_id)\n",
      "rnd3.lmer: RT ~ (is_correct | subj_id)\n",
      "rnd4.lmer: RT ~ ((c.(coherence) + is_correct) | subj_id)\n",
      "rnd5.lmer: RT ~ ((c.(coherence) * is_correct) | subj_id)\n",
      "          Df     AIC     BIC  logLik deviance  Chisq Chi Df Pr(>Chisq)    \n",
      "rnd1.lmer  3 12293.6 12315.1 -6143.8  12287.6                             \n",
      "rnd2.lmer  5 10001.8 10037.6 -4995.9   9991.8 2295.8      2  < 2.2e-16 ***\n",
      "rnd3.lmer  5 11572.2 11608.0 -5781.1  11562.2    0.0      0          1    \n",
      "rnd4.lmer  8  9880.4  9937.7 -4932.2   9864.4 1697.8      3  < 2.2e-16 ***\n",
      "rnd5.lmer 12  9827.8  9913.8 -4901.9   9803.8   60.6      4   2.17e-12 ***\n",
      "---\n",
      "Signif. codes:  0 '***' 0.001 '**' 0.01 '*' 0.05 '.' 0.1 ' ' 1\n",
      "[1] \"Best model according to AIC\"\n",
      "[1] \"rnd5.lmer\"\n",
      "[1] \"Best model according to BIC\"\n",
      "[1] \"rnd5.lmer\"\n"
     ]
    }
   ],
   "source": [
    "rnd_effects_analysis_3(stats.df)"
   ]
  },
  {
   "cell_type": "markdown",
   "metadata": {},
   "source": [
    "rnd5 is the best"
   ]
  },
  {
   "cell_type": "code",
   "execution_count": 86,
   "metadata": {},
   "outputs": [],
   "source": [
    "run_analysis_3 <- function(stats.df, exp_name){\n",
    "    choice.mer = lmer(RT ~ ((c.(coherence)*is_correct) | subj_id) + c.(coherence)*is_correct, stats.df)\n",
    "    print(summary(choice.mer))\n",
    "\n",
    "    choice.output = summary(choice.mer)$coefficients\n",
    "\n",
    "    row.names(choice.output) <- c(\"Intercept\", \"Coherence\", \"Is correct\", \"Coherence by Is Correct\")\n",
    "\n",
    "    file_name = paste(output_table_path, \"RT_vs_coh.tex\", sep=\"\")\n",
    "    print(xtable(choice.output, digits = c(4,4,4,4,4,4),\n",
    "                 label = \"tab:RT_vs_coh\",\n",
    "                 caption = \"Parameters of a linear mixed-effects model analysing response time as\n",
    "                            a function of coherence and choice accuracy.\"), \n",
    "          caption.placement = \"top\", table.placement=\"t\", floating.environment = \"table*\",\n",
    "          math.style.exponents = TRUE, type = \"latex\", booktabs = TRUE, file = file_name)\n",
    "}"
   ]
  },
  {
   "cell_type": "code",
   "execution_count": 87,
   "metadata": {},
   "outputs": [
    {
     "name": "stderr",
     "output_type": "stream",
     "text": [
      "singular fit\n"
     ]
    },
    {
     "name": "stdout",
     "output_type": "stream",
     "text": [
      "Linear mixed model fit by REML. t-tests use Satterthwaite's method [\n",
      "lmerModLmerTest]\n",
      "Formula: RT ~ ((c.(coherence) * is_correct) | subj_id) + c.(coherence) *  \n",
      "    is_correct\n",
      "   Data: stats.df\n",
      "\n",
      "REML criterion at convergence: 9811.1\n",
      "\n",
      "Scaled residuals: \n",
      "    Min      1Q  Median      3Q     Max \n",
      "-3.3680 -0.4716 -0.1189  0.2616  7.3463 \n",
      "\n",
      "Random effects:\n",
      " Groups   Name                         Variance Std.Dev. Corr             \n",
      " subj_id  (Intercept)                  0.047198 0.21725                   \n",
      "          c.(coherence)                0.660265 0.81257  -0.94            \n",
      "          is_correctTrue               0.005195 0.07208  -0.97  0.82      \n",
      "          c.(coherence):is_correctTrue 0.033216 0.18225  -0.34 -0.01  0.57\n",
      " Residual                              0.162583 0.40322                   \n",
      "Number of obs: 9564, groups:  subj_id, 4\n",
      "\n",
      "Fixed effects:\n",
      "                             Estimate Std. Error       df t value Pr(>|t|)   \n",
      "(Intercept)                   0.52133    0.10939  2.98221   4.766  0.01779 * \n",
      "c.(coherence)                -0.10402    0.41852  2.93837  -0.249  0.82007   \n",
      "is_correctTrue               -0.17669    0.03862  2.96671  -4.575  0.02008 * \n",
      "c.(coherence):is_correctTrue -0.77570    0.13814  3.81765  -5.615  0.00567 **\n",
      "---\n",
      "Signif. codes:  0 '***' 0.001 '**' 0.01 '*' 0.05 '.' 0.1 ' ' 1\n",
      "\n",
      "Correlation of Fixed Effects:\n",
      "            (Intr) c.(ch) is_crT\n",
      "c.(cohernc) -0.881              \n",
      "is_corrctTr -0.936  0.677       \n",
      "c.(chrn):_T -0.294 -0.178  0.542\n",
      "convergence code: 0\n",
      "singular fit\n",
      "\n"
     ]
    }
   ],
   "source": [
    "run_analysis_3(stats.df)"
   ]
  }
 ],
 "metadata": {
  "kernelspec": {
   "display_name": "R",
   "language": "R",
   "name": "ir"
  },
  "language_info": {
   "codemirror_mode": "r",
   "file_extension": ".r",
   "mimetype": "text/x-r-source",
   "name": "R",
   "pygments_lexer": "r",
   "version": "3.5.1"
  }
 },
 "nbformat": 4,
 "nbformat_minor": 2
}
